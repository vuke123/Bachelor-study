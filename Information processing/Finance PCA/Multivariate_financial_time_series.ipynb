{
 "cells": [
  {
   "attachments": {},
   "cell_type": "markdown",
   "metadata": {
    "id": "qJsxY4wL8mA5"
   },
   "source": [
    "###Obrada informacija\n",
    "\n",
    "#4. Laboratorijska vježba:  Multivarijatni financijski vremenski nizovi\n"
   ]
  },
  {
   "cell_type": "markdown",
   "metadata": {
    "id": "9IrYICOpFRgG"
   },
   "source": [
    "## Uvod\n",
    "\n",
    "U laboratorijskoj vježbi razmatra se dinamika cijena vrijednosnica na financijskim tržištima. Dane su povijesne dnevne cijene 8 ETF-ova (eng. *exchange traded fund*) koji prate određene dioničke, obvezničke ili druge indekse.\n",
    "\n",
    "Ticker | Fond | Klasa imovine\n",
    "--- | --- | ---\n",
    "SPY | SPDR S&P 500 ETF Trust | Equity: U.S. - Large Cap\n",
    "VTI | Vanguard Total Stock Market ETF | Equity: U.S. - Total Market\n",
    "QQQ | Invesco QQQ Trust | Equity: U.S. - Large Cap\n",
    "VEA | Vanguard FTSE Developed Markets ETF | Equity: Developed Markets Ex-U.S. - Total Market\n",
    "AGG | iShares Core U.S. Aggregate Bond ETF | Fixed Income: U.S. - Broad Market, Broad-based Investment Grade\n",
    "BND | Vanguard Total Bond Market ETF | Fixed Income: U.S. - Broad Market, Broad-based Investment Grade\n",
    "LQD | iShares iBoxx USD Investment Grade Corporate Bond ETF | Fixed Income: U.S. - Corporate, Broad-based Investment Grade\n",
    "VCIT | Vanguard Intermediate-Term Corporate Bond ETF | Fixed Income: U.S. - Corporate, Broad-based Investment Grade Intermediate\n",
    "\n",
    "Pri modeliranju zajedničkog kretanja i rizika vrijednosnica, najčešće se koriste povrati:\n",
    "\n",
    "$R(t) = \\frac{S(t)-S(t-1)}{S(t-1)},$\n",
    "\n",
    "gdje je $S(t)$ cijena vrijednosnice u danu $t$. U sklopu ove laboratorijske vježbe cilj je analizirati kretanje danih ETF-ova i izračunati glavne komponente (PCA) koje utječu na njihovu dinamiku. Laboratorijsku vježbu je potrebno riješiti unutar ove bilježnice i predati riješenu bilježnicu kao izvještaj."
   ]
  },
  {
   "cell_type": "code",
   "execution_count": 5,
   "metadata": {
    "colab": {
     "base_uri": "https://localhost:8080/",
     "height": 235
    },
    "id": "Y0gdMrX2oj6v",
    "outputId": "532b5012-3a85-4cbe-9c0a-63e985d7267a"
   },
   "outputs": [
    {
     "data": {
      "text/html": [
       "<div>\n",
       "<style scoped>\n",
       "    .dataframe tbody tr th:only-of-type {\n",
       "        vertical-align: middle;\n",
       "    }\n",
       "\n",
       "    .dataframe tbody tr th {\n",
       "        vertical-align: top;\n",
       "    }\n",
       "\n",
       "    .dataframe thead th {\n",
       "        text-align: right;\n",
       "    }\n",
       "</style>\n",
       "<table border=\"1\" class=\"dataframe\">\n",
       "  <thead>\n",
       "    <tr style=\"text-align: right;\">\n",
       "      <th></th>\n",
       "      <th>SPY</th>\n",
       "      <th>VTI</th>\n",
       "      <th>QQQ</th>\n",
       "      <th>VEA</th>\n",
       "      <th>AGG</th>\n",
       "      <th>BND</th>\n",
       "      <th>LQD</th>\n",
       "      <th>VCIT</th>\n",
       "    </tr>\n",
       "    <tr>\n",
       "      <th>Time</th>\n",
       "      <th></th>\n",
       "      <th></th>\n",
       "      <th></th>\n",
       "      <th></th>\n",
       "      <th></th>\n",
       "      <th></th>\n",
       "      <th></th>\n",
       "      <th></th>\n",
       "    </tr>\n",
       "  </thead>\n",
       "  <tbody>\n",
       "    <tr>\n",
       "      <th>2022-01-10</th>\n",
       "      <td>458.078430</td>\n",
       "      <td>231.924240</td>\n",
       "      <td>377.329224</td>\n",
       "      <td>49.100105</td>\n",
       "      <td>109.858536</td>\n",
       "      <td>81.452065</td>\n",
       "      <td>125.620148</td>\n",
       "      <td>88.636536</td>\n",
       "    </tr>\n",
       "    <tr>\n",
       "      <th>2022-01-11</th>\n",
       "      <td>462.250763</td>\n",
       "      <td>234.236588</td>\n",
       "      <td>382.997437</td>\n",
       "      <td>49.682655</td>\n",
       "      <td>110.063812</td>\n",
       "      <td>81.617920</td>\n",
       "      <td>125.998177</td>\n",
       "      <td>88.753113</td>\n",
       "    </tr>\n",
       "    <tr>\n",
       "      <th>2022-01-12</th>\n",
       "      <td>463.500458</td>\n",
       "      <td>234.600677</td>\n",
       "      <td>384.516266</td>\n",
       "      <td>50.216679</td>\n",
       "      <td>110.063812</td>\n",
       "      <td>81.588654</td>\n",
       "      <td>125.910950</td>\n",
       "      <td>88.811386</td>\n",
       "    </tr>\n",
       "    <tr>\n",
       "      <th>2022-01-13</th>\n",
       "      <td>457.114075</td>\n",
       "      <td>231.166565</td>\n",
       "      <td>374.897156</td>\n",
       "      <td>49.857430</td>\n",
       "      <td>110.259331</td>\n",
       "      <td>81.725235</td>\n",
       "      <td>126.308357</td>\n",
       "      <td>88.976517</td>\n",
       "    </tr>\n",
       "    <tr>\n",
       "      <th>2022-01-14</th>\n",
       "      <td>457.301086</td>\n",
       "      <td>231.255142</td>\n",
       "      <td>377.229950</td>\n",
       "      <td>49.740917</td>\n",
       "      <td>109.643509</td>\n",
       "      <td>81.276474</td>\n",
       "      <td>125.193680</td>\n",
       "      <td>88.481125</td>\n",
       "    </tr>\n",
       "  </tbody>\n",
       "</table>\n",
       "</div>"
      ],
      "text/plain": [
       "                   SPY         VTI         QQQ        VEA         AGG  \\\n",
       "Time                                                                    \n",
       "2022-01-10  458.078430  231.924240  377.329224  49.100105  109.858536   \n",
       "2022-01-11  462.250763  234.236588  382.997437  49.682655  110.063812   \n",
       "2022-01-12  463.500458  234.600677  384.516266  50.216679  110.063812   \n",
       "2022-01-13  457.114075  231.166565  374.897156  49.857430  110.259331   \n",
       "2022-01-14  457.301086  231.255142  377.229950  49.740917  109.643509   \n",
       "\n",
       "                  BND         LQD       VCIT  \n",
       "Time                                          \n",
       "2022-01-10  81.452065  125.620148  88.636536  \n",
       "2022-01-11  81.617920  125.998177  88.753113  \n",
       "2022-01-12  81.588654  125.910950  88.811386  \n",
       "2022-01-13  81.725235  126.308357  88.976517  \n",
       "2022-01-14  81.276474  125.193680  88.481125  "
      ]
     },
     "execution_count": 5,
     "metadata": {},
     "output_type": "execute_result"
    }
   ],
   "source": [
    "import pandas as pd\n",
    "\n",
    "prices = pd.read_csv('ETFprices.csv')\n",
    "prices.set_index('Time', inplace=True)\n",
    "prices.index = pd.to_datetime(prices.index)\n",
    "\n",
    "prices.head()\n"
   ]
  },
  {
   "cell_type": "markdown",
   "metadata": {
    "id": "l3WCkur18mBD"
   },
   "source": [
    "# Zadatak 1 - Računanje korelacijske matrice i matrice kovarijance povrata"
   ]
  },
  {
   "cell_type": "markdown",
   "metadata": {
    "id": "5LQFOnwx8mBD"
   },
   "source": [
    "1.1. U prvom zadatku ove laboratorijske vježbe potrebno je prvo iz danih cijena (gore učitanih u Pandas DataFrame) izračunati dnevne povrate za sve pojedine vrijednosnice (prateći formulu danu u uvodu). \n",
    "\n",
    "Izračunajte srednje povrate i volatilnost (standardnu devijaciju povrata) za svaku pojedinu vrijednosnicu. Pri analizi srednjih povrata i volatilnosti, te se brojke često *anualiziraju* - to znači da se srednji povrati pomnože s $252$ (cca. broj trgovinskih dana u godini), a volatilnost s $\\sqrt{252}$. Izračunajte anualizirane srednje povrate i volatilnosti te rezultate ispišite u konzolu. \n"
   ]
  },
  {
   "cell_type": "code",
   "execution_count": 6,
   "metadata": {},
   "outputs": [],
   "source": [
    "import numpy as np\n",
    "import plotly.graph_objects as go\n"
   ]
  },
  {
   "cell_type": "code",
   "execution_count": 7,
   "metadata": {
    "id": "mltE-yPKGdaf"
   },
   "outputs": [
    {
     "data": {
      "text/plain": [
       "pandas.core.frame.DataFrame"
      ]
     },
     "execution_count": 7,
     "metadata": {},
     "output_type": "execute_result"
    }
   ],
   "source": [
    "prices.shape\n",
    "type(prices)"
   ]
  },
  {
   "cell_type": "code",
   "execution_count": 8,
   "metadata": {},
   "outputs": [],
   "source": [
    "daily_returns = prices.pct_change()"
   ]
  },
  {
   "cell_type": "code",
   "execution_count": 9,
   "metadata": {},
   "outputs": [
    {
     "data": {
      "text/html": [
       "<div>\n",
       "<style scoped>\n",
       "    .dataframe tbody tr th:only-of-type {\n",
       "        vertical-align: middle;\n",
       "    }\n",
       "\n",
       "    .dataframe tbody tr th {\n",
       "        vertical-align: top;\n",
       "    }\n",
       "\n",
       "    .dataframe thead th {\n",
       "        text-align: right;\n",
       "    }\n",
       "</style>\n",
       "<table border=\"1\" class=\"dataframe\">\n",
       "  <thead>\n",
       "    <tr style=\"text-align: right;\">\n",
       "      <th></th>\n",
       "      <th>SPY</th>\n",
       "      <th>VTI</th>\n",
       "      <th>QQQ</th>\n",
       "      <th>VEA</th>\n",
       "      <th>AGG</th>\n",
       "      <th>BND</th>\n",
       "      <th>LQD</th>\n",
       "      <th>VCIT</th>\n",
       "    </tr>\n",
       "    <tr>\n",
       "      <th>Time</th>\n",
       "      <th></th>\n",
       "      <th></th>\n",
       "      <th></th>\n",
       "      <th></th>\n",
       "      <th></th>\n",
       "      <th></th>\n",
       "      <th></th>\n",
       "      <th></th>\n",
       "    </tr>\n",
       "  </thead>\n",
       "  <tbody>\n",
       "    <tr>\n",
       "      <th>2022-01-10</th>\n",
       "      <td>NaN</td>\n",
       "      <td>NaN</td>\n",
       "      <td>NaN</td>\n",
       "      <td>NaN</td>\n",
       "      <td>NaN</td>\n",
       "      <td>NaN</td>\n",
       "      <td>NaN</td>\n",
       "      <td>NaN</td>\n",
       "    </tr>\n",
       "    <tr>\n",
       "      <th>2022-01-11</th>\n",
       "      <td>0.009108</td>\n",
       "      <td>0.009970</td>\n",
       "      <td>0.015022</td>\n",
       "      <td>0.011865</td>\n",
       "      <td>0.001869</td>\n",
       "      <td>0.002036</td>\n",
       "      <td>0.003009</td>\n",
       "      <td>0.001315</td>\n",
       "    </tr>\n",
       "    <tr>\n",
       "      <th>2022-01-12</th>\n",
       "      <td>0.002704</td>\n",
       "      <td>0.001554</td>\n",
       "      <td>0.003966</td>\n",
       "      <td>0.010749</td>\n",
       "      <td>0.000000</td>\n",
       "      <td>-0.000359</td>\n",
       "      <td>-0.000692</td>\n",
       "      <td>0.000657</td>\n",
       "    </tr>\n",
       "    <tr>\n",
       "      <th>2022-01-13</th>\n",
       "      <td>-0.013779</td>\n",
       "      <td>-0.014638</td>\n",
       "      <td>-0.025016</td>\n",
       "      <td>-0.007154</td>\n",
       "      <td>0.001776</td>\n",
       "      <td>0.001674</td>\n",
       "      <td>0.003156</td>\n",
       "      <td>0.001859</td>\n",
       "    </tr>\n",
       "    <tr>\n",
       "      <th>2022-01-14</th>\n",
       "      <td>0.000409</td>\n",
       "      <td>0.000383</td>\n",
       "      <td>0.006222</td>\n",
       "      <td>-0.002337</td>\n",
       "      <td>-0.005585</td>\n",
       "      <td>-0.005491</td>\n",
       "      <td>-0.008825</td>\n",
       "      <td>-0.005568</td>\n",
       "    </tr>\n",
       "  </tbody>\n",
       "</table>\n",
       "</div>"
      ],
      "text/plain": [
       "                 SPY       VTI       QQQ       VEA       AGG       BND  \\\n",
       "Time                                                                     \n",
       "2022-01-10       NaN       NaN       NaN       NaN       NaN       NaN   \n",
       "2022-01-11  0.009108  0.009970  0.015022  0.011865  0.001869  0.002036   \n",
       "2022-01-12  0.002704  0.001554  0.003966  0.010749  0.000000 -0.000359   \n",
       "2022-01-13 -0.013779 -0.014638 -0.025016 -0.007154  0.001776  0.001674   \n",
       "2022-01-14  0.000409  0.000383  0.006222 -0.002337 -0.005585 -0.005491   \n",
       "\n",
       "                 LQD      VCIT  \n",
       "Time                            \n",
       "2022-01-10       NaN       NaN  \n",
       "2022-01-11  0.003009  0.001315  \n",
       "2022-01-12 -0.000692  0.000657  \n",
       "2022-01-13  0.003156  0.001859  \n",
       "2022-01-14 -0.008825 -0.005568  "
      ]
     },
     "execution_count": 9,
     "metadata": {},
     "output_type": "execute_result"
    }
   ],
   "source": [
    "daily_returns.head()"
   ]
  },
  {
   "cell_type": "code",
   "execution_count": 10,
   "metadata": {},
   "outputs": [
    {
     "name": "stdout",
     "output_type": "stream",
     "text": [
      "DatetimeIndex(['2022-01-10', '2022-01-11', '2022-01-12', '2022-01-13',\n",
      "               '2022-01-14', '2022-01-18', '2022-01-19', '2022-01-20',\n",
      "               '2022-01-21', '2022-01-24',\n",
      "               ...\n",
      "               '2022-12-23', '2022-12-27', '2022-12-28', '2022-12-29',\n",
      "               '2022-12-30', '2023-01-03', '2023-01-04', '2023-01-05',\n",
      "               '2023-01-06', '2023-01-09'],\n",
      "              dtype='datetime64[ns]', name='Time', length=251, freq=None)\n"
     ]
    }
   ],
   "source": [
    "print(daily_returns.index)"
   ]
  },
  {
   "cell_type": "code",
   "execution_count": 11,
   "metadata": {
    "scrolled": true
   },
   "outputs": [],
   "source": [
    "daily_returns = daily_returns.drop(labels='2022-01-10', axis=0)"
   ]
  },
  {
   "cell_type": "code",
   "execution_count": 12,
   "metadata": {},
   "outputs": [
    {
     "name": "stderr",
     "output_type": "stream",
     "text": [
      "c:\\Users\\Luka\\anaconda3\\lib\\site-packages\\numpy\\core\\fromnumeric.py:3472: FutureWarning: In a future version, DataFrame.mean(axis=None) will return a scalar mean over the entire DataFrame. To retain the old behavior, use 'frame.mean(axis=0)' or just 'frame.mean()'\n",
      "  return mean(axis=axis, dtype=dtype, out=out, **kwargs)\n"
     ]
    }
   ],
   "source": [
    "mean_returns = np.mean(daily_returns)\n",
    "std_dev_returns = np.std(daily_returns)\n",
    "ann_mean_returns = mean_returns * 252\n",
    "ann_std_dev_returns = std_dev_returns * np.sqrt(252)"
   ]
  },
  {
   "cell_type": "code",
   "execution_count": 13,
   "metadata": {},
   "outputs": [
    {
     "data": {
      "text/plain": [
       "SPY   -0.138092\n",
       "VTI   -0.148174\n",
       "QQQ   -0.283459\n",
       "VEA   -0.092129\n",
       "AGG   -0.098139\n",
       "dtype: float64"
      ]
     },
     "execution_count": 13,
     "metadata": {},
     "output_type": "execute_result"
    }
   ],
   "source": [
    "ann_mean_returns.head()"
   ]
  },
  {
   "cell_type": "code",
   "execution_count": 14,
   "metadata": {},
   "outputs": [
    {
     "data": {
      "text/plain": [
       "SPY    0.243167\n",
       "VTI    0.249412\n",
       "QQQ    0.321417\n",
       "VEA    0.224236\n",
       "AGG    0.081142\n",
       "dtype: float64"
      ]
     },
     "execution_count": 14,
     "metadata": {},
     "output_type": "execute_result"
    }
   ],
   "source": [
    "ann_std_dev_returns.head()"
   ]
  },
  {
   "cell_type": "markdown",
   "metadata": {
    "id": "fzZ8zgxqGj_9"
   },
   "source": [
    "1.2 Koristeći dnevne povrate, potrebno je izračunati matricu kovarijance $\\Sigma$ i matricu korelacije $C$ svih ETF-ova. Kovarijancu i korelaciju moguće je iz podataka izračunati koristeći Pandas, ali i NumPy ili neke druge biblioteke. Matrice ispišite u konzolu ili vizualizirajte. "
   ]
  },
  {
   "cell_type": "code",
   "execution_count": 15,
   "metadata": {
    "id": "kd6uSMtQw2Yu"
   },
   "outputs": [],
   "source": [
    "cov_matrix = daily_returns.cov()\n",
    "corr_matrix = daily_returns.corr()"
   ]
  },
  {
   "cell_type": "code",
   "execution_count": 16,
   "metadata": {},
   "outputs": [
    {
     "data": {
      "text/html": [
       "<div>\n",
       "<style scoped>\n",
       "    .dataframe tbody tr th:only-of-type {\n",
       "        vertical-align: middle;\n",
       "    }\n",
       "\n",
       "    .dataframe tbody tr th {\n",
       "        vertical-align: top;\n",
       "    }\n",
       "\n",
       "    .dataframe thead th {\n",
       "        text-align: right;\n",
       "    }\n",
       "</style>\n",
       "<table border=\"1\" class=\"dataframe\">\n",
       "  <thead>\n",
       "    <tr style=\"text-align: right;\">\n",
       "      <th></th>\n",
       "      <th>SPY</th>\n",
       "      <th>VTI</th>\n",
       "      <th>QQQ</th>\n",
       "      <th>VEA</th>\n",
       "      <th>AGG</th>\n",
       "      <th>BND</th>\n",
       "      <th>LQD</th>\n",
       "      <th>VCIT</th>\n",
       "    </tr>\n",
       "  </thead>\n",
       "  <tbody>\n",
       "    <tr>\n",
       "      <th>SPY</th>\n",
       "      <td>0.000236</td>\n",
       "      <td>0.000241</td>\n",
       "      <td>0.000301</td>\n",
       "      <td>0.000189</td>\n",
       "      <td>0.000026</td>\n",
       "      <td>0.000026</td>\n",
       "      <td>0.000057</td>\n",
       "      <td>0.000045</td>\n",
       "    </tr>\n",
       "    <tr>\n",
       "      <th>VTI</th>\n",
       "      <td>0.000241</td>\n",
       "      <td>0.000248</td>\n",
       "      <td>0.000310</td>\n",
       "      <td>0.000195</td>\n",
       "      <td>0.000027</td>\n",
       "      <td>0.000027</td>\n",
       "      <td>0.000059</td>\n",
       "      <td>0.000046</td>\n",
       "    </tr>\n",
       "    <tr>\n",
       "      <th>QQQ</th>\n",
       "      <td>0.000301</td>\n",
       "      <td>0.000310</td>\n",
       "      <td>0.000412</td>\n",
       "      <td>0.000236</td>\n",
       "      <td>0.000033</td>\n",
       "      <td>0.000033</td>\n",
       "      <td>0.000073</td>\n",
       "      <td>0.000056</td>\n",
       "    </tr>\n",
       "    <tr>\n",
       "      <th>VEA</th>\n",
       "      <td>0.000189</td>\n",
       "      <td>0.000195</td>\n",
       "      <td>0.000236</td>\n",
       "      <td>0.000200</td>\n",
       "      <td>0.000025</td>\n",
       "      <td>0.000025</td>\n",
       "      <td>0.000054</td>\n",
       "      <td>0.000042</td>\n",
       "    </tr>\n",
       "    <tr>\n",
       "      <th>AGG</th>\n",
       "      <td>0.000026</td>\n",
       "      <td>0.000027</td>\n",
       "      <td>0.000033</td>\n",
       "      <td>0.000025</td>\n",
       "      <td>0.000026</td>\n",
       "      <td>0.000026</td>\n",
       "      <td>0.000038</td>\n",
       "      <td>0.000029</td>\n",
       "    </tr>\n",
       "  </tbody>\n",
       "</table>\n",
       "</div>"
      ],
      "text/plain": [
       "          SPY       VTI       QQQ       VEA       AGG       BND       LQD  \\\n",
       "SPY  0.000236  0.000241  0.000301  0.000189  0.000026  0.000026  0.000057   \n",
       "VTI  0.000241  0.000248  0.000310  0.000195  0.000027  0.000027  0.000059   \n",
       "QQQ  0.000301  0.000310  0.000412  0.000236  0.000033  0.000033  0.000073   \n",
       "VEA  0.000189  0.000195  0.000236  0.000200  0.000025  0.000025  0.000054   \n",
       "AGG  0.000026  0.000027  0.000033  0.000025  0.000026  0.000026  0.000038   \n",
       "\n",
       "         VCIT  \n",
       "SPY  0.000045  \n",
       "VTI  0.000046  \n",
       "QQQ  0.000056  \n",
       "VEA  0.000042  \n",
       "AGG  0.000029  "
      ]
     },
     "execution_count": 16,
     "metadata": {},
     "output_type": "execute_result"
    }
   ],
   "source": [
    "cov_matrix.head()"
   ]
  },
  {
   "cell_type": "raw",
   "metadata": {},
   "source": [
    "corr_matrix.head()"
   ]
  },
  {
   "cell_type": "code",
   "execution_count": 17,
   "metadata": {},
   "outputs": [
    {
     "data": {
      "application/vnd.plotly.v1+json": {
       "config": {
        "plotlyServerURL": "https://plot.ly"
       },
       "data": [
        {
         "type": "heatmap",
         "z": [
          [
           0.00023558615755568825,
           0.00024096729533370037,
           0.00030133657192947993,
           0.0001894158979707154,
           0.000026025122114454652,
           0.00002580202669809668,
           0.00005733207013799682,
           0.00004487315345127889
          ],
          [
           0.00024096729533370037,
           0.0002478417361544183,
           0.0003101329993163591,
           0.00019505160938406078,
           0.000027147422056552203,
           0.000026879558477746787,
           0.00005949568189595854,
           0.00004645333279557098
          ],
          [
           0.00030133657192947993,
           0.0003101329993163591,
           0.00041160145158420454,
           0.00023553604958075107,
           0.000032535648742797214,
           0.00003250819297227188,
           0.00007292916013722021,
           0.000056290209184354705
          ],
          [
           0.0001894158979707154,
           0.00019505160938406078,
           0.00023553604958075107,
           0.0002003328625669393,
           0.000025384297465814404,
           0.00002497220697298713,
           0.000053743815985716676,
           0.00004191724628714495
          ],
          [
           0.000026025122114454652,
           0.000027147422056552203,
           0.000032535648742797214,
           0.000025384297465814404,
           0.00002623202344200271,
           0.000025941085899753908,
           0.0000378122250932517,
           0.000029338081118276998
          ],
          [
           0.00002580202669809668,
           0.000026879558477746787,
           0.00003250819297227188,
           0.00002497220697298713,
           0.000025941085899753908,
           0.0000258403240556583,
           0.000037473108086314135,
           0.00002905549442322299
          ],
          [
           0.00005733207013799682,
           0.00005949568189595854,
           0.00007292916013722021,
           0.000053743815985716676,
           0.0000378122250932517,
           0.000037473108086314135,
           0.000060969381270121315,
           0.000045705090584569926
          ],
          [
           0.00004487315345127889,
           0.00004645333279557098,
           0.000056290209184354705,
           0.00004191724628714495,
           0.000029338081118276998,
           0.00002905549442322299,
           0.000045705090584569926,
           0.000036156592370735266
          ]
         ]
        }
       ],
       "layout": {
        "template": {
         "data": {
          "bar": [
           {
            "error_x": {
             "color": "#2a3f5f"
            },
            "error_y": {
             "color": "#2a3f5f"
            },
            "marker": {
             "line": {
              "color": "#E5ECF6",
              "width": 0.5
             },
             "pattern": {
              "fillmode": "overlay",
              "size": 10,
              "solidity": 0.2
             }
            },
            "type": "bar"
           }
          ],
          "barpolar": [
           {
            "marker": {
             "line": {
              "color": "#E5ECF6",
              "width": 0.5
             },
             "pattern": {
              "fillmode": "overlay",
              "size": 10,
              "solidity": 0.2
             }
            },
            "type": "barpolar"
           }
          ],
          "carpet": [
           {
            "aaxis": {
             "endlinecolor": "#2a3f5f",
             "gridcolor": "white",
             "linecolor": "white",
             "minorgridcolor": "white",
             "startlinecolor": "#2a3f5f"
            },
            "baxis": {
             "endlinecolor": "#2a3f5f",
             "gridcolor": "white",
             "linecolor": "white",
             "minorgridcolor": "white",
             "startlinecolor": "#2a3f5f"
            },
            "type": "carpet"
           }
          ],
          "choropleth": [
           {
            "colorbar": {
             "outlinewidth": 0,
             "ticks": ""
            },
            "type": "choropleth"
           }
          ],
          "contour": [
           {
            "colorbar": {
             "outlinewidth": 0,
             "ticks": ""
            },
            "colorscale": [
             [
              0,
              "#0d0887"
             ],
             [
              0.1111111111111111,
              "#46039f"
             ],
             [
              0.2222222222222222,
              "#7201a8"
             ],
             [
              0.3333333333333333,
              "#9c179e"
             ],
             [
              0.4444444444444444,
              "#bd3786"
             ],
             [
              0.5555555555555556,
              "#d8576b"
             ],
             [
              0.6666666666666666,
              "#ed7953"
             ],
             [
              0.7777777777777778,
              "#fb9f3a"
             ],
             [
              0.8888888888888888,
              "#fdca26"
             ],
             [
              1,
              "#f0f921"
             ]
            ],
            "type": "contour"
           }
          ],
          "contourcarpet": [
           {
            "colorbar": {
             "outlinewidth": 0,
             "ticks": ""
            },
            "type": "contourcarpet"
           }
          ],
          "heatmap": [
           {
            "colorbar": {
             "outlinewidth": 0,
             "ticks": ""
            },
            "colorscale": [
             [
              0,
              "#0d0887"
             ],
             [
              0.1111111111111111,
              "#46039f"
             ],
             [
              0.2222222222222222,
              "#7201a8"
             ],
             [
              0.3333333333333333,
              "#9c179e"
             ],
             [
              0.4444444444444444,
              "#bd3786"
             ],
             [
              0.5555555555555556,
              "#d8576b"
             ],
             [
              0.6666666666666666,
              "#ed7953"
             ],
             [
              0.7777777777777778,
              "#fb9f3a"
             ],
             [
              0.8888888888888888,
              "#fdca26"
             ],
             [
              1,
              "#f0f921"
             ]
            ],
            "type": "heatmap"
           }
          ],
          "heatmapgl": [
           {
            "colorbar": {
             "outlinewidth": 0,
             "ticks": ""
            },
            "colorscale": [
             [
              0,
              "#0d0887"
             ],
             [
              0.1111111111111111,
              "#46039f"
             ],
             [
              0.2222222222222222,
              "#7201a8"
             ],
             [
              0.3333333333333333,
              "#9c179e"
             ],
             [
              0.4444444444444444,
              "#bd3786"
             ],
             [
              0.5555555555555556,
              "#d8576b"
             ],
             [
              0.6666666666666666,
              "#ed7953"
             ],
             [
              0.7777777777777778,
              "#fb9f3a"
             ],
             [
              0.8888888888888888,
              "#fdca26"
             ],
             [
              1,
              "#f0f921"
             ]
            ],
            "type": "heatmapgl"
           }
          ],
          "histogram": [
           {
            "marker": {
             "pattern": {
              "fillmode": "overlay",
              "size": 10,
              "solidity": 0.2
             }
            },
            "type": "histogram"
           }
          ],
          "histogram2d": [
           {
            "colorbar": {
             "outlinewidth": 0,
             "ticks": ""
            },
            "colorscale": [
             [
              0,
              "#0d0887"
             ],
             [
              0.1111111111111111,
              "#46039f"
             ],
             [
              0.2222222222222222,
              "#7201a8"
             ],
             [
              0.3333333333333333,
              "#9c179e"
             ],
             [
              0.4444444444444444,
              "#bd3786"
             ],
             [
              0.5555555555555556,
              "#d8576b"
             ],
             [
              0.6666666666666666,
              "#ed7953"
             ],
             [
              0.7777777777777778,
              "#fb9f3a"
             ],
             [
              0.8888888888888888,
              "#fdca26"
             ],
             [
              1,
              "#f0f921"
             ]
            ],
            "type": "histogram2d"
           }
          ],
          "histogram2dcontour": [
           {
            "colorbar": {
             "outlinewidth": 0,
             "ticks": ""
            },
            "colorscale": [
             [
              0,
              "#0d0887"
             ],
             [
              0.1111111111111111,
              "#46039f"
             ],
             [
              0.2222222222222222,
              "#7201a8"
             ],
             [
              0.3333333333333333,
              "#9c179e"
             ],
             [
              0.4444444444444444,
              "#bd3786"
             ],
             [
              0.5555555555555556,
              "#d8576b"
             ],
             [
              0.6666666666666666,
              "#ed7953"
             ],
             [
              0.7777777777777778,
              "#fb9f3a"
             ],
             [
              0.8888888888888888,
              "#fdca26"
             ],
             [
              1,
              "#f0f921"
             ]
            ],
            "type": "histogram2dcontour"
           }
          ],
          "mesh3d": [
           {
            "colorbar": {
             "outlinewidth": 0,
             "ticks": ""
            },
            "type": "mesh3d"
           }
          ],
          "parcoords": [
           {
            "line": {
             "colorbar": {
              "outlinewidth": 0,
              "ticks": ""
             }
            },
            "type": "parcoords"
           }
          ],
          "pie": [
           {
            "automargin": true,
            "type": "pie"
           }
          ],
          "scatter": [
           {
            "marker": {
             "colorbar": {
              "outlinewidth": 0,
              "ticks": ""
             }
            },
            "type": "scatter"
           }
          ],
          "scatter3d": [
           {
            "line": {
             "colorbar": {
              "outlinewidth": 0,
              "ticks": ""
             }
            },
            "marker": {
             "colorbar": {
              "outlinewidth": 0,
              "ticks": ""
             }
            },
            "type": "scatter3d"
           }
          ],
          "scattercarpet": [
           {
            "marker": {
             "colorbar": {
              "outlinewidth": 0,
              "ticks": ""
             }
            },
            "type": "scattercarpet"
           }
          ],
          "scattergeo": [
           {
            "marker": {
             "colorbar": {
              "outlinewidth": 0,
              "ticks": ""
             }
            },
            "type": "scattergeo"
           }
          ],
          "scattergl": [
           {
            "marker": {
             "colorbar": {
              "outlinewidth": 0,
              "ticks": ""
             }
            },
            "type": "scattergl"
           }
          ],
          "scattermapbox": [
           {
            "marker": {
             "colorbar": {
              "outlinewidth": 0,
              "ticks": ""
             }
            },
            "type": "scattermapbox"
           }
          ],
          "scatterpolar": [
           {
            "marker": {
             "colorbar": {
              "outlinewidth": 0,
              "ticks": ""
             }
            },
            "type": "scatterpolar"
           }
          ],
          "scatterpolargl": [
           {
            "marker": {
             "colorbar": {
              "outlinewidth": 0,
              "ticks": ""
             }
            },
            "type": "scatterpolargl"
           }
          ],
          "scatterternary": [
           {
            "marker": {
             "colorbar": {
              "outlinewidth": 0,
              "ticks": ""
             }
            },
            "type": "scatterternary"
           }
          ],
          "surface": [
           {
            "colorbar": {
             "outlinewidth": 0,
             "ticks": ""
            },
            "colorscale": [
             [
              0,
              "#0d0887"
             ],
             [
              0.1111111111111111,
              "#46039f"
             ],
             [
              0.2222222222222222,
              "#7201a8"
             ],
             [
              0.3333333333333333,
              "#9c179e"
             ],
             [
              0.4444444444444444,
              "#bd3786"
             ],
             [
              0.5555555555555556,
              "#d8576b"
             ],
             [
              0.6666666666666666,
              "#ed7953"
             ],
             [
              0.7777777777777778,
              "#fb9f3a"
             ],
             [
              0.8888888888888888,
              "#fdca26"
             ],
             [
              1,
              "#f0f921"
             ]
            ],
            "type": "surface"
           }
          ],
          "table": [
           {
            "cells": {
             "fill": {
              "color": "#EBF0F8"
             },
             "line": {
              "color": "white"
             }
            },
            "header": {
             "fill": {
              "color": "#C8D4E3"
             },
             "line": {
              "color": "white"
             }
            },
            "type": "table"
           }
          ]
         },
         "layout": {
          "annotationdefaults": {
           "arrowcolor": "#2a3f5f",
           "arrowhead": 0,
           "arrowwidth": 1
          },
          "autotypenumbers": "strict",
          "coloraxis": {
           "colorbar": {
            "outlinewidth": 0,
            "ticks": ""
           }
          },
          "colorscale": {
           "diverging": [
            [
             0,
             "#8e0152"
            ],
            [
             0.1,
             "#c51b7d"
            ],
            [
             0.2,
             "#de77ae"
            ],
            [
             0.3,
             "#f1b6da"
            ],
            [
             0.4,
             "#fde0ef"
            ],
            [
             0.5,
             "#f7f7f7"
            ],
            [
             0.6,
             "#e6f5d0"
            ],
            [
             0.7,
             "#b8e186"
            ],
            [
             0.8,
             "#7fbc41"
            ],
            [
             0.9,
             "#4d9221"
            ],
            [
             1,
             "#276419"
            ]
           ],
           "sequential": [
            [
             0,
             "#0d0887"
            ],
            [
             0.1111111111111111,
             "#46039f"
            ],
            [
             0.2222222222222222,
             "#7201a8"
            ],
            [
             0.3333333333333333,
             "#9c179e"
            ],
            [
             0.4444444444444444,
             "#bd3786"
            ],
            [
             0.5555555555555556,
             "#d8576b"
            ],
            [
             0.6666666666666666,
             "#ed7953"
            ],
            [
             0.7777777777777778,
             "#fb9f3a"
            ],
            [
             0.8888888888888888,
             "#fdca26"
            ],
            [
             1,
             "#f0f921"
            ]
           ],
           "sequentialminus": [
            [
             0,
             "#0d0887"
            ],
            [
             0.1111111111111111,
             "#46039f"
            ],
            [
             0.2222222222222222,
             "#7201a8"
            ],
            [
             0.3333333333333333,
             "#9c179e"
            ],
            [
             0.4444444444444444,
             "#bd3786"
            ],
            [
             0.5555555555555556,
             "#d8576b"
            ],
            [
             0.6666666666666666,
             "#ed7953"
            ],
            [
             0.7777777777777778,
             "#fb9f3a"
            ],
            [
             0.8888888888888888,
             "#fdca26"
            ],
            [
             1,
             "#f0f921"
            ]
           ]
          },
          "colorway": [
           "#636efa",
           "#EF553B",
           "#00cc96",
           "#ab63fa",
           "#FFA15A",
           "#19d3f3",
           "#FF6692",
           "#B6E880",
           "#FF97FF",
           "#FECB52"
          ],
          "font": {
           "color": "#2a3f5f"
          },
          "geo": {
           "bgcolor": "white",
           "lakecolor": "white",
           "landcolor": "#E5ECF6",
           "showlakes": true,
           "showland": true,
           "subunitcolor": "white"
          },
          "hoverlabel": {
           "align": "left"
          },
          "hovermode": "closest",
          "mapbox": {
           "style": "light"
          },
          "paper_bgcolor": "white",
          "plot_bgcolor": "#E5ECF6",
          "polar": {
           "angularaxis": {
            "gridcolor": "white",
            "linecolor": "white",
            "ticks": ""
           },
           "bgcolor": "#E5ECF6",
           "radialaxis": {
            "gridcolor": "white",
            "linecolor": "white",
            "ticks": ""
           }
          },
          "scene": {
           "xaxis": {
            "backgroundcolor": "#E5ECF6",
            "gridcolor": "white",
            "gridwidth": 2,
            "linecolor": "white",
            "showbackground": true,
            "ticks": "",
            "zerolinecolor": "white"
           },
           "yaxis": {
            "backgroundcolor": "#E5ECF6",
            "gridcolor": "white",
            "gridwidth": 2,
            "linecolor": "white",
            "showbackground": true,
            "ticks": "",
            "zerolinecolor": "white"
           },
           "zaxis": {
            "backgroundcolor": "#E5ECF6",
            "gridcolor": "white",
            "gridwidth": 2,
            "linecolor": "white",
            "showbackground": true,
            "ticks": "",
            "zerolinecolor": "white"
           }
          },
          "shapedefaults": {
           "line": {
            "color": "#2a3f5f"
           }
          },
          "ternary": {
           "aaxis": {
            "gridcolor": "white",
            "linecolor": "white",
            "ticks": ""
           },
           "baxis": {
            "gridcolor": "white",
            "linecolor": "white",
            "ticks": ""
           },
           "bgcolor": "#E5ECF6",
           "caxis": {
            "gridcolor": "white",
            "linecolor": "white",
            "ticks": ""
           }
          },
          "title": {
           "x": 0.05
          },
          "xaxis": {
           "automargin": true,
           "gridcolor": "white",
           "linecolor": "white",
           "ticks": "",
           "title": {
            "standoff": 15
           },
           "zerolinecolor": "white",
           "zerolinewidth": 2
          },
          "yaxis": {
           "automargin": true,
           "gridcolor": "white",
           "linecolor": "white",
           "ticks": "",
           "title": {
            "standoff": 15
           },
           "zerolinecolor": "white",
           "zerolinewidth": 2
          }
         }
        },
        "title": {
         "text": "Covariance Matrix Heatmap"
        },
        "xaxis": {
         "anchor": "y",
         "domain": [
          0,
          1
         ],
         "ticktext": [
          "SPY",
          "VTI",
          "QQQ",
          "VEA",
          "AGG",
          "BND",
          "LQD",
          "VCIT"
         ],
         "tickvals": [
          0,
          1,
          2,
          3,
          4,
          5,
          6,
          7
         ]
        },
        "yaxis": {
         "anchor": "x",
         "domain": [
          0,
          1
         ],
         "ticktext": [
          "SPY",
          "VTI",
          "QQQ",
          "VEA",
          "AGG",
          "BND",
          "LQD",
          "VCIT"
         ],
         "tickvals": [
          0,
          1,
          2,
          3,
          4,
          5,
          6,
          7
         ]
        }
       }
      }
     },
     "metadata": {},
     "output_type": "display_data"
    }
   ],
   "source": [
    "from plotly.subplots import make_subplots\n",
    "\n",
    "fig = make_subplots(rows=1, cols=1)\n",
    "fig.add_trace(go.Heatmap(z=cov_matrix))\n",
    "\n",
    "fig.update_layout(title=\"Covariance Matrix Heatmap\")\n",
    "fig.update_xaxes(ticktext=[\"SPY\", \"VTI\", \"QQQ\", \"VEA\", \"AGG\", \"BND\", \"LQD\", \"VCIT\"],\n",
    "                tickvals=[0,1,2,3,4,5,6,7])\n",
    "fig.update_yaxes(ticktext=[\"SPY\", \"VTI\", \"QQQ\", \"VEA\", \"AGG\", \"BND\", \"LQD\", \"VCIT\"],\n",
    "                tickvals=[0,1,2,3,4,5,6,7])\n",
    "fig.show()\n"
   ]
  },
  {
   "cell_type": "code",
   "execution_count": 18,
   "metadata": {},
   "outputs": [
    {
     "data": {
      "application/vnd.plotly.v1+json": {
       "config": {
        "plotlyServerURL": "https://plot.ly"
       },
       "data": [
        {
         "type": "heatmap",
         "z": [
          [
           1,
           0.9972315206843737,
           0.9676950289121093,
           0.8718975241396903,
           0.33105640577554235,
           0.3306967737595199,
           0.47837320454631466,
           0.48620336429593003
          ],
          [
           0.9972315206843737,
           1,
           0.9710068844168305,
           0.8753590343503503,
           0.33668632531680853,
           0.3358813820717871,
           0.4839966227715878,
           0.4907224309389948
          ],
          [
           0.9676950289121093,
           0.9710068844168305,
           1,
           0.8202435794065143,
           0.3131159031690556,
           0.3152139305258283,
           0.46036984563903327,
           0.4614245179743976
          ],
          [
           0.8718975241396903,
           0.8753590343503503,
           0.8202435794065143,
           1,
           0.3501653380127643,
           0.34708180676612677,
           0.4862913082802012,
           0.4925188984550878
          ],
          [
           0.33105640577554235,
           0.33668632531680853,
           0.3131159031690556,
           0.3501653380127643,
           1,
           0.9963760459845306,
           0.9454976304978461,
           0.9526251930472344
          ],
          [
           0.3306967737595199,
           0.3358813820717871,
           0.3152139305258283,
           0.34708180676612677,
           0.9963760459845306,
           1,
           0.9440931444831907,
           0.950573155785838
          ],
          [
           0.47837320454631466,
           0.4839966227715878,
           0.46036984563903327,
           0.4862913082802012,
           0.9454976304978461,
           0.9440931444831907,
           1,
           0.9734528784419806
          ],
          [
           0.48620336429593003,
           0.4907224309389948,
           0.4614245179743976,
           0.4925188984550878,
           0.9526251930472344,
           0.950573155785838,
           0.9734528784419806,
           1
          ]
         ]
        }
       ],
       "layout": {
        "template": {
         "data": {
          "bar": [
           {
            "error_x": {
             "color": "#2a3f5f"
            },
            "error_y": {
             "color": "#2a3f5f"
            },
            "marker": {
             "line": {
              "color": "#E5ECF6",
              "width": 0.5
             },
             "pattern": {
              "fillmode": "overlay",
              "size": 10,
              "solidity": 0.2
             }
            },
            "type": "bar"
           }
          ],
          "barpolar": [
           {
            "marker": {
             "line": {
              "color": "#E5ECF6",
              "width": 0.5
             },
             "pattern": {
              "fillmode": "overlay",
              "size": 10,
              "solidity": 0.2
             }
            },
            "type": "barpolar"
           }
          ],
          "carpet": [
           {
            "aaxis": {
             "endlinecolor": "#2a3f5f",
             "gridcolor": "white",
             "linecolor": "white",
             "minorgridcolor": "white",
             "startlinecolor": "#2a3f5f"
            },
            "baxis": {
             "endlinecolor": "#2a3f5f",
             "gridcolor": "white",
             "linecolor": "white",
             "minorgridcolor": "white",
             "startlinecolor": "#2a3f5f"
            },
            "type": "carpet"
           }
          ],
          "choropleth": [
           {
            "colorbar": {
             "outlinewidth": 0,
             "ticks": ""
            },
            "type": "choropleth"
           }
          ],
          "contour": [
           {
            "colorbar": {
             "outlinewidth": 0,
             "ticks": ""
            },
            "colorscale": [
             [
              0,
              "#0d0887"
             ],
             [
              0.1111111111111111,
              "#46039f"
             ],
             [
              0.2222222222222222,
              "#7201a8"
             ],
             [
              0.3333333333333333,
              "#9c179e"
             ],
             [
              0.4444444444444444,
              "#bd3786"
             ],
             [
              0.5555555555555556,
              "#d8576b"
             ],
             [
              0.6666666666666666,
              "#ed7953"
             ],
             [
              0.7777777777777778,
              "#fb9f3a"
             ],
             [
              0.8888888888888888,
              "#fdca26"
             ],
             [
              1,
              "#f0f921"
             ]
            ],
            "type": "contour"
           }
          ],
          "contourcarpet": [
           {
            "colorbar": {
             "outlinewidth": 0,
             "ticks": ""
            },
            "type": "contourcarpet"
           }
          ],
          "heatmap": [
           {
            "colorbar": {
             "outlinewidth": 0,
             "ticks": ""
            },
            "colorscale": [
             [
              0,
              "#0d0887"
             ],
             [
              0.1111111111111111,
              "#46039f"
             ],
             [
              0.2222222222222222,
              "#7201a8"
             ],
             [
              0.3333333333333333,
              "#9c179e"
             ],
             [
              0.4444444444444444,
              "#bd3786"
             ],
             [
              0.5555555555555556,
              "#d8576b"
             ],
             [
              0.6666666666666666,
              "#ed7953"
             ],
             [
              0.7777777777777778,
              "#fb9f3a"
             ],
             [
              0.8888888888888888,
              "#fdca26"
             ],
             [
              1,
              "#f0f921"
             ]
            ],
            "type": "heatmap"
           }
          ],
          "heatmapgl": [
           {
            "colorbar": {
             "outlinewidth": 0,
             "ticks": ""
            },
            "colorscale": [
             [
              0,
              "#0d0887"
             ],
             [
              0.1111111111111111,
              "#46039f"
             ],
             [
              0.2222222222222222,
              "#7201a8"
             ],
             [
              0.3333333333333333,
              "#9c179e"
             ],
             [
              0.4444444444444444,
              "#bd3786"
             ],
             [
              0.5555555555555556,
              "#d8576b"
             ],
             [
              0.6666666666666666,
              "#ed7953"
             ],
             [
              0.7777777777777778,
              "#fb9f3a"
             ],
             [
              0.8888888888888888,
              "#fdca26"
             ],
             [
              1,
              "#f0f921"
             ]
            ],
            "type": "heatmapgl"
           }
          ],
          "histogram": [
           {
            "marker": {
             "pattern": {
              "fillmode": "overlay",
              "size": 10,
              "solidity": 0.2
             }
            },
            "type": "histogram"
           }
          ],
          "histogram2d": [
           {
            "colorbar": {
             "outlinewidth": 0,
             "ticks": ""
            },
            "colorscale": [
             [
              0,
              "#0d0887"
             ],
             [
              0.1111111111111111,
              "#46039f"
             ],
             [
              0.2222222222222222,
              "#7201a8"
             ],
             [
              0.3333333333333333,
              "#9c179e"
             ],
             [
              0.4444444444444444,
              "#bd3786"
             ],
             [
              0.5555555555555556,
              "#d8576b"
             ],
             [
              0.6666666666666666,
              "#ed7953"
             ],
             [
              0.7777777777777778,
              "#fb9f3a"
             ],
             [
              0.8888888888888888,
              "#fdca26"
             ],
             [
              1,
              "#f0f921"
             ]
            ],
            "type": "histogram2d"
           }
          ],
          "histogram2dcontour": [
           {
            "colorbar": {
             "outlinewidth": 0,
             "ticks": ""
            },
            "colorscale": [
             [
              0,
              "#0d0887"
             ],
             [
              0.1111111111111111,
              "#46039f"
             ],
             [
              0.2222222222222222,
              "#7201a8"
             ],
             [
              0.3333333333333333,
              "#9c179e"
             ],
             [
              0.4444444444444444,
              "#bd3786"
             ],
             [
              0.5555555555555556,
              "#d8576b"
             ],
             [
              0.6666666666666666,
              "#ed7953"
             ],
             [
              0.7777777777777778,
              "#fb9f3a"
             ],
             [
              0.8888888888888888,
              "#fdca26"
             ],
             [
              1,
              "#f0f921"
             ]
            ],
            "type": "histogram2dcontour"
           }
          ],
          "mesh3d": [
           {
            "colorbar": {
             "outlinewidth": 0,
             "ticks": ""
            },
            "type": "mesh3d"
           }
          ],
          "parcoords": [
           {
            "line": {
             "colorbar": {
              "outlinewidth": 0,
              "ticks": ""
             }
            },
            "type": "parcoords"
           }
          ],
          "pie": [
           {
            "automargin": true,
            "type": "pie"
           }
          ],
          "scatter": [
           {
            "marker": {
             "colorbar": {
              "outlinewidth": 0,
              "ticks": ""
             }
            },
            "type": "scatter"
           }
          ],
          "scatter3d": [
           {
            "line": {
             "colorbar": {
              "outlinewidth": 0,
              "ticks": ""
             }
            },
            "marker": {
             "colorbar": {
              "outlinewidth": 0,
              "ticks": ""
             }
            },
            "type": "scatter3d"
           }
          ],
          "scattercarpet": [
           {
            "marker": {
             "colorbar": {
              "outlinewidth": 0,
              "ticks": ""
             }
            },
            "type": "scattercarpet"
           }
          ],
          "scattergeo": [
           {
            "marker": {
             "colorbar": {
              "outlinewidth": 0,
              "ticks": ""
             }
            },
            "type": "scattergeo"
           }
          ],
          "scattergl": [
           {
            "marker": {
             "colorbar": {
              "outlinewidth": 0,
              "ticks": ""
             }
            },
            "type": "scattergl"
           }
          ],
          "scattermapbox": [
           {
            "marker": {
             "colorbar": {
              "outlinewidth": 0,
              "ticks": ""
             }
            },
            "type": "scattermapbox"
           }
          ],
          "scatterpolar": [
           {
            "marker": {
             "colorbar": {
              "outlinewidth": 0,
              "ticks": ""
             }
            },
            "type": "scatterpolar"
           }
          ],
          "scatterpolargl": [
           {
            "marker": {
             "colorbar": {
              "outlinewidth": 0,
              "ticks": ""
             }
            },
            "type": "scatterpolargl"
           }
          ],
          "scatterternary": [
           {
            "marker": {
             "colorbar": {
              "outlinewidth": 0,
              "ticks": ""
             }
            },
            "type": "scatterternary"
           }
          ],
          "surface": [
           {
            "colorbar": {
             "outlinewidth": 0,
             "ticks": ""
            },
            "colorscale": [
             [
              0,
              "#0d0887"
             ],
             [
              0.1111111111111111,
              "#46039f"
             ],
             [
              0.2222222222222222,
              "#7201a8"
             ],
             [
              0.3333333333333333,
              "#9c179e"
             ],
             [
              0.4444444444444444,
              "#bd3786"
             ],
             [
              0.5555555555555556,
              "#d8576b"
             ],
             [
              0.6666666666666666,
              "#ed7953"
             ],
             [
              0.7777777777777778,
              "#fb9f3a"
             ],
             [
              0.8888888888888888,
              "#fdca26"
             ],
             [
              1,
              "#f0f921"
             ]
            ],
            "type": "surface"
           }
          ],
          "table": [
           {
            "cells": {
             "fill": {
              "color": "#EBF0F8"
             },
             "line": {
              "color": "white"
             }
            },
            "header": {
             "fill": {
              "color": "#C8D4E3"
             },
             "line": {
              "color": "white"
             }
            },
            "type": "table"
           }
          ]
         },
         "layout": {
          "annotationdefaults": {
           "arrowcolor": "#2a3f5f",
           "arrowhead": 0,
           "arrowwidth": 1
          },
          "autotypenumbers": "strict",
          "coloraxis": {
           "colorbar": {
            "outlinewidth": 0,
            "ticks": ""
           }
          },
          "colorscale": {
           "diverging": [
            [
             0,
             "#8e0152"
            ],
            [
             0.1,
             "#c51b7d"
            ],
            [
             0.2,
             "#de77ae"
            ],
            [
             0.3,
             "#f1b6da"
            ],
            [
             0.4,
             "#fde0ef"
            ],
            [
             0.5,
             "#f7f7f7"
            ],
            [
             0.6,
             "#e6f5d0"
            ],
            [
             0.7,
             "#b8e186"
            ],
            [
             0.8,
             "#7fbc41"
            ],
            [
             0.9,
             "#4d9221"
            ],
            [
             1,
             "#276419"
            ]
           ],
           "sequential": [
            [
             0,
             "#0d0887"
            ],
            [
             0.1111111111111111,
             "#46039f"
            ],
            [
             0.2222222222222222,
             "#7201a8"
            ],
            [
             0.3333333333333333,
             "#9c179e"
            ],
            [
             0.4444444444444444,
             "#bd3786"
            ],
            [
             0.5555555555555556,
             "#d8576b"
            ],
            [
             0.6666666666666666,
             "#ed7953"
            ],
            [
             0.7777777777777778,
             "#fb9f3a"
            ],
            [
             0.8888888888888888,
             "#fdca26"
            ],
            [
             1,
             "#f0f921"
            ]
           ],
           "sequentialminus": [
            [
             0,
             "#0d0887"
            ],
            [
             0.1111111111111111,
             "#46039f"
            ],
            [
             0.2222222222222222,
             "#7201a8"
            ],
            [
             0.3333333333333333,
             "#9c179e"
            ],
            [
             0.4444444444444444,
             "#bd3786"
            ],
            [
             0.5555555555555556,
             "#d8576b"
            ],
            [
             0.6666666666666666,
             "#ed7953"
            ],
            [
             0.7777777777777778,
             "#fb9f3a"
            ],
            [
             0.8888888888888888,
             "#fdca26"
            ],
            [
             1,
             "#f0f921"
            ]
           ]
          },
          "colorway": [
           "#636efa",
           "#EF553B",
           "#00cc96",
           "#ab63fa",
           "#FFA15A",
           "#19d3f3",
           "#FF6692",
           "#B6E880",
           "#FF97FF",
           "#FECB52"
          ],
          "font": {
           "color": "#2a3f5f"
          },
          "geo": {
           "bgcolor": "white",
           "lakecolor": "white",
           "landcolor": "#E5ECF6",
           "showlakes": true,
           "showland": true,
           "subunitcolor": "white"
          },
          "hoverlabel": {
           "align": "left"
          },
          "hovermode": "closest",
          "mapbox": {
           "style": "light"
          },
          "paper_bgcolor": "white",
          "plot_bgcolor": "#E5ECF6",
          "polar": {
           "angularaxis": {
            "gridcolor": "white",
            "linecolor": "white",
            "ticks": ""
           },
           "bgcolor": "#E5ECF6",
           "radialaxis": {
            "gridcolor": "white",
            "linecolor": "white",
            "ticks": ""
           }
          },
          "scene": {
           "xaxis": {
            "backgroundcolor": "#E5ECF6",
            "gridcolor": "white",
            "gridwidth": 2,
            "linecolor": "white",
            "showbackground": true,
            "ticks": "",
            "zerolinecolor": "white"
           },
           "yaxis": {
            "backgroundcolor": "#E5ECF6",
            "gridcolor": "white",
            "gridwidth": 2,
            "linecolor": "white",
            "showbackground": true,
            "ticks": "",
            "zerolinecolor": "white"
           },
           "zaxis": {
            "backgroundcolor": "#E5ECF6",
            "gridcolor": "white",
            "gridwidth": 2,
            "linecolor": "white",
            "showbackground": true,
            "ticks": "",
            "zerolinecolor": "white"
           }
          },
          "shapedefaults": {
           "line": {
            "color": "#2a3f5f"
           }
          },
          "ternary": {
           "aaxis": {
            "gridcolor": "white",
            "linecolor": "white",
            "ticks": ""
           },
           "baxis": {
            "gridcolor": "white",
            "linecolor": "white",
            "ticks": ""
           },
           "bgcolor": "#E5ECF6",
           "caxis": {
            "gridcolor": "white",
            "linecolor": "white",
            "ticks": ""
           }
          },
          "title": {
           "x": 0.05
          },
          "xaxis": {
           "automargin": true,
           "gridcolor": "white",
           "linecolor": "white",
           "ticks": "",
           "title": {
            "standoff": 15
           },
           "zerolinecolor": "white",
           "zerolinewidth": 2
          },
          "yaxis": {
           "automargin": true,
           "gridcolor": "white",
           "linecolor": "white",
           "ticks": "",
           "title": {
            "standoff": 15
           },
           "zerolinecolor": "white",
           "zerolinewidth": 2
          }
         }
        },
        "title": {
         "text": "Correlation Matrix Heatmap"
        },
        "xaxis": {
         "anchor": "y",
         "domain": [
          0,
          1
         ],
         "ticktext": [
          "SPY",
          "VTI",
          "QQQ",
          "VEA",
          "AGG",
          "BND",
          "LQD",
          "VCIT"
         ],
         "tickvals": [
          0,
          1,
          2,
          3,
          4,
          5,
          6,
          7
         ]
        },
        "yaxis": {
         "anchor": "x",
         "domain": [
          0,
          1
         ],
         "ticktext": [
          "SPY",
          "VTI",
          "QQQ",
          "VEA",
          "AGG",
          "BND",
          "LQD",
          "VCIT"
         ],
         "tickvals": [
          0,
          1,
          2,
          3,
          4,
          5,
          6,
          7
         ]
        }
       }
      }
     },
     "metadata": {},
     "output_type": "display_data"
    }
   ],
   "source": [
    "from plotly.subplots import make_subplots\n",
    "import matplotlib.pyplot as plt\n",
    "\n",
    "fig = make_subplots(rows=1, cols=1)\n",
    "fig.add_trace(go.Heatmap(z=corr_matrix))\n",
    "\n",
    "fig.update_layout(title=\"Correlation Matrix Heatmap\")\n",
    "fig.update_xaxes(ticktext=[\"SPY\", \"VTI\", \"QQQ\", \"VEA\", \"AGG\", \"BND\", \"LQD\", \"VCIT\"],\n",
    "                tickvals=[0,1,2,3,4,5,6,7])\n",
    "fig.update_yaxes(ticktext=[\"SPY\", \"VTI\", \"QQQ\", \"VEA\", \"AGG\", \"BND\", \"LQD\", \"VCIT\"],\n",
    "                tickvals=[0,1,2,3,4,5,6,7])\n",
    "fig.show()\n"
   ]
  },
  {
   "cell_type": "markdown",
   "metadata": {
    "id": "ZO3GqH2Y0Ky9"
   },
   "source": [
    "# Zadatak 2 - Analiza glavnih komponenti\n",
    "\n",
    "2.1. Izračunajte svojstvene vektore i pripadajuće svojstvene vrijednosti matrice kovarijance povrata $\\Sigma$ (svojstvenu dekompoziciju možete pronaći u sklopu biblioteke NumPy https://numpy.org/doc/stable/reference/generated/numpy.linalg.eig.html). Poredajte komponente padajući po svojstvenim vrijednostima i prikažite svojstvene vrijednosti grafički.\n"
   ]
  },
  {
   "cell_type": "code",
   "execution_count": 19,
   "metadata": {},
   "outputs": [
    {
     "name": "stdout",
     "output_type": "stream",
     "text": [
      "eigenvalues:  [1.06843764e-03 1.14431592e-04 4.71779036e-05 1.04538659e-05\n",
      " 2.30500566e-06 9.10298764e-08 1.03665714e-06 6.26834728e-07]\n",
      "eigenvectors:  [[-4.64904458e-01 -9.54576346e-02 -5.58389257e-02  5.51081594e-01\n",
      "   1.35660778e-02  2.55943102e-02 -2.74957946e-02 -6.82896515e-01]\n",
      " [-4.77915775e-01 -9.05639056e-02 -5.56795961e-02  4.77754842e-01\n",
      "   8.52452617e-03 -3.46843672e-02  8.51330063e-02  7.23547844e-01]\n",
      " [-6.07707654e-01 -1.78766936e-01 -4.40456618e-01 -6.34337891e-01\n",
      "   1.68942837e-02  8.90118622e-03 -2.69818362e-02 -3.54193478e-02]\n",
      " [-3.90043156e-01  5.05922198e-02  8.83505866e-01 -2.52538314e-01\n",
      "   2.54160858e-02 -3.98437380e-04  2.64066264e-03 -1.71883358e-02]\n",
      " [-6.15252395e-02  4.31329029e-01 -6.68344805e-02 -1.05151759e-03\n",
      "   5.13346684e-01  7.13875838e-01  1.79735382e-01  1.59255409e-02]\n",
      " [-6.10525610e-02  4.27180576e-01 -7.22407880e-02 -1.34251153e-02\n",
      "   5.27046789e-01 -6.98649121e-01  2.00759302e-01 -4.68739347e-02]\n",
      " [-1.28587565e-01  6.04272557e-01 -8.07637081e-02 -2.36871822e-02\n",
      "  -6.71690088e-01 -1.63170851e-04  3.98197711e-01 -3.88205918e-02]\n",
      " [-9.98527358e-02  4.63136621e-01 -5.46698531e-02  3.40118540e-02\n",
      "  -7.96315940e-02 -1.82538412e-02 -8.71831886e-01  6.79931657e-02]]\n"
     ]
    }
   ],
   "source": [
    "eigenvalues, eigenvectors = np.linalg.eig(cov_matrix)\n",
    "sort_eigenvalues = eigenvalues[np.argsort(eigenvalues)[::-1]]\n",
    "sort_eigenvectors = eigenvectors[np.argsort(eigenvalues)[::-1]]\n",
    "print(\"eigenvalues: \",eigenvalues)\n",
    "print(\"eigenvectors: \", eigenvectors)"
   ]
  },
  {
   "cell_type": "code",
   "execution_count": 20,
   "metadata": {},
   "outputs": [
    {
     "data": {
      "image/png": "[encoded data removed]",
      "text/plain": [
       "<Figure size 432x288 with 1 Axes>"
      ]
     },
     "metadata": {
      "needs_background": "light"
     },
     "output_type": "display_data"
    }
   ],
   "source": [
    "plt.plot(np.arange(len(eigenvalues)), eigenvalues)\n",
    "plt.xlabel('Component index')\n",
    "plt.ylabel('Eigenvalue')\n",
    "plt.show()"
   ]
  },
  {
   "cell_type": "markdown",
   "metadata": {
    "id": "sp-II9bbH_CL"
   },
   "source": [
    "2.2. Izračunajte koliki udio varijance objašnjavaju prve dvije komponente?"
   ]
  },
  {
   "cell_type": "code",
   "execution_count": 21,
   "metadata": {
    "id": "MPeVSO8AIpwp"
   },
   "outputs": [
    {
     "name": "stdout",
     "output_type": "stream",
     "text": [
      "0.9504312602910401\n"
     ]
    }
   ],
   "source": [
    "share = eigenvalues[:2].sum() / eigenvalues.sum()\n",
    "print(share)"
   ]
  },
  {
   "cell_type": "markdown",
   "metadata": {
    "id": "R_vvIr-aI1N_"
   },
   "source": [
    "2.3. Komponente PCA će u financijama često opisivati neke zajedničke faktore u podatcima, što je moguće analizirati promatranjem pojedinih elemenata svojstvenih vektora. Ako je neki element određenog svojstvenog vektora velik po magnitudi (pozitivan ili negativan), to znači da ta komponenta opisuje odgovarajuću vrijednosnicu i objašnjava njenu varijancu, za razliku od slučaja kad je element blizu 0, što znači da razmatrana vrijednosnica ne ovisi previše o toj komponenti.  Ispišite (ili grafički prikažite) elemente prva dva svojstvena vektora. Pritom pripazite na to što vraća funkcija koju koristite i u kojoj se dimenziji (stupac ili red) nalaze svojstveni vektori.\n",
    "\n",
    "S obzirom na to koje vrijednosnice opisuju prve dvije komponente, možete li zaključiti koju klasu imovine opisuje prva komponenta (koja odgovara prvom svojstvenom vektoru), a koju klasu druga komponenta? (*odgovor napišite u nastavku*)"
   ]
  },
  {
   "cell_type": "code",
   "execution_count": 22,
   "metadata": {
    "id": "CnU85Ww0J1v2"
   },
   "outputs": [
    {
     "data": {
      "text/plain": [
       "array([-0.46490446, -0.47791577, -0.60770765, -0.39004316, -0.06152524,\n",
       "       -0.06105256, -0.12858756, -0.09985274])"
      ]
     },
     "execution_count": 22,
     "metadata": {},
     "output_type": "execute_result"
    }
   ],
   "source": [
    "eigenvectors[:,0] #svaki stupac jedan svojstveni vektor; VTI QQQ"
   ]
  },
  {
   "cell_type": "markdown",
   "metadata": {
    "id": "s8PSPkBbP59u"
   },
   "source": [
    "2.4. Ponovite prethodnu analizu za matricu korelacije povrata $C$. Koliki udio varijance u tom sučaju objašnjavaju prve dvije komponente? Usporedite elemente prva dva svojstvena vektora u ovom slučaju i u prethodnom slučaju - razlikuje li se interpretacija i kako? (*odgovor napišite u nastavku*)"
   ]
  },
  {
   "cell_type": "code",
   "execution_count": 23,
   "metadata": {
    "id": "eGxj8yIEQcBj"
   },
   "outputs": [
    {
     "name": "stdout",
     "output_type": "stream",
     "text": [
      "eigenvalues:  [5.45093694e+00 2.21775258e+00 2.06517959e-01 5.93174393e-02\n",
      " 3.50099828e-02 2.43456743e-02 2.50477346e-03 3.61464674e-03]\n",
      "eigenvectors:  [[-3.52813314e-01 -3.70425852e-01  1.92050448e-01  3.06996917e-02\n",
      "   4.66194600e-01  1.70747647e-01 -6.43740382e-01  1.98966746e-01]\n",
      " [-3.54616309e-01 -3.68174181e-01  1.85479353e-01  3.38508185e-02\n",
      "   3.67881837e-01  1.56381410e-01  7.11444139e-01 -1.92877224e-01]\n",
      " [-3.42784385e-01 -3.70454553e-01  4.16997907e-01  5.56174948e-02\n",
      "  -7.04837975e-01 -2.60790263e-01 -5.65984548e-02 -1.64381369e-02]\n",
      " [-3.38481339e-01 -3.14040010e-01 -8.67612456e-01  7.79488919e-02\n",
      "  -1.61521429e-01 -4.04365321e-02 -1.44349530e-02  7.01419409e-03]\n",
      " [-3.41134791e-01  3.98058713e-01  2.21206938e-02  4.53694507e-01\n",
      "   1.09486220e-02  7.21639205e-02 -1.99512992e-01 -6.88269821e-01]\n",
      " [-3.40759764e-01  3.97877925e-01  3.86371524e-02  4.81307968e-01\n",
      "  -4.18209571e-02  7.68160789e-02  1.89457001e-01  6.69986636e-01]\n",
      " [-3.76498726e-01  2.96006388e-01  3.74475214e-04 -6.25201049e-01\n",
      "  -2.32144026e-01  5.70753883e-01 -9.03715130e-03  4.46328965e-03]\n",
      " [-3.78758280e-01  2.94953205e-01 -9.64947435e-03 -4.00462105e-01\n",
      "   2.62068870e-01 -7.34761924e-01  1.58979691e-02  1.65480887e-02]]\n"
     ]
    }
   ],
   "source": [
    "eigenvalues, eigenvectors = np.linalg.eig(corr_matrix)\n",
    "sort_eigenvalues = eigenvalues[np.argsort(eigenvalues)[::-1]]\n",
    "sort_eigenvectors = eigenvectors[np.argsort(eigenvalues)[::-1]]\n",
    "print(\"eigenvalues: \",eigenvalues)\n",
    "print(\"eigenvectors: \", eigenvectors)"
   ]
  },
  {
   "cell_type": "code",
   "execution_count": 24,
   "metadata": {},
   "outputs": [
    {
     "data": {
      "image/png": "[encoded data removed]",
      "text/plain": [
       "<Figure size 432x288 with 1 Axes>"
      ]
     },
     "metadata": {
      "needs_background": "light"
     },
     "output_type": "display_data"
    }
   ],
   "source": [
    "plt.plot(np.arange(len(eigenvalues)), eigenvalues)\n",
    "plt.xlabel('Component index')\n",
    "plt.ylabel('Eigenvalue')\n",
    "plt.show()"
   ]
  },
  {
   "cell_type": "markdown",
   "metadata": {
    "id": "e2MEVouBJ8mg"
   },
   "source": [
    "# Zadatak 3 - Svojstveni portfelji\n",
    "\n",
    "U primjeni PCA i svojstvenoj dekompoziciji kovarijance u financijama, svojstveni vektori se često zovu i tzv. svojstveni portfelji. \n",
    "\n",
    "Općenito, portfelj je vektor $w = [w_1,...,w_N]$ u kojem svaki element predstavlja težinu ili udio kapitala u određenoj vrijednosnici. Često je dobro pomnožiti njihove težine s predznakom njihove sume - na taj način zapravo samo \"okrećemo\" predznak svojstvenog vektora tako da mu je suma pozitivna (konačni PCA rastav je i dalje isti ako svojstveni vektor pomnožimo s -1). Također, dobro je i skalirati svojstvene portfelje sa sumom njihovih apsolutnih vrijednosti:\n",
    "\n",
    "$\\tilde{w}_i = \\frac{w_i}{\\sum_j^N{\\vert w_j \\vert}}$.\n",
    "\n",
    "Na taj način se osigurava da visoke magnitude pojedinih elemenata ne uzrokuju velike razlike u volatilnostima svojstvenih portfelja.\n",
    "\n",
    "Ukoliko znamo povrate $R\\in\\mathbb{R}^{T\\times N}$ (gdje je $R_i\\in\\mathbb{R}^{T}$ vektor povrata za vrijednosnicu $i$) za $N$ vrijednosnica u nekom vremenskom periodu od $T$ dana, povrate portfelja $w$ u tom istom periodu možemo izračunati kao:\n",
    "\n",
    "$R_p = \\sum{R_i w_i} = R\\cdot w$.\n",
    "\n",
    "\n",
    "Izračunajte skalirane svojstvene portfelje $\\tilde{w}$ koji proizlaze iz prve dvije glavne komponente dobivene iz matrice kovarijance $\\Sigma$. Za ta dva svojstvena portfelja izračunajte povijesne povrate kroz razmatrani period. Grafički prikažite vremensko kretanje njihovih vrijednosti (njihove povrate \"vratite\" natrag u cijene, s tim da početna cijena bude jednak za oba portfelja, npr. 100). Također izračunajte anualizirane srednje vrijednosti i volatilnosti svojstvenih portfelja.\n",
    "\n"
   ]
  },
  {
   "cell_type": "code",
   "execution_count": 37,
   "metadata": {},
   "outputs": [
    {
     "data": {
      "text/plain": [
       "(8, 2)"
      ]
     },
     "execution_count": 37,
     "metadata": {},
     "output_type": "execute_result"
    }
   ],
   "source": [
    "w = np.zeros((daily_returns.shape[1], 2))"
   ]
  },
  {
   "cell_type": "code",
   "execution_count": 45,
   "metadata": {
    "id": "Yo0rDm6GUrr2"
   },
   "outputs": [],
   "source": [
    "for i in range(2):  \n",
    "    w[:, i] = (eigenvectors[:,i] / np.sum(np.abs(eigenvectors[:,i])))\n"
   ]
  },
  {
   "cell_type": "code",
   "execution_count": 54,
   "metadata": {},
   "outputs": [
    {
     "data": {
      "text/html": [
       "<div>\n",
       "<style scoped>\n",
       "    .dataframe tbody tr th:only-of-type {\n",
       "        vertical-align: middle;\n",
       "    }\n",
       "\n",
       "    .dataframe tbody tr th {\n",
       "        vertical-align: top;\n",
       "    }\n",
       "\n",
       "    .dataframe thead th {\n",
       "        text-align: right;\n",
       "    }\n",
       "</style>\n",
       "<table border=\"1\" class=\"dataframe\">\n",
       "  <thead>\n",
       "    <tr style=\"text-align: right;\">\n",
       "      <th></th>\n",
       "      <th>0</th>\n",
       "      <th>1</th>\n",
       "    </tr>\n",
       "    <tr>\n",
       "      <th>Time</th>\n",
       "      <th></th>\n",
       "      <th></th>\n",
       "    </tr>\n",
       "  </thead>\n",
       "  <tbody>\n",
       "    <tr>\n",
       "      <th>2022-01-11</th>\n",
       "      <td>-0.006680</td>\n",
       "      <td>-0.004805</td>\n",
       "    </tr>\n",
       "    <tr>\n",
       "      <th>2022-01-12</th>\n",
       "      <td>-0.002254</td>\n",
       "      <td>-0.002339</td>\n",
       "    </tr>\n",
       "    <tr>\n",
       "      <th>2022-01-13</th>\n",
       "      <td>0.006363</td>\n",
       "      <td>0.008848</td>\n",
       "    </tr>\n",
       "    <tr>\n",
       "      <th>2022-01-14</th>\n",
       "      <td>0.002684</td>\n",
       "      <td>-0.003746</td>\n",
       "    </tr>\n",
       "    <tr>\n",
       "      <th>2022-01-18</th>\n",
       "      <td>0.013193</td>\n",
       "      <td>0.006259</td>\n",
       "    </tr>\n",
       "    <tr>\n",
       "      <th>...</th>\n",
       "      <td>...</td>\n",
       "      <td>...</td>\n",
       "    </tr>\n",
       "    <tr>\n",
       "      <th>2023-01-03</th>\n",
       "      <td>-0.001708</td>\n",
       "      <td>0.004180</td>\n",
       "    </tr>\n",
       "    <tr>\n",
       "      <th>2023-01-04</th>\n",
       "      <td>-0.007641</td>\n",
       "      <td>-0.001438</td>\n",
       "    </tr>\n",
       "    <tr>\n",
       "      <th>2023-01-05</th>\n",
       "      <td>0.006758</td>\n",
       "      <td>0.005778</td>\n",
       "    </tr>\n",
       "    <tr>\n",
       "      <th>2023-01-06</th>\n",
       "      <td>-0.018816</td>\n",
       "      <td>-0.006480</td>\n",
       "    </tr>\n",
       "    <tr>\n",
       "      <th>2023-01-09</th>\n",
       "      <td>-0.002958</td>\n",
       "      <td>0.000238</td>\n",
       "    </tr>\n",
       "  </tbody>\n",
       "</table>\n",
       "<p>250 rows × 2 columns</p>\n",
       "</div>"
      ],
      "text/plain": [
       "                   0         1\n",
       "Time                          \n",
       "2022-01-11 -0.006680 -0.004805\n",
       "2022-01-12 -0.002254 -0.002339\n",
       "2022-01-13  0.006363  0.008848\n",
       "2022-01-14  0.002684 -0.003746\n",
       "2022-01-18  0.013193  0.006259\n",
       "...              ...       ...\n",
       "2023-01-03 -0.001708  0.004180\n",
       "2023-01-04 -0.007641 -0.001438\n",
       "2023-01-05  0.006758  0.005778\n",
       "2023-01-06 -0.018816 -0.006480\n",
       "2023-01-09 -0.002958  0.000238\n",
       "\n",
       "[250 rows x 2 columns]"
      ]
     },
     "execution_count": 54,
     "metadata": {},
     "output_type": "execute_result"
    }
   ],
   "source": [
    "eigen_portf = daily_returns.dot(w)"
   ]
  },
  {
   "cell_type": "code",
   "execution_count": 55,
   "metadata": {},
   "outputs": [],
   "source": [
    "eigen_price1 = (1 + eigen_portf[0]).cumprod() * 100\n",
    "eigen_price2 = (1 + eigen_portf[1]).cumprod() * 100"
   ]
  },
  {
   "cell_type": "code",
   "execution_count": 56,
   "metadata": {},
   "outputs": [
    {
     "name": "stdout",
     "output_type": "stream",
     "text": [
      "28272.0934842155 25699.875729568783\n"
     ]
    }
   ],
   "source": [
    "ann_mean1 = eigen_price1.mean() * 252\n",
    "ann_mean2 = eigen_price2.mean() * 252\n",
    "print(ann_mean1, ann_mean2)"
   ]
  },
  {
   "cell_type": "code",
   "execution_count": 57,
   "metadata": {},
   "outputs": [],
   "source": [
    "ann_vol1 = eigen_price1.std() * np.sqrt(252)\n",
    "ann_vol2 = eigen_price2.std() * np.sqrt(252)"
   ]
  },
  {
   "cell_type": "code",
   "execution_count": 58,
   "metadata": {},
   "outputs": [
    {
     "data": {
      "image/png": "[encoded data removed]",
      "text/plain": [
       "<Figure size 432x288 with 1 Axes>"
      ]
     },
     "metadata": {
      "needs_background": "light"
     },
     "output_type": "display_data"
    }
   ],
   "source": [
    "plt.plot(eigen_price1, label='First portfolio')\n",
    "plt.xlabel('Time')\n",
    "plt.ylabel('Price')\n",
    "plt.legend()\n",
    "plt.show()\n"
   ]
  },
  {
   "cell_type": "code",
   "execution_count": 59,
   "metadata": {},
   "outputs": [
    {
     "data": {
      "image/png": "[encoded data removed]",
      "text/plain": [
       "<Figure size 432x288 with 1 Axes>"
      ]
     },
     "metadata": {
      "needs_background": "light"
     },
     "output_type": "display_data"
    }
   ],
   "source": [
    "plt.plot(eigen_price2, label='Second portfolio')\n",
    "plt.xlabel('Time')\n",
    "plt.ylabel('Price')\n",
    "plt.legend()\n",
    "plt.show()"
   ]
  },
  {
   "cell_type": "markdown",
   "metadata": {
    "id": "Q8kMOz4EUsgC"
   },
   "source": [
    "Ako usporedite dobivene rezultate s kretanjem cijena originalnih vrijednosnica, vidjet ćete sličnosti između vrijednosnica koje pripadaju određenim klasama imovina i pojedinih svojstvenih portfelja. Svojstveni portfelji dakle predstavljaju niže-dimenzionalan prostor tzv. sintetičkih vrijednosnica (u našem slučaju 2 umjesto originalnih 8) koje najbolje opisuju cijeli razmatrani skup podataka. Dobra procjena tih komponenti je ključna u razumijevanju zajedničkog kretanja većih skupova dionica i upravljanju financijskim rizikom."
   ]
  }
 ],
 "metadata": {
  "colab": {
   "collapsed_sections": [
    "qJsxY4wL8mA5"
   ],
   "provenance": []
  },
  "kernelspec": {
   "display_name": "Python 3 (ipykernel)",
   "language": "python",
   "name": "python3"
  },
  "language_info": {
   "codemirror_mode": {
    "name": "ipython",
    "version": 3
   },
   "file_extension": ".py",
   "mimetype": "text/x-python",
   "name": "python",
   "nbconvert_exporter": "python",
   "pygments_lexer": "ipython3",
   "version": "3.9.12"
  }
 },
 "nbformat": 4,
 "nbformat_minor": 1
}
