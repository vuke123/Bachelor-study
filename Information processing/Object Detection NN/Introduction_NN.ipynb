{
  "cells": [
    {
      "cell_type": "markdown",
      "metadata": {
        "id": "qJsxY4wL8mA5"
      },
      "source": [
        "# Laboratorijska vježba - Obrada informacija - Neuronske mreže"
      ]
    },
    {
      "cell_type": "code",
      "execution_count": 1,
      "metadata": {
        "colab": {
          "base_uri": "https://localhost:8080/"
        },
        "id": "I9kd7QSCyzzT",
        "outputId": "8b66063a-598e-46e1-ea30-dff1624b561a"
      },
      "outputs": [
        {
          "ename": "ModuleNotFoundError",
          "evalue": "No module named 'google.colab'",
          "output_type": "error",
          "traceback": [
            "\u001b[1;31m---------------------------------------------------------------------------\u001b[0m",
            "\u001b[1;31mModuleNotFoundError\u001b[0m                       Traceback (most recent call last)",
            "\u001b[1;32mc:\\Users\\Luka\\Desktop\\FER\\FER_github\\University-labs\\Information processing\\Introduction_NN.ipynb Cell 2\u001b[0m in \u001b[0;36m<cell line: 1>\u001b[1;34m()\u001b[0m\n\u001b[1;32m----> <a href='vscode-notebook-cell:/c%3A/Users/Luka/Desktop/FER/FER_github/University-labs/Information%20processing/Introduction_NN.ipynb#W1sZmlsZQ%3D%3D?line=0'>1</a>\u001b[0m \u001b[39mfrom\u001b[39;00m \u001b[39mgoogle\u001b[39;00m\u001b[39m.\u001b[39;00m\u001b[39mcolab\u001b[39;00m \u001b[39mimport\u001b[39;00m drive\n\u001b[0;32m      <a href='vscode-notebook-cell:/c%3A/Users/Luka/Desktop/FER/FER_github/University-labs/Information%20processing/Introduction_NN.ipynb#W1sZmlsZQ%3D%3D?line=1'>2</a>\u001b[0m drive\u001b[39m.\u001b[39mmount(\u001b[39m'\u001b[39m\u001b[39m/content/drive\u001b[39m\u001b[39m'\u001b[39m)\n",
            "\u001b[1;31mModuleNotFoundError\u001b[0m: No module named 'google.colab'"
          ]
        }
      ],
      "source": [
        "from google.colab import drive\n",
        "drive.mount('/content/drive')"
      ]
    },
    {
      "cell_type": "code",
      "execution_count": 3,
      "metadata": {
        "id": "ZSE31EGe8mBC"
      },
      "outputs": [],
      "source": [
        "import torch\n",
        "import torch.nn as nn\n",
        "import torchvision\n",
        "import torch.nn.functional as F\n",
        "import torch.optim as optim\n",
        "from torch.utils.data import TensorDataset, Dataset, DataLoader\n",
        "\n",
        "from torchsummary import summary\n",
        "\n",
        "import cv2\n",
        "import numpy as np\n",
        "import matplotlib.pyplot as plt"
      ]
    },
    {
      "cell_type": "code",
      "execution_count": null,
      "metadata": {
        "colab": {
          "base_uri": "https://localhost:8080/"
        },
        "id": "shvVCyvZsUBY",
        "outputId": "2315a12e-4db9-499c-e435-121785215607"
      },
      "outputs": [
        {
          "name": "stdout",
          "output_type": "stream",
          "text": [
            "Looking in indexes: https://pypi.org/simple, https://us-python.pkg.dev/colab-wheels/public/simple/\n",
            "Looking in links: https://download.pytorch.org/whl/torch_stable.html\n",
            "Collecting torch==1.7.1+cpu\n",
            "  Downloading https://download.pytorch.org/whl/cpu/torch-1.7.1%2Bcpu-cp38-cp38-linux_x86_64.whl (159.4 MB)\n",
            "\u001b[2K     \u001b[90m━━━━━━━━━━━━━━━━━━━━━━━━━━━━━━━━━━━━━━━\u001b[0m \u001b[32m159.4/159.4 MB\u001b[0m \u001b[31m5.1 MB/s\u001b[0m eta \u001b[36m0:00:00\u001b[0m\n",
            "\u001b[?25hCollecting torchvision==0.8.2+cpu\n",
            "  Downloading https://download.pytorch.org/whl/cpu/torchvision-0.8.2%2Bcpu-cp38-cp38-linux_x86_64.whl (11.9 MB)\n",
            "\u001b[2K     \u001b[90m━━━━━━━━━━━━━━━━━━━━━━━━━━━━━━━━━━━━━━━━\u001b[0m \u001b[32m11.9/11.9 MB\u001b[0m \u001b[31m62.0 MB/s\u001b[0m eta \u001b[36m0:00:00\u001b[0m\n",
            "\u001b[?25hCollecting torchaudio===0.7.2\n",
            "  Downloading torchaudio-0.7.2-cp38-cp38-manylinux1_x86_64.whl (7.6 MB)\n",
            "\u001b[2K     \u001b[90m━━━━━━━━━━━━━━━━━━━━━━━━━━━━━━━━━━━━━━━━\u001b[0m \u001b[32m7.6/7.6 MB\u001b[0m \u001b[31m51.5 MB/s\u001b[0m eta \u001b[36m0:00:00\u001b[0m\n",
            "\u001b[?25hRequirement already satisfied: typing-extensions in /usr/local/lib/python3.8/dist-packages (from torch==1.7.1+cpu) (4.5.0)\n",
            "Requirement already satisfied: numpy in /usr/local/lib/python3.8/dist-packages (from torch==1.7.1+cpu) (1.22.4)\n",
            "Requirement already satisfied: pillow>=4.1.1 in /usr/local/lib/python3.8/dist-packages (from torchvision==0.8.2+cpu) (7.1.2)\n",
            "Installing collected packages: torch, torchvision, torchaudio\n",
            "  Attempting uninstall: torch\n",
            "    Found existing installation: torch 1.13.1+cu116\n",
            "    Uninstalling torch-1.13.1+cu116:\n",
            "      Successfully uninstalled torch-1.13.1+cu116\n",
            "  Attempting uninstall: torchvision\n",
            "    Found existing installation: torchvision 0.14.1+cu116\n",
            "    Uninstalling torchvision-0.14.1+cu116:\n",
            "      Successfully uninstalled torchvision-0.14.1+cu116\n",
            "  Attempting uninstall: torchaudio\n",
            "    Found existing installation: torchaudio 0.13.1+cu116\n",
            "    Uninstalling torchaudio-0.13.1+cu116:\n",
            "      Successfully uninstalled torchaudio-0.13.1+cu116\n",
            "\u001b[31mERROR: pip's dependency resolver does not currently take into account all the packages that are installed. This behaviour is the source of the following dependency conflicts.\n",
            "torchtext 0.14.1 requires torch==1.13.1, but you have torch 1.7.1+cpu which is incompatible.\u001b[0m\u001b[31m\n",
            "\u001b[0mSuccessfully installed torch-1.7.1+cpu torchaudio-0.7.2 torchvision-0.8.2+cpu\n",
            "Looking in indexes: https://pypi.org/simple, https://us-python.pkg.dev/colab-wheels/public/simple/\n",
            "Requirement already satisfied: torchsummary in /usr/local/lib/python3.8/dist-packages (1.5.1)\n",
            "Looking in indexes: https://pypi.org/simple, https://us-python.pkg.dev/colab-wheels/public/simple/\n",
            "Requirement already satisfied: numpy in /usr/local/lib/python3.8/dist-packages (1.22.4)\n",
            "Requirement already satisfied: matplotlib in /usr/local/lib/python3.8/dist-packages (3.2.2)\n",
            "Requirement already satisfied: opencv-python in /usr/local/lib/python3.8/dist-packages (4.6.0.66)\n",
            "Requirement already satisfied: cycler>=0.10 in /usr/local/lib/python3.8/dist-packages (from matplotlib) (0.11.0)\n",
            "Requirement already satisfied: python-dateutil>=2.1 in /usr/local/lib/python3.8/dist-packages (from matplotlib) (2.8.2)\n",
            "Requirement already satisfied: kiwisolver>=1.0.1 in /usr/local/lib/python3.8/dist-packages (from matplotlib) (1.4.4)\n",
            "Requirement already satisfied: pyparsing!=2.0.4,!=2.1.2,!=2.1.6,>=2.0.1 in /usr/local/lib/python3.8/dist-packages (from matplotlib) (3.0.9)\n",
            "Requirement already satisfied: six>=1.5 in /usr/local/lib/python3.8/dist-packages (from python-dateutil>=2.1->matplotlib) (1.15.0)\n"
          ]
        }
      ],
      "source": [
        "!pip install torch==1.7.1+cpu torchvision==0.8.2+cpu torchaudio===0.7.2 -f https://download.pytorch.org/whl/torch_stable.html\n",
        "!pip install torchsummary\n",
        "!pip install numpy matplotlib opencv-python"
      ]
    },
    {
      "cell_type": "markdown",
      "metadata": {
        "id": "l3WCkur18mBD"
      },
      "source": [
        "# Zadatak 1 - Klasifikacija slike rukom pisanih znamenki"
      ]
    },
    {
      "cell_type": "markdown",
      "metadata": {
        "id": "5LQFOnwx8mBD"
      },
      "source": [
        "U prvom zadatku ove laboratorijske vježbe želimo analizirati utjecaj arhitekture mreže i drugih hiperparametara na uspješnost predikcije. Vaš zadatak je složiti nekoliko modela različitih karakteristika, te će te te modele istrenirati na problemu klasifikacije rukom pisanih znamenki.\n",
        "\n",
        "Veliki dio koda koji je potreban za provođenje vježbe je dan. Vi ćete riješiti zadatak nadopunjavanjem koda. Također ste slobodni izmjeniti predloženi kod, ali ne preporuča se. Za labos je potreban Python 3.6+ i PyTorch 1.6+."
      ]
    },
    {
      "cell_type": "markdown",
      "metadata": {
        "id": "sGsPVukl8mBF"
      },
      "source": [
        "## Učitavanje podataka"
      ]
    },
    {
      "cell_type": "markdown",
      "metadata": {
        "id": "kkfRpD1q8mBF"
      },
      "source": [
        "Sljedeći kod priprema MNIST Dataset objekte koji dolaze s PyTorch paketom. Također instanciramo i DataLoader objekte koji rukuju sa mješanjem i batchanjem skupa podataka."
      ]
    },
    {
      "cell_type": "code",
      "execution_count": 4,
      "metadata": {
        "colab": {
          "base_uri": "https://localhost:8080/",
          "height": 423,
          "referenced_widgets": [
            "59e72f6cd9874a73bb2d75688e296031",
            "27615fd0107e4c3bb26950f847e33103",
            "ce3e077f0ed74c02bdd737d08af04a77",
            "af00435f7af54f05bc13ed7b8958eb65",
            "14e13da413b24417b747fb9153efe5f1",
            "9a75c2cc448248babd0bfffe772cc924",
            "58ca19f4fc574e5885dff38c4d281fb5",
            "307f7352173c47d3a16da00ae1e96e05",
            "93f8b43324844023aa055ca8ceb6b287",
            "3f08cdeecf8e4238a9889c6c86facdbe",
            "008f2879c1c64c8383d5e081d1fbb747",
            "c63898a34d184dfbbdea1df4250f6b48",
            "fac903bbf11b4eaa89bd8cb0a22f490c",
            "5fb4901aa7654ac0a21ce0d0efbcc6a1",
            "583c068a89014ca3a3c59e4e5ab06916",
            "020f8389852e4829896fb9b600d0f88d",
            "c3ca4f2b965947be889824078115197c",
            "b34d89a4263f4e0d8a246a5929303af0",
            "b4d25450535343aca08d922a6a6554f4",
            "9124e98a4482489fb97fff520045be39",
            "9698b098ed454ea6b5a7f92ae60e095c",
            "fc021976238241c7bf99e2f3f97adcb2",
            "59e36c78f2b04f3686fa124a2e2f4a56",
            "c5d3571397074cb584b4388414a91d15",
            "2409a87970bf431d88864db0d52fe505",
            "c977ec57f40648bf83ff44ff20c7aeb4",
            "5af1567d39cf49d1be9d4e9b301fb937",
            "416d809e999049aa8f9589a886019feb",
            "ff4bba8f36ff4842a17dc830ab576f08",
            "fa5e39619f194c6587837ae3bff68980",
            "f27375fc47c94f00a4408afcc7d1d890",
            "02142d034d014753849b788b1e58eaad",
            "32b301ec5f2b431a99a5eec6bcdf797c",
            "a21d8abdb6a84773bc0fcfba7a02dfeb",
            "61b21ecce71646659edae4cf287dd6d9",
            "361b9318d438428aa9798a55802efd35",
            "532d2ff60ed5419fb6681c900cdfd8ba",
            "35b4369ad30544e8b904d517bcbc4706",
            "7b414c3bbe014fb382bbe7da317cd2b8",
            "869f9812dc4144fda05f72ae2cfb57fd",
            "48997e276674475cb50015aba3612336",
            "61562abf1ec34d6683ad3b6fe950565e",
            "abecd75f190e418a934d8aadc853d769",
            "0a80927782ac44be9c85614bc638fe8e"
          ]
        },
        "id": "fAaV4B5S8mBG",
        "outputId": "abc950e7-07d6-43aa-fe59-19b383496928"
      },
      "outputs": [
        {
          "name": "stdout",
          "output_type": "stream",
          "text": [
            "Downloading http://yann.lecun.com/exdb/mnist/train-images-idx3-ubyte.gz\n",
            "Downloading http://yann.lecun.com/exdb/mnist/train-images-idx3-ubyte.gz to ./files/MNIST/raw/train-images-idx3-ubyte.gz\n"
          ]
        },
        {
          "data": {
            "application/vnd.jupyter.widget-view+json": {
              "model_id": "59e72f6cd9874a73bb2d75688e296031",
              "version_major": 2,
              "version_minor": 0
            },
            "text/plain": [
              "  0%|          | 0/9912422 [00:00<?, ?it/s]"
            ]
          },
          "metadata": {},
          "output_type": "display_data"
        },
        {
          "name": "stdout",
          "output_type": "stream",
          "text": [
            "Extracting ./files/MNIST/raw/train-images-idx3-ubyte.gz to ./files/MNIST/raw\n",
            "\n",
            "Downloading http://yann.lecun.com/exdb/mnist/train-labels-idx1-ubyte.gz\n",
            "Downloading http://yann.lecun.com/exdb/mnist/train-labels-idx1-ubyte.gz to ./files/MNIST/raw/train-labels-idx1-ubyte.gz\n"
          ]
        },
        {
          "data": {
            "application/vnd.jupyter.widget-view+json": {
              "model_id": "c63898a34d184dfbbdea1df4250f6b48",
              "version_major": 2,
              "version_minor": 0
            },
            "text/plain": [
              "  0%|          | 0/28881 [00:00<?, ?it/s]"
            ]
          },
          "metadata": {},
          "output_type": "display_data"
        },
        {
          "name": "stdout",
          "output_type": "stream",
          "text": [
            "Extracting ./files/MNIST/raw/train-labels-idx1-ubyte.gz to ./files/MNIST/raw\n",
            "\n",
            "Downloading http://yann.lecun.com/exdb/mnist/t10k-images-idx3-ubyte.gz\n",
            "Downloading http://yann.lecun.com/exdb/mnist/t10k-images-idx3-ubyte.gz to ./files/MNIST/raw/t10k-images-idx3-ubyte.gz\n"
          ]
        },
        {
          "data": {
            "application/vnd.jupyter.widget-view+json": {
              "model_id": "59e36c78f2b04f3686fa124a2e2f4a56",
              "version_major": 2,
              "version_minor": 0
            },
            "text/plain": [
              "  0%|          | 0/1648877 [00:00<?, ?it/s]"
            ]
          },
          "metadata": {},
          "output_type": "display_data"
        },
        {
          "name": "stdout",
          "output_type": "stream",
          "text": [
            "Extracting ./files/MNIST/raw/t10k-images-idx3-ubyte.gz to ./files/MNIST/raw\n",
            "\n",
            "Downloading http://yann.lecun.com/exdb/mnist/t10k-labels-idx1-ubyte.gz\n",
            "Downloading http://yann.lecun.com/exdb/mnist/t10k-labels-idx1-ubyte.gz to ./files/MNIST/raw/t10k-labels-idx1-ubyte.gz\n"
          ]
        },
        {
          "data": {
            "application/vnd.jupyter.widget-view+json": {
              "model_id": "a21d8abdb6a84773bc0fcfba7a02dfeb",
              "version_major": 2,
              "version_minor": 0
            },
            "text/plain": [
              "  0%|          | 0/4542 [00:00<?, ?it/s]"
            ]
          },
          "metadata": {},
          "output_type": "display_data"
        },
        {
          "name": "stdout",
          "output_type": "stream",
          "text": [
            "Extracting ./files/MNIST/raw/t10k-labels-idx1-ubyte.gz to ./files/MNIST/raw\n",
            "\n"
          ]
        }
      ],
      "source": [
        "batch_size_train = 64\n",
        "batch_size_test = 64\n",
        "\n",
        "train_set = torchvision.datasets.MNIST('./files/', train=True, download=True,\n",
        "                                       transform=torchvision.transforms.Compose([\n",
        "                                           torchvision.transforms.ToTensor(),\n",
        "                                           torchvision.transforms.Normalize((0.1307,), (0.3081,))])\n",
        "                                      )\n",
        "\n",
        "\n",
        "test_set = torchvision.datasets.MNIST('./files/', train=False, download=True,\n",
        "                                      transform=torchvision.transforms.Compose([\n",
        "                                          torchvision.transforms.ToTensor(),\n",
        "                                          torchvision.transforms.Normalize((0.1307,), (0.3081,))])\n",
        "                                     )"
      ]
    },
    {
      "cell_type": "code",
      "execution_count": 5,
      "metadata": {
        "id": "_J3mCzx_8mBH"
      },
      "outputs": [],
      "source": [
        "train_loader = DataLoader(train_set, batch_size=batch_size_train, shuffle=True)\n",
        "test_loader = DataLoader(test_set, batch_size=batch_size_test, shuffle=True)"
      ]
    },
    {
      "cell_type": "markdown",
      "metadata": {
        "id": "vDMLAixp8mBH"
      },
      "source": [
        "#### Podzadatak a)\n",
        "Prikažite nekoliko primjera iz skupa za testiranje. Sliku pokažite pomoću `matplotlib` funkcije `imshow`. Neka `title` prikazane slike bude labela uzorka."
      ]
    },
    {
      "cell_type": "code",
      "execution_count": 6,
      "metadata": {
        "colab": {
          "base_uri": "https://localhost:8080/",
          "height": 297
        },
        "id": "LvgD-IhH8mBI",
        "outputId": "9eeb9c8b-12c9-482e-f64f-261dfe1106ab"
      },
      "outputs": [
        {
          "data": {
            "image/png": "[encoded data removed]",
            "text/plain": [
              "<Figure size 432x288 with 6 Axes>"
            ]
          },
          "metadata": {
            "needs_background": "light"
          },
          "output_type": "display_data"
        }
      ],
      "source": [
        "examples = enumerate(test_loader)\n",
        "batch_idx, (example_data, example_targets) = next(examples)\n",
        "\n",
        "fig = plt.figure()\n",
        "for i in range(6):\n",
        "    plt.subplot(2,3,i+1)\n",
        "    plt.tight_layout()\n",
        "    plt.imshow(example_data[i].squeeze().float(), cmap='gray', vmin=0, vmax=1)\n",
        "    plt.title(\"Label: {}\".format(example_targets[i]))\n"
      ]
    },
    {
      "cell_type": "code",
      "execution_count": 7,
      "metadata": {
        "colab": {
          "base_uri": "https://localhost:8080/"
        },
        "id": "7X2Td0EWISHy",
        "outputId": "a0b0e02f-04f0-4357-c33d-4f5db279bf95"
      },
      "outputs": [
        {
          "name": "stdout",
          "output_type": "stream",
          "text": [
            "torch.Size([64, 1, 28, 28])\n",
            "torch.Size([64])\n",
            "0\n"
          ]
        }
      ],
      "source": [
        "print(example_data.shape)\n",
        "print(example_targets.shape)\n",
        "print(batch_idx)"
      ]
    },
    {
      "cell_type": "markdown",
      "metadata": {
        "id": "CsAiW163IR3r"
      },
      "source": []
    },
    {
      "cell_type": "markdown",
      "metadata": {
        "id": "1kQ9qiYI8mBJ"
      },
      "source": [
        "## Pomoćne metode za treniranje neuronskih mreža"
      ]
    },
    {
      "cell_type": "markdown",
      "metadata": {
        "id": "1S0DED4z8mBK"
      },
      "source": [
        "Nakon podzadataka ove sekcije postoji skup testova na kojima možete provjeriti točnost vaših pomoćnih funkcija. Bez točno rješenih pomoćnih funkcija ostatak labosa ne možete riješiti. "
      ]
    },
    {
      "cell_type": "markdown",
      "metadata": {
        "id": "hmrFy8BM8mBK"
      },
      "source": [
        "#### Podzadatak b) - Funkcija za određivanje broja parametara PyTorch modela\n",
        "\n",
        "Jedna od metoda usporedbe naših modela će biti po broju parametara koji čine taj model. Radi toga je potrebno napisati metodu `get_number_of_model_parameters(model)` koja za predani model `model` vraća ukupni broj parametara tog modela.\n",
        "Svaki PyTorch model sadrži implementaciju metode `.parameters()` koja vraća iterator nad parametrima modela. Ti parametri su tipa `torch.nn.parameter.Parameter`, čije dimenzije možemo dobiti pomoću `.shape` propertya.\n",
        "Dovrište traženu metodu."
      ]
    },
    {
      "cell_type": "code",
      "execution_count": 8,
      "metadata": {
        "id": "K3eW20iq8mBK"
      },
      "outputs": [],
      "source": [
        "def get_number_of_model_parameters(model):\n",
        "    return len(list(model.parameters()))\n"
      ]
    },
    {
      "cell_type": "markdown",
      "metadata": {
        "id": "IHKlhrHhL06z"
      },
      "source": []
    },
    {
      "cell_type": "markdown",
      "metadata": {
        "id": "l8WtKTCjLs_z"
      },
      "source": []
    },
    {
      "cell_type": "markdown",
      "metadata": {
        "id": "9lYXeFCj8mBK"
      },
      "source": [
        "#### Podzadatak c) - Funkcija za treniranje modela\n",
        "\n",
        "Model se trenira u četiri koraka.\n",
        "\n",
        "1. Izračuna se prolaz unaprijed nad jednim batchom.\n",
        "2. Na temelju dobivenog izlaza i točnih labela se računa gubitak. Kako je pokazano u demonstracijskoj bilježnici, \n",
        "3. Izračunata greška se propagira unazad kroz mrežu radi računanja gradijenata.\n",
        "4. Na temelju gradijenata, vrijednosti parametara i parametrima optimizatora (koji optimizator se koristi, kolika je stopa učenja, momentum i slično) se računa nova vrijednost parametara modela.\n",
        "\n",
        "Implementirajte te korake u funkciji `train_step(train_loader, epoch, device, verbose)`.  \n",
        "\n",
        "Napomene:\n",
        "* Grešku koju trebate računati je \"negative log likelihood loss\", za koju PyTorch nudi implementaciju. Preporučamo da koristite gotovu implementaciju loss funkcije. \n",
        "* Računanje gradijenata pomoću propagacije greške u nazad se računa pomoću metode `.backward()`. Nad kojim elementom pozivamo tu metodu?\n",
        "* Korak optimizacije se radi pomoću `.step()` metode optimizator objekta. Pretpostavite da postoji objekt `optimizer` u globalnom scopeu.\n",
        "* Pripazite da Vam se gradijenti ne akumuliraju kroz više koraka optimizacije. PyTorch modeli nude metodu `.zero_grad()` koja postavlja vrijednosti svih gradijenata nekog modela na 0.\n"
      ]
    },
    {
      "cell_type": "code",
      "execution_count": 9,
      "metadata": {
        "id": "9v9QCXMS8mBL"
      },
      "outputs": [],
      "source": [
        "def train_step(network, train_loader, epoch, device, verbose=True):\n",
        "    train_losses = []\n",
        "    train_counter = []\n",
        "    \n",
        "    network.train()\n",
        "    \n",
        "    for batch_idx, (data, target) in enumerate(train_loader):\n",
        "        data = data.to(device)\n",
        "        target = target.to(device)\n",
        "        \n",
        "        \n",
        "         # Forward pass through the network\n",
        "        output = network(data)\n",
        "        \n",
        "        # Calculating loss\n",
        "        loss = F.nll_loss(output, target)\n",
        "        \n",
        "        # Backward pass to calculate the gradients\n",
        "        loss.backward()\n",
        "        \n",
        "        # Updating model parameters\n",
        "        optimizer.step()\n",
        "        \n",
        "        # Reset the gradients to zero for the next iteration\n",
        "        optimizer.zero_grad()\n",
        "\n",
        "\n",
        "        \n",
        "        if (batch_idx % log_interval == 0):\n",
        "            if verbose:\n",
        "                print('Train Epoch: {:5d} [{:5d}/{:5d} ({:2.0f}%)]\\tLoss: {:.6f}'.format(\n",
        "                    epoch, \n",
        "                    batch_idx * len(data), \n",
        "                    len(train_loader.dataset),\n",
        "                    100. * batch_idx / len(train_loader), \n",
        "                    loss.item()))\n",
        "            \n",
        "            train_losses.append(loss.item())\n",
        "            train_counter.append((batch_idx*64) + ((epoch-1)*len(train_loader.dataset)))\n",
        "    \n",
        "    return train_losses, train_counter"
      ]
    },
    {
      "cell_type": "markdown",
      "metadata": {
        "id": "ohf-a5xe8mBL"
      },
      "source": [
        "#### Podzadatak d) - Funkcija za evaluaciju modela\n",
        "\n",
        "Uspješnost učenja određujemo pomoću metrika točnosti. U ovoj laboratoriskoj vježbi pratimo dvije metrike - `negative log likelihood` i `accuracy`. Sa NLLLoss smo se već susreli; accuracy definiramo kao:\n",
        "\n",
        "$ accuracy = \\frac{\\text{number of correctly classified samples}}{\\text{total number of samples}} $\n",
        "\n",
        "Nadopunite funkciju `test(network, test_loader, device, verbose)` tako da se model evaluira za navedene metrike.\n",
        "\n",
        "U predloženom kodu se koristi `with torch.no_grad()`. Kako tijekom evaluacije ne mjenjamo parametre modela, gradijent nam nije potreban. Time ubrzavamo računanje (ne računa se gradijent), štedimo memoriju (izračunati gradijent se ne sprema) i spriječavamo buduće probleme (npr. ostanu gradijenti do sljedeće faze treniranja, gdje se gradijenti test seta iskoriste za učenje)."
      ]
    },
    {
      "cell_type": "code",
      "execution_count": 10,
      "metadata": {
        "id": "6yZi-V2G8mBM"
      },
      "outputs": [],
      "source": [
        "def test(network, test_loader, device, verbose=True):\n",
        "    network.eval()\n",
        "    \n",
        "    test_loss = 0\n",
        "    correct = 0\n",
        "    with torch.no_grad():\n",
        "        for data, target in test_loader:\n",
        "            data = data.to(device)\n",
        "            target = target.to(device)\n",
        "            \n",
        "             \n",
        "             # Forward pass through the network\n",
        "            output = network(data)\n",
        "            \n",
        "            # Calculating loss\n",
        "            test_loss += F.nll_loss(output, target, reduction='sum').item()  \n",
        "            \n",
        "            # Get the predicted class\n",
        "            pred = output.argmax(dim=1, keepdim=True)  \n",
        "            \n",
        "            # Checking if the predicted class is correct\n",
        "            correct += pred.eq(target.view_as(pred)).sum().item()\n",
        "\n",
        "            \n",
        "    test_loss /= len(test_loader.dataset)\n",
        "    accuracy = 100. * correct / len(test_loader.dataset)\n",
        "    \n",
        "    if verbose:\n",
        "        print('\\nTest set: Avg. loss: {:.4f}, Accuracy: {:5d}/{:5d} ({:2.2f}%)\\n'.format(\n",
        "            test_loss, \n",
        "            correct, \n",
        "            len(test_loader.dataset),\n",
        "            accuracy))\n",
        "    \n",
        "    accuracy = torch.tensor(accuracy)\n",
        "    return test_loss, accuracy.item()"
      ]
    },
    {
      "cell_type": "markdown",
      "metadata": {
        "id": "UU8TX3m_8mBM"
      },
      "source": [
        "U sljedećoj fazi laboratorijske vježbe izvršavamo eksperimente, spremamo rezultate i uspoređujemo. Rezultate ćemo spremati u mapi `results`, tako da će `key` mape biti naziv eksperimenta, a vrijednost će biti `tuple` koji sadrži vrijednosti po kojima se model uspoređuje."
      ]
    },
    {
      "cell_type": "code",
      "execution_count": 11,
      "metadata": {
        "id": "McGMo44M8mBN"
      },
      "outputs": [],
      "source": [
        "results = dict()"
      ]
    },
    {
      "cell_type": "markdown",
      "metadata": {
        "id": "aiqiUWi_8mBN"
      },
      "source": [
        "#### Podzadatak e) - Funkcija za provođenje cijelokupnog eksperimenta nad jednim modelom\n",
        "\n",
        "Sada je vrijeme da se koraci iz prethodnih podzadataka objedine. Funkcija `train_network(network, train_loader, test_loader, device)` radi po sljedećem principu:\n",
        "\n",
        "* Pretpostavlja se da u globalnom scopeu postoji varijabla imena `n_epochs` koja nam govori koliko epoha će se eksperiment izvršavati\n",
        "* Liste `train_losses` i `test_losses` skupljaju loss vrijednosti tijekom treniranja, dok `train_counter` i `test_counter` skupljaju trenutke u kojima se metrika zabilježila (drugim riječima, to su X i Y os na grafu \"loss po vremenu\") \n",
        "* prije samog treniranja se vrši testiranje modela, da se utvrdi performansa slučajnog modela\n",
        "* U svakoj epohi se model trenira, testira i rezultati se zapisuju u odgovarajuće liste\n",
        "* Funkcija vraća te liste na kraju"
      ]
    },
    {
      "cell_type": "code",
      "execution_count": 12,
      "metadata": {
        "id": "cJegOPOX8mBO"
      },
      "outputs": [],
      "source": [
        "def train_network(network, train_loader, test_loader, device='cpu'):\n",
        "    train_losses = []\n",
        "    train_counter = []\n",
        "    test_losses = []\n",
        "    test_counter = [i*len(train_loader.dataset) for i in range(n_epochs + 1)]\n",
        "\n",
        "    # Training for the first epoch\n",
        "    new_train_losses, new_train_counter = train_step(network, train_loader, 1, device)\n",
        "    train_losses.extend(new_train_losses)\n",
        "    train_counter.extend(new_train_counter)\n",
        "\n",
        "    # Testing on the test set\n",
        "    test_loss, test_accuracy = test(network, test_loader, device)\n",
        "    test_losses.append(test_loss)\n",
        "\n",
        "    for epoch in range(1, n_epochs + 1):\n",
        "        # Training for new epoch\n",
        "        new_train_losses, new_train_counter = train_step(network, train_loader, epoch+1, device)\n",
        "        \n",
        "        train_losses.extend(new_train_losses)\n",
        "        train_counter.extend(new_train_counter)\n",
        "        test_loss, test_accuracy = test(network, test_loader, device)\n",
        "        test_losses.append(test_loss)\n",
        "        \n",
        "    return train_losses, train_counter, test_losses, test_counter, test_accuracy"
      ]
    },
    {
      "cell_type": "markdown",
      "metadata": {
        "id": "BPx7ob8Y8mBO"
      },
      "source": [
        "#### Testovi za utvrđivanje točnosti rada pomoćnih funkcija"
      ]
    },
    {
      "cell_type": "markdown",
      "metadata": {
        "id": "paV04rNe8mBO"
      },
      "source": [
        "Sljedeći kod služi kao pomoć za provjeru ispravnosti gore traženih pomoćnih funkcija. Generira se dataset u dva odvojena skupa, i cilj je naučiti model koji klasificira iz kojeg skupa točka dolazi. Prvo generiramo podatke i slažemo DataLoader:"
      ]
    },
    {
      "cell_type": "code",
      "execution_count": 13,
      "metadata": {
        "colab": {
          "base_uri": "https://localhost:8080/",
          "height": 265
        },
        "id": "kNsH_z638mBP",
        "outputId": "09a9ff5e-0a64-4ae2-bd45-7a07a5787310"
      },
      "outputs": [
        {
          "data": {
            "image/png": "[encoded data removed]",
            "text/plain": [
              "<Figure size 432x288 with 1 Axes>"
            ]
          },
          "metadata": {
            "needs_background": "light"
          },
          "output_type": "display_data"
        }
      ],
      "source": [
        "data_x = np.hstack([np.random.uniform(1, 3, 50), np.random.uniform(7, 9, 50)])\n",
        "data_y = np.hstack([np.random.uniform(1, 4, 50), np.random.uniform(10, 13, 50)])\n",
        "labels = [0 if x < 50 else 1 for x in range(0, 100)]\n",
        "\n",
        "for idx, unique_label in enumerate([\"lower left\", \"upper right\"]):\n",
        "    if idx == 0:\n",
        "        plt.scatter(data_x[0:50], data_y[0:50], label=unique_label)\n",
        "    if idx == 1:\n",
        "        plt.scatter(data_x[50:], data_y[50:], label=unique_label)\n",
        "        \n",
        "plt.legend()\n",
        "plt.xlim(0, 10)\n",
        "plt.ylim(0, 15)\n",
        "\n",
        "\n",
        "tensor_x = torch.Tensor(np.dstack([data_x, data_y]).reshape(100, 2).astype(np.float32))\n",
        "tensor_y = torch.Tensor(labels).to(dtype=torch.int64)\n",
        "\n",
        "toy_dataset = TensorDataset(tensor_x, tensor_y)\n",
        "toy_dataloader = DataLoader(toy_dataset, batch_size=1, shuffle=True)"
      ]
    },
    {
      "cell_type": "code",
      "execution_count": 14,
      "metadata": {
        "colab": {
          "base_uri": "https://localhost:8080/"
        },
        "id": "K66DPTohYR3i",
        "outputId": "218fae07-81f8-449b-b48d-1ef2d6c579e6"
      },
      "outputs": [
        {
          "data": {
            "text/plain": [
              "<torch.utils.data.dataloader.DataLoader at 0x7f9b6ac38a90>"
            ]
          },
          "execution_count": 14,
          "metadata": {},
          "output_type": "execute_result"
        }
      ],
      "source": [
        "toy_dataloader"
      ]
    },
    {
      "cell_type": "markdown",
      "metadata": {
        "id": "iNHdjaCR8mBQ"
      },
      "source": [
        "Nakon toga definiramo naš model. U ovom slučaju je model dvoslojna mreža sa dva potpuno povezana sloja. "
      ]
    },
    {
      "cell_type": "code",
      "execution_count": 15,
      "metadata": {
        "id": "WbZMVoc98mBQ"
      },
      "outputs": [],
      "source": [
        "class Net(nn.Module):\n",
        "    def __init__(self):\n",
        "        super(Net, self).__init__()\n",
        "        self.fc1 = nn.Linear(2, 4)\n",
        "        self.fc2 = nn.Linear(4, 2)\n",
        "        \n",
        "    def forward(self, x):\n",
        "        x = F.relu(self.fc1(x))\n",
        "        x = F.dropout(x, training=self.training)\n",
        "        x = self.fc2(x)\n",
        "        \n",
        "        return F.log_softmax(x, dim=1)"
      ]
    },
    {
      "cell_type": "markdown",
      "metadata": {
        "id": "br8AYdhJ8mBQ"
      },
      "source": [
        "Podešavamo parametre koje naše pomoćne funkcije očekivaju, te instanciramo model i optimizator."
      ]
    },
    {
      "cell_type": "code",
      "execution_count": 16,
      "metadata": {
        "id": "mqep0hYD8mBR"
      },
      "outputs": [],
      "source": [
        "n_epochs = 30\n",
        "learning_rate = 0.01\n",
        "log_interval = 33\n",
        "\n",
        "network = Net().to('cpu')\n",
        "optimizer = optim.SGD(network.parameters(), lr=learning_rate)"
      ]
    },
    {
      "cell_type": "markdown",
      "metadata": {
        "id": "lVxivEP58mBR"
      },
      "source": [
        "I sada možemo trenirati naš model. Vaše funkcije su ispravne ako točnost doesgne 100% (ili barem jako blizu). **Bez ispravnih pomoćnih funkcija nećete moći riješiti ostatak labosa.**"
      ]
    },
    {
      "cell_type": "code",
      "execution_count": 17,
      "metadata": {
        "colab": {
          "base_uri": "https://localhost:8080/"
        },
        "id": "kd9btJ7f8mBR",
        "outputId": "07c25041-f85a-4652-9507-127692f0191d"
      },
      "outputs": [
        {
          "name": "stdout",
          "output_type": "stream",
          "text": [
            "Train Epoch:     1 [    0/  100 ( 0%)]\tLoss: 0.570763\n",
            "Train Epoch:     1 [   33/  100 (33%)]\tLoss: 0.587111\n",
            "Train Epoch:     1 [   66/  100 (66%)]\tLoss: 0.592709\n",
            "Train Epoch:     1 [   99/  100 (99%)]\tLoss: 0.165661\n",
            "\n",
            "Test set: Avg. loss: 0.5286, Accuracy:    65/  100 (65.00%)\n",
            "\n",
            "Train Epoch:     2 [    0/  100 ( 0%)]\tLoss: 0.814574\n",
            "Train Epoch:     2 [   33/  100 (33%)]\tLoss: 0.265434\n",
            "Train Epoch:     2 [   66/  100 (66%)]\tLoss: 0.416448\n",
            "Train Epoch:     2 [   99/  100 (99%)]\tLoss: 0.740487\n",
            "\n",
            "Test set: Avg. loss: 0.4895, Accuracy:    97/  100 (97.00%)\n",
            "\n",
            "Train Epoch:     3 [    0/  100 ( 0%)]\tLoss: 0.132845\n",
            "Train Epoch:     3 [   33/  100 (33%)]\tLoss: 0.552470\n",
            "Train Epoch:     3 [   66/  100 (66%)]\tLoss: 0.592574\n",
            "Train Epoch:     3 [   99/  100 (99%)]\tLoss: 0.855247\n",
            "\n",
            "Test set: Avg. loss: 0.5064, Accuracy:   100/  100 (100.00%)\n",
            "\n",
            "Train Epoch:     4 [    0/  100 ( 0%)]\tLoss: 0.848654\n",
            "Train Epoch:     4 [   33/  100 (33%)]\tLoss: 0.792975\n",
            "Train Epoch:     4 [   66/  100 (66%)]\tLoss: 0.345806\n",
            "Train Epoch:     4 [   99/  100 (99%)]\tLoss: 0.276479\n",
            "\n",
            "Test set: Avg. loss: 0.4205, Accuracy:   100/  100 (100.00%)\n",
            "\n",
            "Train Epoch:     5 [    0/  100 ( 0%)]\tLoss: 0.170967\n",
            "Train Epoch:     5 [   33/  100 (33%)]\tLoss: 0.908588\n",
            "Train Epoch:     5 [   66/  100 (66%)]\tLoss: 0.879330\n",
            "Train Epoch:     5 [   99/  100 (99%)]\tLoss: 0.895673\n",
            "\n",
            "Test set: Avg. loss: 0.5524, Accuracy:   100/  100 (100.00%)\n",
            "\n",
            "Train Epoch:     6 [    0/  100 ( 0%)]\tLoss: 0.627012\n",
            "Train Epoch:     6 [   33/  100 (33%)]\tLoss: 0.131064\n",
            "Train Epoch:     6 [   66/  100 (66%)]\tLoss: 0.533036\n",
            "Train Epoch:     6 [   99/  100 (99%)]\tLoss: 0.900012\n",
            "\n",
            "Test set: Avg. loss: 0.4193, Accuracy:   100/  100 (100.00%)\n",
            "\n",
            "Train Epoch:     7 [    0/  100 ( 0%)]\tLoss: 0.234738\n",
            "Train Epoch:     7 [   33/  100 (33%)]\tLoss: 0.901028\n",
            "Train Epoch:     7 [   66/  100 (66%)]\tLoss: 0.167480\n",
            "Train Epoch:     7 [   99/  100 (99%)]\tLoss: 0.910257\n",
            "\n",
            "Test set: Avg. loss: 0.3212, Accuracy:   100/  100 (100.00%)\n",
            "\n",
            "Train Epoch:     8 [    0/  100 ( 0%)]\tLoss: 0.077367\n",
            "Train Epoch:     8 [   33/  100 (33%)]\tLoss: 0.256136\n",
            "Train Epoch:     8 [   66/  100 (66%)]\tLoss: 0.851192\n",
            "Train Epoch:     8 [   99/  100 (99%)]\tLoss: 0.118086\n",
            "\n",
            "Test set: Avg. loss: 0.3229, Accuracy:   100/  100 (100.00%)\n",
            "\n",
            "Train Epoch:     9 [    0/  100 ( 0%)]\tLoss: 0.918064\n",
            "Train Epoch:     9 [   33/  100 (33%)]\tLoss: 0.050076\n",
            "Train Epoch:     9 [   66/  100 (66%)]\tLoss: 0.122786\n",
            "Train Epoch:     9 [   99/  100 (99%)]\tLoss: 0.519429\n",
            "\n",
            "Test set: Avg. loss: 0.3554, Accuracy:   100/  100 (100.00%)\n",
            "\n",
            "Train Epoch:    10 [    0/  100 ( 0%)]\tLoss: 0.094516\n",
            "Train Epoch:    10 [   33/  100 (33%)]\tLoss: 0.099414\n",
            "Train Epoch:    10 [   66/  100 (66%)]\tLoss: 0.918779\n",
            "Train Epoch:    10 [   99/  100 (99%)]\tLoss: 1.040619\n",
            "\n",
            "Test set: Avg. loss: 0.2750, Accuracy:   100/  100 (100.00%)\n",
            "\n",
            "Train Epoch:    11 [    0/  100 ( 0%)]\tLoss: 0.100327\n",
            "Train Epoch:    11 [   33/  100 (33%)]\tLoss: 0.216107\n",
            "Train Epoch:    11 [   66/  100 (66%)]\tLoss: 0.925053\n",
            "Train Epoch:    11 [   99/  100 (99%)]\tLoss: 0.937492\n",
            "\n",
            "Test set: Avg. loss: 0.3760, Accuracy:   100/  100 (100.00%)\n",
            "\n",
            "Train Epoch:    12 [    0/  100 ( 0%)]\tLoss: 0.930107\n",
            "Train Epoch:    12 [   33/  100 (33%)]\tLoss: 0.025936\n",
            "Train Epoch:    12 [   66/  100 (66%)]\tLoss: 0.519339\n",
            "Train Epoch:    12 [   99/  100 (99%)]\tLoss: 0.790234\n",
            "\n",
            "Test set: Avg. loss: 0.2098, Accuracy:   100/  100 (100.00%)\n",
            "\n",
            "Train Epoch:    13 [    0/  100 ( 0%)]\tLoss: 0.033275\n",
            "Train Epoch:    13 [   33/  100 (33%)]\tLoss: 0.917522\n",
            "Train Epoch:    13 [   66/  100 (66%)]\tLoss: 0.180215\n",
            "Train Epoch:    13 [   99/  100 (99%)]\tLoss: 0.574271\n",
            "\n",
            "Test set: Avg. loss: 0.2268, Accuracy:   100/  100 (100.00%)\n",
            "\n",
            "Train Epoch:    14 [    0/  100 ( 0%)]\tLoss: 0.891215\n",
            "Train Epoch:    14 [   33/  100 (33%)]\tLoss: 0.091942\n",
            "Train Epoch:    14 [   66/  100 (66%)]\tLoss: 1.041841\n",
            "Train Epoch:    14 [   99/  100 (99%)]\tLoss: 0.086653\n",
            "\n",
            "Test set: Avg. loss: 0.2372, Accuracy:   100/  100 (100.00%)\n",
            "\n",
            "Train Epoch:    15 [    0/  100 ( 0%)]\tLoss: 0.806718\n",
            "Train Epoch:    15 [   33/  100 (33%)]\tLoss: 0.599556\n",
            "Train Epoch:    15 [   66/  100 (66%)]\tLoss: 1.158218\n",
            "Train Epoch:    15 [   99/  100 (99%)]\tLoss: 0.778370\n",
            "\n",
            "Test set: Avg. loss: 0.2310, Accuracy:   100/  100 (100.00%)\n",
            "\n",
            "Train Epoch:    16 [    0/  100 ( 0%)]\tLoss: 0.776777\n",
            "Train Epoch:    16 [   33/  100 (33%)]\tLoss: 0.592678\n",
            "Train Epoch:    16 [   66/  100 (66%)]\tLoss: 0.781879\n",
            "Train Epoch:    16 [   99/  100 (99%)]\tLoss: 0.016370\n",
            "\n",
            "Test set: Avg. loss: 0.2151, Accuracy:   100/  100 (100.00%)\n",
            "\n",
            "Train Epoch:    17 [    0/  100 ( 0%)]\tLoss: 0.786876\n",
            "Train Epoch:    17 [   33/  100 (33%)]\tLoss: 0.013516\n",
            "Train Epoch:    17 [   66/  100 (66%)]\tLoss: 0.746303\n",
            "Train Epoch:    17 [   99/  100 (99%)]\tLoss: 0.636240\n",
            "\n",
            "Test set: Avg. loss: 0.1939, Accuracy:   100/  100 (100.00%)\n",
            "\n",
            "Train Epoch:    18 [    0/  100 ( 0%)]\tLoss: 0.631819\n",
            "Train Epoch:    18 [   33/  100 (33%)]\tLoss: 0.195717\n",
            "Train Epoch:    18 [   66/  100 (66%)]\tLoss: 0.069921\n",
            "Train Epoch:    18 [   99/  100 (99%)]\tLoss: 0.759135\n",
            "\n",
            "Test set: Avg. loss: 0.1927, Accuracy:   100/  100 (100.00%)\n",
            "\n",
            "Train Epoch:    19 [    0/  100 ( 0%)]\tLoss: 0.905341\n",
            "Train Epoch:    19 [   33/  100 (33%)]\tLoss: 0.633296\n",
            "Train Epoch:    19 [   66/  100 (66%)]\tLoss: 0.737618\n",
            "Train Epoch:    19 [   99/  100 (99%)]\tLoss: 0.743735\n",
            "\n",
            "Test set: Avg. loss: 0.2718, Accuracy:   100/  100 (100.00%)\n",
            "\n",
            "Train Epoch:    20 [    0/  100 ( 0%)]\tLoss: 0.045127\n",
            "Train Epoch:    20 [   33/  100 (33%)]\tLoss: 0.080552\n",
            "Train Epoch:    20 [   66/  100 (66%)]\tLoss: 0.708612\n",
            "Train Epoch:    20 [   99/  100 (99%)]\tLoss: 0.132942\n",
            "\n",
            "Test set: Avg. loss: 0.2108, Accuracy:   100/  100 (100.00%)\n",
            "\n",
            "Train Epoch:    21 [    0/  100 ( 0%)]\tLoss: 0.717383\n",
            "Train Epoch:    21 [   33/  100 (33%)]\tLoss: 0.723062\n",
            "Train Epoch:    21 [   66/  100 (66%)]\tLoss: 0.918041\n",
            "Train Epoch:    21 [   99/  100 (99%)]\tLoss: 0.696727\n",
            "\n",
            "Test set: Avg. loss: 0.1611, Accuracy:   100/  100 (100.00%)\n",
            "\n",
            "Train Epoch:    22 [    0/  100 ( 0%)]\tLoss: 0.026857\n",
            "Train Epoch:    22 [   33/  100 (33%)]\tLoss: 0.135667\n",
            "Train Epoch:    22 [   66/  100 (66%)]\tLoss: 0.690392\n",
            "Train Epoch:    22 [   99/  100 (99%)]\tLoss: 0.141919\n",
            "\n",
            "Test set: Avg. loss: 0.2011, Accuracy:   100/  100 (100.00%)\n",
            "\n",
            "Train Epoch:    23 [    0/  100 ( 0%)]\tLoss: 0.687889\n",
            "Train Epoch:    23 [   33/  100 (33%)]\tLoss: 0.127057\n",
            "Train Epoch:    23 [   66/  100 (66%)]\tLoss: 0.691982\n",
            "Train Epoch:    23 [   99/  100 (99%)]\tLoss: 0.948377\n",
            "\n",
            "Test set: Avg. loss: 0.2256, Accuracy:   100/  100 (100.00%)\n",
            "\n",
            "Train Epoch:    24 [    0/  100 ( 0%)]\tLoss: 0.693869\n",
            "Train Epoch:    24 [   33/  100 (33%)]\tLoss: 0.671812\n",
            "Train Epoch:    24 [   66/  100 (66%)]\tLoss: 0.759457\n",
            "Train Epoch:    24 [   99/  100 (99%)]\tLoss: 0.658962\n",
            "\n",
            "Test set: Avg. loss: 0.1838, Accuracy:   100/  100 (100.00%)\n",
            "\n",
            "Train Epoch:    25 [    0/  100 ( 0%)]\tLoss: 0.008499\n",
            "Train Epoch:    25 [   33/  100 (33%)]\tLoss: 0.009835\n",
            "Train Epoch:    25 [   66/  100 (66%)]\tLoss: 0.703419\n",
            "Train Epoch:    25 [   99/  100 (99%)]\tLoss: 0.725026\n",
            "\n",
            "Test set: Avg. loss: 0.1060, Accuracy:   100/  100 (100.00%)\n",
            "\n",
            "Train Epoch:    26 [    0/  100 ( 0%)]\tLoss: 0.016870\n",
            "Train Epoch:    26 [   33/  100 (33%)]\tLoss: 0.696294\n",
            "Train Epoch:    26 [   66/  100 (66%)]\tLoss: 0.027784\n",
            "Train Epoch:    26 [   99/  100 (99%)]\tLoss: 0.690959\n",
            "\n",
            "Test set: Avg. loss: 0.1451, Accuracy:   100/  100 (100.00%)\n",
            "\n",
            "Train Epoch:    27 [    0/  100 ( 0%)]\tLoss: 0.026925\n",
            "Train Epoch:    27 [   33/  100 (33%)]\tLoss: 0.017774\n",
            "Train Epoch:    27 [   66/  100 (66%)]\tLoss: 0.743387\n",
            "Train Epoch:    27 [   99/  100 (99%)]\tLoss: 0.020669\n",
            "\n",
            "Test set: Avg. loss: 0.1065, Accuracy:   100/  100 (100.00%)\n",
            "\n",
            "Train Epoch:    28 [    0/  100 ( 0%)]\tLoss: 0.017793\n",
            "Train Epoch:    28 [   33/  100 (33%)]\tLoss: 0.758372\n",
            "Train Epoch:    28 [   66/  100 (66%)]\tLoss: 0.627197\n",
            "Train Epoch:    28 [   99/  100 (99%)]\tLoss: 0.006255\n",
            "\n",
            "Test set: Avg. loss: 0.1025, Accuracy:   100/  100 (100.00%)\n",
            "\n",
            "Train Epoch:    29 [    0/  100 ( 0%)]\tLoss: 0.753470\n",
            "Train Epoch:    29 [   33/  100 (33%)]\tLoss: 0.034758\n",
            "Train Epoch:    29 [   66/  100 (66%)]\tLoss: 0.032256\n",
            "Train Epoch:    29 [   99/  100 (99%)]\tLoss: 0.741014\n",
            "\n",
            "Test set: Avg. loss: 0.1611, Accuracy:   100/  100 (100.00%)\n",
            "\n",
            "Train Epoch:    30 [    0/  100 ( 0%)]\tLoss: 0.666155\n",
            "Train Epoch:    30 [   33/  100 (33%)]\tLoss: 0.708640\n",
            "Train Epoch:    30 [   66/  100 (66%)]\tLoss: 0.709977\n",
            "Train Epoch:    30 [   99/  100 (99%)]\tLoss: 0.686522\n",
            "\n",
            "Test set: Avg. loss: 0.1049, Accuracy:   100/  100 (100.00%)\n",
            "\n",
            "Train Epoch:    31 [    0/  100 ( 0%)]\tLoss: 0.012766\n",
            "Train Epoch:    31 [   33/  100 (33%)]\tLoss: 0.699260\n",
            "Train Epoch:    31 [   66/  100 (66%)]\tLoss: 0.701897\n",
            "Train Epoch:    31 [   99/  100 (99%)]\tLoss: 0.007269\n",
            "\n",
            "Test set: Avg. loss: 0.0861, Accuracy:   100/  100 (100.00%)\n",
            "\n"
          ]
        },
        {
          "data": {
            "text/plain": [
              "([0.5707630515098572,\n",
              "  0.5871106386184692,\n",
              "  0.5927091240882874,\n",
              "  0.16566137969493866,\n",
              "  0.8145738840103149,\n",
              "  0.265434205532074,\n",
              "  0.4164482653141022,\n",
              "  0.740487277507782,\n",
              "  0.13284505903720856,\n",
              "  0.5524699091911316,\n",
              "  0.5925735831260681,\n",
              "  0.8552466630935669,\n",
              "  0.8486543893814087,\n",
              "  0.7929750680923462,\n",
              "  0.34580644965171814,\n",
              "  0.27647894620895386,\n",
              "  0.17096726596355438,\n",
              "  0.9085882902145386,\n",
              "  0.8793303966522217,\n",
              "  0.8956729173660278,\n",
              "  0.6270121932029724,\n",
              "  0.13106422126293182,\n",
              "  0.5330363512039185,\n",
              "  0.9000122547149658,\n",
              "  0.23473799228668213,\n",
              "  0.9010282754898071,\n",
              "  0.16747991740703583,\n",
              "  0.9102565050125122,\n",
              "  0.07736685872077942,\n",
              "  0.2561364471912384,\n",
              "  0.851191520690918,\n",
              "  0.11808604747056961,\n",
              "  0.9180642366409302,\n",
              "  0.0500759556889534,\n",
              "  0.12278556078672409,\n",
              "  0.5194291472434998,\n",
              "  0.09451573342084885,\n",
              "  0.09941427409648895,\n",
              "  0.9187794923782349,\n",
              "  1.0406193733215332,\n",
              "  0.1003272533416748,\n",
              "  0.2161073535680771,\n",
              "  0.9250528812408447,\n",
              "  0.9374920725822449,\n",
              "  0.9301068782806396,\n",
              "  0.025935780256986618,\n",
              "  0.5193385481834412,\n",
              "  0.7902342081069946,\n",
              "  0.03327454999089241,\n",
              "  0.9175216555595398,\n",
              "  0.18021473288536072,\n",
              "  0.5742710828781128,\n",
              "  0.8912145495414734,\n",
              "  0.09194163978099823,\n",
              "  1.0418407917022705,\n",
              "  0.08665324747562408,\n",
              "  0.8067181706428528,\n",
              "  0.5995564460754395,\n",
              "  1.1582177877426147,\n",
              "  0.7783700823783875,\n",
              "  0.7767771482467651,\n",
              "  0.5926781892776489,\n",
              "  0.7818789482116699,\n",
              "  0.016369806602597237,\n",
              "  0.7868759632110596,\n",
              "  0.013516456820070744,\n",
              "  0.7463029026985168,\n",
              "  0.6362398862838745,\n",
              "  0.6318194270133972,\n",
              "  0.19571712613105774,\n",
              "  0.0699213370680809,\n",
              "  0.7591351270675659,\n",
              "  0.9053410887718201,\n",
              "  0.6332959532737732,\n",
              "  0.7376182079315186,\n",
              "  0.7437353134155273,\n",
              "  0.04512732848525047,\n",
              "  0.080551877617836,\n",
              "  0.7086116075515747,\n",
              "  0.13294222950935364,\n",
              "  0.7173832654953003,\n",
              "  0.7230620980262756,\n",
              "  0.918041467666626,\n",
              "  0.6967266798019409,\n",
              "  0.02685694769024849,\n",
              "  0.13566726446151733,\n",
              "  0.6903918385505676,\n",
              "  0.14191915094852448,\n",
              "  0.687888503074646,\n",
              "  0.12705688178539276,\n",
              "  0.691981852054596,\n",
              "  0.9483774304389954,\n",
              "  0.6938686370849609,\n",
              "  0.6718116998672485,\n",
              "  0.7594565153121948,\n",
              "  0.6589620113372803,\n",
              "  0.008498928509652615,\n",
              "  0.00983535498380661,\n",
              "  0.7034187316894531,\n",
              "  0.7250263690948486,\n",
              "  0.016870206221938133,\n",
              "  0.6962943077087402,\n",
              "  0.02778375893831253,\n",
              "  0.6909588575363159,\n",
              "  0.026924951002001762,\n",
              "  0.017773525789380074,\n",
              "  0.7433874607086182,\n",
              "  0.020668605342507362,\n",
              "  0.017792731523513794,\n",
              "  0.7583723068237305,\n",
              "  0.6271969676017761,\n",
              "  0.0062552145682275295,\n",
              "  0.7534699440002441,\n",
              "  0.0347575768828392,\n",
              "  0.0322556309401989,\n",
              "  0.7410141825675964,\n",
              "  0.666154682636261,\n",
              "  0.708640456199646,\n",
              "  0.7099772095680237,\n",
              "  0.6865217685699463,\n",
              "  0.012765948660671711,\n",
              "  0.6992599964141846,\n",
              "  0.7018967866897583,\n",
              "  0.00726865092292428],\n",
              " [0,\n",
              "  2112,\n",
              "  4224,\n",
              "  6336,\n",
              "  100,\n",
              "  2212,\n",
              "  4324,\n",
              "  6436,\n",
              "  200,\n",
              "  2312,\n",
              "  4424,\n",
              "  6536,\n",
              "  300,\n",
              "  2412,\n",
              "  4524,\n",
              "  6636,\n",
              "  400,\n",
              "  2512,\n",
              "  4624,\n",
              "  6736,\n",
              "  500,\n",
              "  2612,\n",
              "  4724,\n",
              "  6836,\n",
              "  600,\n",
              "  2712,\n",
              "  4824,\n",
              "  6936,\n",
              "  700,\n",
              "  2812,\n",
              "  4924,\n",
              "  7036,\n",
              "  800,\n",
              "  2912,\n",
              "  5024,\n",
              "  7136,\n",
              "  900,\n",
              "  3012,\n",
              "  5124,\n",
              "  7236,\n",
              "  1000,\n",
              "  3112,\n",
              "  5224,\n",
              "  7336,\n",
              "  1100,\n",
              "  3212,\n",
              "  5324,\n",
              "  7436,\n",
              "  1200,\n",
              "  3312,\n",
              "  5424,\n",
              "  7536,\n",
              "  1300,\n",
              "  3412,\n",
              "  5524,\n",
              "  7636,\n",
              "  1400,\n",
              "  3512,\n",
              "  5624,\n",
              "  7736,\n",
              "  1500,\n",
              "  3612,\n",
              "  5724,\n",
              "  7836,\n",
              "  1600,\n",
              "  3712,\n",
              "  5824,\n",
              "  7936,\n",
              "  1700,\n",
              "  3812,\n",
              "  5924,\n",
              "  8036,\n",
              "  1800,\n",
              "  3912,\n",
              "  6024,\n",
              "  8136,\n",
              "  1900,\n",
              "  4012,\n",
              "  6124,\n",
              "  8236,\n",
              "  2000,\n",
              "  4112,\n",
              "  6224,\n",
              "  8336,\n",
              "  2100,\n",
              "  4212,\n",
              "  6324,\n",
              "  8436,\n",
              "  2200,\n",
              "  4312,\n",
              "  6424,\n",
              "  8536,\n",
              "  2300,\n",
              "  4412,\n",
              "  6524,\n",
              "  8636,\n",
              "  2400,\n",
              "  4512,\n",
              "  6624,\n",
              "  8736,\n",
              "  2500,\n",
              "  4612,\n",
              "  6724,\n",
              "  8836,\n",
              "  2600,\n",
              "  4712,\n",
              "  6824,\n",
              "  8936,\n",
              "  2700,\n",
              "  4812,\n",
              "  6924,\n",
              "  9036,\n",
              "  2800,\n",
              "  4912,\n",
              "  7024,\n",
              "  9136,\n",
              "  2900,\n",
              "  5012,\n",
              "  7124,\n",
              "  9236,\n",
              "  3000,\n",
              "  5112,\n",
              "  7224,\n",
              "  9336],\n",
              " [0.5285713502764702,\n",
              "  0.4894768825173378,\n",
              "  0.5063602539896965,\n",
              "  0.4205400297045708,\n",
              "  0.5524155983328819,\n",
              "  0.41931616187095644,\n",
              "  0.3211760026216507,\n",
              "  0.3228521060943603,\n",
              "  0.3553592351078987,\n",
              "  0.2749702662229538,\n",
              "  0.3760335536301136,\n",
              "  0.2098037837445736,\n",
              "  0.2267682296782732,\n",
              "  0.2372016702592373,\n",
              "  0.23097690470516682,\n",
              "  0.21508496783673764,\n",
              "  0.19386546947062017,\n",
              "  0.19271746791899205,\n",
              "  0.27183319985866544,\n",
              "  0.21078709654510022,\n",
              "  0.1611013438552618,\n",
              "  0.2011412898078561,\n",
              "  0.2255804555863142,\n",
              "  0.18384430095553397,\n",
              "  0.10596646808087826,\n",
              "  0.14513560123741626,\n",
              "  0.10654168602079153,\n",
              "  0.10250670082867146,\n",
              "  0.1610636967048049,\n",
              "  0.10494805082678794,\n",
              "  0.08605262394994498],\n",
              " [0,\n",
              "  100,\n",
              "  200,\n",
              "  300,\n",
              "  400,\n",
              "  500,\n",
              "  600,\n",
              "  700,\n",
              "  800,\n",
              "  900,\n",
              "  1000,\n",
              "  1100,\n",
              "  1200,\n",
              "  1300,\n",
              "  1400,\n",
              "  1500,\n",
              "  1600,\n",
              "  1700,\n",
              "  1800,\n",
              "  1900,\n",
              "  2000,\n",
              "  2100,\n",
              "  2200,\n",
              "  2300,\n",
              "  2400,\n",
              "  2500,\n",
              "  2600,\n",
              "  2700,\n",
              "  2800,\n",
              "  2900,\n",
              "  3000],\n",
              " 100.0)"
            ]
          },
          "execution_count": 17,
          "metadata": {},
          "output_type": "execute_result"
        }
      ],
      "source": [
        "train_network(network, toy_dataloader, toy_dataloader, 'cpu')"
      ]
    },
    {
      "cell_type": "markdown",
      "metadata": {
        "id": "c0hDHgfq8mBR"
      },
      "source": [
        "## Provođenje eksperimenata i analiza rezultata"
      ]
    },
    {
      "cell_type": "markdown",
      "metadata": {
        "id": "PWvBdwXm8mBR"
      },
      "source": [
        "#### Podzadatak f) - Eksperimenti\n",
        "\n",
        "Sljedeća faza labosa je korištenje naših funkcija u okviru eksperimenata. Potrebno je testirati sljedeće modele:\n",
        "\n",
        "* **Plitki model sa uskim slojevima**\n",
        "    * Model je plitak po tome što nema puno slojeva (ne ide u dubinu) i uzak po tome što sami slojevi nemaju veliki broj elemenata (npr. 1 sloj sa 100 neurona umjesto 10 slojeva sa 10 neurona)\n",
        "    * Arhitektura modela je sljedeća:\n",
        "        * Konvolucijski sloj 5x5x10\n",
        "        * Dropout (za regularizaciju)\n",
        "        * Max pooling\n",
        "        * ReLU aktivacija\n",
        "        * Potpuno povezani sloj sa 20 neurona, ReLU aktivacija\n",
        "        * Potpuno povezani sloj za klasifikaciju u 10 klasa, log softmax aktivacijska funkcija\n",
        "    * U `results` mapi se sprema pod ključem `shallow_and_narrow_{stopa učenja}`\n",
        "* **Plitki model sa širokim slojevima**\n",
        "    * Ovaj model također nema puno slojeva, ali ti slojevi imaju puno elemenata\n",
        "    * Arhitektura modela je sljedeća:\n",
        "        * Konvolucijski sloj 5x5x40\n",
        "        * Dropout (za regularizaciju)\n",
        "        * Max pooling\n",
        "        * ReLU aktivacija\n",
        "        * Potpuno povezani sloj sa 64 neurona, ReLU aktivacija\n",
        "        * Potpuno povezani sloj za klasifikaciju u 10 klasa, log softmax aktivacijska funkcija\n",
        "    * U `results` mapi se sprema pod ključem `shallow_and_wide_{stopa učenja}`\n",
        "* **Duboki model sa uskim slojevima**\n",
        "    * Ovaj model ima puno slojeva, ali su ti slojevi ograničeni u svojoj širini\n",
        "    * Arhitektura modela je sljedeća:\n",
        "        * Konvolucijski sloj 5x5x10, ReLU aktivacijska funkcija\n",
        "        * Max pooling\n",
        "        * Konvolucijski sloj 5x5x20, ReLU aktivacijska funkcija\n",
        "        * Max pooling\n",
        "        * Potpuno povezani sloj sa 64 neurona, ReLU aktivacija\n",
        "        * Dropout (za regularizaciju)\n",
        "        * Potpuno povezani sloj za klasifikaciju u 10 klasa, log softmax aktivacijska funkcija\n",
        "    * U `results` mapi se sprema pod ključem `deep_and_narrow_{stopa učenja}`\n",
        "* **Duboki model sa širokim slojevima**\n",
        "    * Model koji ima sve komponente dobro (ili previše?) zastupljene.\n",
        "    * Arhitektura modela je sljedeća:\n",
        "        * Konvolucijski sloj 5x5x32, ReLU aktivacijska funkcija\n",
        "        * Max pooling\n",
        "        * Konvolucijski sloj 5x5x64, ReLU aktivacijska funkcija\n",
        "        * Max pooling\n",
        "        * Potpuno povezani sloj sa 50 neurona, ReLU aktivacija\n",
        "        * Dropout (za regularizaciju)\n",
        "        * Potpuno povezani sloj za klasifikaciju u 10 klasa, log softmax aktivacijska funkcija\n",
        "    * U `results` mapi se sprema pod ključem `deep_and_wide_{stopa učenja}`\n",
        "\n",
        "\n",
        "Implementirajte `.__init__(self)` i `.forward(self, x)` metode za svaki od opisanih modela, trenirajte ih, evaluirajte i spremite metrike. **Ponovite taj postupak za 3 različite stope učenja: 0.0000001, 0.01 i 1.**\n",
        "\n",
        "Sve potrebne slojeve za ostvarenje navedenih modela možete pronaći u torch.nn modulu. Detalje možete pronaći u službenoj PyTorch dokumentaciji: https://pytorch.org/docs/stable/index.html \n",
        "\n",
        "**Spremite si najbolji model. Biti će potreban u podzadatku h)**."
      ]
    },
    {
      "cell_type": "markdown",
      "metadata": {
        "id": "Ren1f8A_8mBS"
      },
      "source": [
        "Prvo je potrebno podesiti parametre. Parametri su sljedeći:\n",
        "* n_epochs - broj epoha eksperimenta\n",
        "* learning_rate - stopa učenja\n",
        "* log_interval - broj koraka između dva ispisa tijekom treniranja (ispis se dešava samo ako se funkcija poziva s argumentom verbose=True)\n",
        "* device - oznaka na kojem se uređaju izvršava eksperiment; \"cuda\" za GPU, \"cpu\" za CPU"
      ]
    },
    {
      "cell_type": "code",
      "execution_count": 125,
      "metadata": {
        "id": "oDWKY6xv8mBT"
      },
      "outputs": [],
      "source": [
        "n_epochs = 3\n",
        "learning_rate = 0.0001\n",
        "log_interval = 100\n",
        "device = 'cuda'"
      ]
    },
    {
      "cell_type": "markdown",
      "metadata": {
        "id": "bIESjpBifLij"
      },
      "source": []
    },
    {
      "cell_type": "markdown",
      "metadata": {
        "id": "CCwyio0H8mBT"
      },
      "source": [
        "Naš model definiramo u klasi \"Net\" koja nasljeđuje nn.Module. Nadjačajte metode `__init__(self)` i `forward(self, x)` kako je opisano u tekstu zadatka."
      ]
    },
    {
      "cell_type": "code",
      "execution_count": 116,
      "metadata": {
        "id": "F1m2mIIS8mBT"
      },
      "outputs": [],
      "source": [
        "#shallow_narrow\n",
        "class Net1(nn.Module):\n",
        "    def __init__(self):\n",
        "        super(Net, self).__init__()\n",
        "        self.conv1 = nn.Conv2d(1, 10, 5)\n",
        "        self.pool = nn.MaxPool2d(2,2)\n",
        "        self.fc1 = nn.Linear(10*12*12, 20)\n",
        "        self.fc2 = nn.Linear(20, 10)\n",
        "\n",
        "    def forward(self, x):\n",
        "        x = self.pool(F.relu(self.conv1(x)))\n",
        "        x = F.dropout(x, training = self.training)\n",
        "        x = x.view(-1, 10*12*12)\n",
        "        x = F.relu(self.fc1(x))\n",
        "        x = self.fc2(x)\n",
        "        return F.log_softmax(x, dim=1)"
      ]
    },
    {
      "cell_type": "code",
      "execution_count": 120,
      "metadata": {
        "id": "2N5AFg1a2c4k"
      },
      "outputs": [],
      "source": [
        "#shallow_wide\n",
        "class Net2(nn.Module):\n",
        "    def __init__(self):\n",
        "        super(Net, self).__init__()\n",
        "        self.conv1 = nn.Conv2d(1, 40, 5)\n",
        "        self.pool = nn.MaxPool2d(2,2)\n",
        "        self.fc1 = nn.Linear(40*12*12, 64)\n",
        "        self.fc2 = nn.Linear(64, 10)\n",
        "\n",
        "    def forward(self, x):\n",
        "        x = self.pool(F.relu(self.conv1(x)))\n",
        "        #print(x.shape)\n",
        "        x = F.dropout(x, training = self.training)\n",
        "        x = x.view(-1, 40*12*12)\n",
        "        x = F.relu(self.fc1(x))\n",
        "        x = self.fc2(x)\n",
        "        return F.log_softmax(x, dim=1)"
      ]
    },
    {
      "cell_type": "code",
      "execution_count": 139,
      "metadata": {
        "id": "UePINxYP94-R"
      },
      "outputs": [],
      "source": [
        "#deep_narrow\n",
        "class Net3(nn.Module):\n",
        "    def __init__(self):\n",
        "        super(Net, self).__init__()\n",
        "        self.conv1 = nn.Conv2d(1, 10, 5)\n",
        "        self.pool1 = nn.MaxPool2d(2,2)\n",
        "        self.conv2 = nn.Conv2d(10, 25, 5)  #5x5x25\n",
        "        self.pool2 = nn.MaxPool2d(2,2)\n",
        "        self.fc1 = nn.Linear(25*4*4, 64)\n",
        "        self.fc2 = nn.Linear(64, 10)\n",
        "\n",
        "    def forward(self, x):\n",
        "        x = self.pool1(F.relu(self.conv1(x)))\n",
        "        x = self.pool2(F.relu(self.conv2(x)))\n",
        "        #print(x.shape)\n",
        "        x = x.view(-1, 25*4*4)\n",
        "        x = F.relu(self.fc1(x))\n",
        "        x = F.dropout(x, training = self.training)\n",
        "        x = self.fc2(x)\n",
        "        return F.log_softmax(x, dim=1)"
      ]
    },
    {
      "cell_type": "code",
      "execution_count": 127,
      "metadata": {
        "id": "3D53MuSLFUFP"
      },
      "outputs": [],
      "source": [
        "#deep_wide\n",
        "class Net4(nn.Module):\n",
        "    def __init__(self):\n",
        "        super(Net, self).__init__()\n",
        "        self.conv1 = nn.Conv2d(1, 32, 5)\n",
        "        self.pool1 = nn.MaxPool2d(2,2)\n",
        "        self.conv2 = nn.Conv2d(32, 64, 5) \n",
        "        self.pool2 = nn.MaxPool2d(2,2)\n",
        "        self.fc1 = nn.Linear(64*4*4, 50)\n",
        "        self.fc2 = nn.Linear(50, 10)\n",
        "\n",
        "    def forward(self, x):\n",
        "        x = self.pool1(F.relu(self.conv1(x)))\n",
        "        x = self.pool2(F.relu(self.conv2(x)))\n",
        "        #print(x.shape)\n",
        "        x = x.view(-1, 64*4*4)\n",
        "        x = F.relu(self.fc1(x))\n",
        "        x = F.dropout(x, training = self.training)\n",
        "        x = self.fc2(x)\n",
        "        return F.log_softmax(x, dim=1)"
      ]
    },
    {
      "cell_type": "markdown",
      "metadata": {
        "id": "fKokmD838mBT"
      },
      "source": [
        "Da bi trenirali naš model, potrebno je napraviti instancu mreže i optimizatora. Koristite Stohastic Gradient Descent optimizator iz torch.optim modula. Detalji se mogu pronaći u službenoj dokuemntaciji PyTorcha za optim modul: https://pytorch.org/docs/stable/optim.html"
      ]
    },
    {
      "cell_type": "code",
      "execution_count": 140,
      "metadata": {
        "id": "HrXS5a7U8mBT"
      },
      "outputs": [],
      "source": [
        "#CUDA is not available\n",
        "device = 'cpu'\n",
        "network = Net().to(device)\n",
        "optimizer = optim.SGD(network.parameters(), lr=learning_rate)\n"
      ]
    },
    {
      "cell_type": "markdown",
      "metadata": {
        "id": "qgC4PDf38mBU"
      },
      "source": [
        "Iskoristimo našu pripremljenu funkciju za izvođenje eksperimenta:"
      ]
    },
    {
      "cell_type": "code",
      "execution_count": 129,
      "metadata": {
        "colab": {
          "base_uri": "https://localhost:8080/"
        },
        "id": "1FSxK8WV8mBU",
        "outputId": "f63ed670-69f1-4c23-8d67-1be79f70f3f3"
      },
      "outputs": [
        {
          "name": "stdout",
          "output_type": "stream",
          "text": [
            "Train Epoch:     1 [    0/60000 ( 0%)]\tLoss: 2.304215\n",
            "Train Epoch:     1 [ 6400/60000 (11%)]\tLoss: 2.322809\n",
            "Train Epoch:     1 [12800/60000 (21%)]\tLoss: 2.322682\n",
            "Train Epoch:     1 [19200/60000 (32%)]\tLoss: 2.282442\n",
            "Train Epoch:     1 [25600/60000 (43%)]\tLoss: 2.291109\n",
            "Train Epoch:     1 [32000/60000 (53%)]\tLoss: 2.276059\n",
            "Train Epoch:     1 [38400/60000 (64%)]\tLoss: 2.266811\n",
            "Train Epoch:     1 [44800/60000 (75%)]\tLoss: 2.280913\n",
            "Train Epoch:     1 [51200/60000 (85%)]\tLoss: 2.275471\n",
            "Train Epoch:     1 [57600/60000 (96%)]\tLoss: 2.280291\n",
            "\n",
            "Test set: Avg. loss: 2.2579, Accuracy:  2150/10000 (21.50%)\n",
            "\n",
            "Train Epoch:     2 [    0/60000 ( 0%)]\tLoss: 2.257065\n",
            "Train Epoch:     2 [ 6400/60000 (11%)]\tLoss: 2.261903\n",
            "Train Epoch:     2 [12800/60000 (21%)]\tLoss: 2.262595\n",
            "Train Epoch:     2 [19200/60000 (32%)]\tLoss: 2.265421\n",
            "Train Epoch:     2 [25600/60000 (43%)]\tLoss: 2.251772\n",
            "Train Epoch:     2 [32000/60000 (53%)]\tLoss: 2.212819\n",
            "Train Epoch:     2 [38400/60000 (64%)]\tLoss: 2.236204\n",
            "Train Epoch:     2 [44800/60000 (75%)]\tLoss: 2.208304\n",
            "Train Epoch:     2 [51200/60000 (85%)]\tLoss: 2.233890\n",
            "Train Epoch:     2 [57600/60000 (96%)]\tLoss: 2.240784\n",
            "\n",
            "Test set: Avg. loss: 2.2145, Accuracy:  4008/10000 (40.08%)\n",
            "\n",
            "Train Epoch:     3 [    0/60000 ( 0%)]\tLoss: 2.237931\n",
            "Train Epoch:     3 [ 6400/60000 (11%)]\tLoss: 2.239225\n",
            "Train Epoch:     3 [12800/60000 (21%)]\tLoss: 2.200679\n",
            "Train Epoch:     3 [19200/60000 (32%)]\tLoss: 2.206349\n",
            "Train Epoch:     3 [25600/60000 (43%)]\tLoss: 2.190384\n",
            "Train Epoch:     3 [32000/60000 (53%)]\tLoss: 2.203305\n",
            "Train Epoch:     3 [38400/60000 (64%)]\tLoss: 2.214767\n",
            "Train Epoch:     3 [44800/60000 (75%)]\tLoss: 2.181753\n",
            "Train Epoch:     3 [51200/60000 (85%)]\tLoss: 2.182233\n",
            "Train Epoch:     3 [57600/60000 (96%)]\tLoss: 2.145876\n",
            "\n",
            "Test set: Avg. loss: 2.1637, Accuracy:  5141/10000 (51.41%)\n",
            "\n",
            "Train Epoch:     4 [    0/60000 ( 0%)]\tLoss: 2.174978\n",
            "Train Epoch:     4 [ 6400/60000 (11%)]\tLoss: 2.174067\n",
            "Train Epoch:     4 [12800/60000 (21%)]\tLoss: 2.187218\n",
            "Train Epoch:     4 [19200/60000 (32%)]\tLoss: 2.133045\n",
            "Train Epoch:     4 [25600/60000 (43%)]\tLoss: 2.158245\n",
            "Train Epoch:     4 [32000/60000 (53%)]\tLoss: 2.156576\n",
            "Train Epoch:     4 [38400/60000 (64%)]\tLoss: 2.120146\n",
            "Train Epoch:     4 [44800/60000 (75%)]\tLoss: 2.176408\n",
            "Train Epoch:     4 [51200/60000 (85%)]\tLoss: 2.125495\n",
            "Train Epoch:     4 [57600/60000 (96%)]\tLoss: 2.136786\n",
            "\n",
            "Test set: Avg. loss: 2.1025, Accuracy:  5990/10000 (59.90%)\n",
            "\n"
          ]
        }
      ],
      "source": [
        "train_losses, train_counter, test_losses, test_counter, test_accuracy = train_network(network, train_loader, test_loader, device)"
      ]
    },
    {
      "cell_type": "markdown",
      "metadata": {
        "id": "YnIGh2l88mBU"
      },
      "source": [
        "Spremimo rezultate u mapu `results` kako je navedeno u zadatku. Također nam je potreban broj parametara mreže, što možemo izračunati u ovom koraku."
      ]
    },
    {
      "cell_type": "code",
      "execution_count": 130,
      "metadata": {
        "id": "4IDqN3iy8mBU"
      },
      "outputs": [],
      "source": [
        "number_of_parameters = get_number_of_model_parameters(network)\n",
        "#results[f'shallow_and_narrow_{learning_rate}'] = (train_counter, train_losses, test_counter, test_losses, test_accuracy, number_of_parameters)\n",
        "#results[f'shallow_and_wide_{learning_rate}'] = (train_counter, train_losses, test_counter, test_losses, test_accuracy, number_of_parameters)\n",
        "results[f'deep_and_narrow_{learning_rate}'] = (train_counter, train_losses, test_counter, test_losses, test_accuracy, number_of_parameters)\n",
        "#results[f'deep_and_wide_{learning_rate}'] = (train_counter, train_losses, test_counter, test_losses, test_accuracy, number_of_parameters)"
      ]
    },
    {
      "cell_type": "markdown",
      "metadata": {
        "id": "u6vxWgvv8mBV"
      },
      "source": [
        "Prikažimo rezultate za ovaj eksperiment:"
      ]
    },
    {
      "cell_type": "code",
      "execution_count": 131,
      "metadata": {
        "colab": {
          "base_uri": "https://localhost:8080/",
          "height": 334
        },
        "id": "Y2JnHIGG8mBV",
        "outputId": "d1764257-e113-4a44-ad27-3681727cddcd"
      },
      "outputs": [
        {
          "data": {
            "image/png": "[encoded data removed]",
            "text/plain": [
              "<Figure size 1152x360 with 1 Axes>"
            ]
          },
          "metadata": {
            "needs_background": "light"
          },
          "output_type": "display_data"
        }
      ],
      "source": [
        "fig = plt.figure(figsize=(16, 5))\n",
        "plt.plot(train_counter, train_losses, color='blue', label='Train loss')\n",
        "plt.plot(test_counter, test_losses, color='red',  marker='o', label='Test loss')\n",
        "plt.vlines(test_counter, 0, max(train_losses + test_losses), linestyles='dashed', label='Epoch markers')\n",
        "\n",
        "plt.legend(loc='upper right')\n",
        "plt.xlabel('Number of samples')\n",
        "plt.ylabel('Loss')\n",
        "plt.grid()"
      ]
    },
    {
      "cell_type": "markdown",
      "metadata": {
        "id": "9Y3TO-eh8mBV"
      },
      "source": [
        "**Nadopunite bilježnicu sa svim traženim arhitekturama i learning rateovima zadanim u ovom podzadatku.** "
      ]
    },
    {
      "cell_type": "markdown",
      "metadata": {
        "id": "0N73eaQq8mBV"
      },
      "source": [
        "#### Podzadatak g) - Usporedba rezultata\n",
        "\n",
        "Nakon što smo izvršili sve eksperimente potrebno ih je usporediti. Nacrtajte tražene grafove, te pomoću njih odgovorite na pitanja postavljena na Moodleu."
      ]
    },
    {
      "cell_type": "markdown",
      "metadata": {
        "id": "0IWnMHAI8mBV"
      },
      "source": [
        "Nacrtajte graf gdje je X os vrijeme (odgovara na pitanje: koji korak treniranja?), a Y os je loss za **trening** skup podataka."
      ]
    },
    {
      "cell_type": "markdown",
      "metadata": {
        "id": "gfEpetAm8mBW"
      },
      "source": [
        "Odgovorite na sljedeća pitanja:\n",
        "1. Radi li se o konzistentnom padu iz koraka u korak?\n",
        "2. Jesu li neke arhitekture u startu značajno bolje od drugih?\n",
        "3. Koji model je najnestabilniji tijekom treniranja?"
      ]
    },
    {
      "cell_type": "code",
      "execution_count": 132,
      "metadata": {
        "colab": {
          "base_uri": "https://localhost:8080/",
          "height": 405
        },
        "id": "OyiTfnal8mBW",
        "outputId": "8df7499b-22af-465f-9e0c-c7e7a304be50"
      },
      "outputs": [
        {
          "data": {
            "text/plain": [
              "Text(0.5, 0, 'Steps')"
            ]
          },
          "execution_count": 132,
          "metadata": {},
          "output_type": "execute_result"
        },
        {
          "data": {
            "image/png": "[encoded data removed]",
            "text/plain": [
              "<Figure size 1368x432 with 1 Axes>"
            ]
          },
          "metadata": {
            "needs_background": "light"
          },
          "output_type": "display_data"
        }
      ],
      "source": [
        "plt.figure(figsize=(19, 6))\n",
        "\n",
        "for model_key in results:\n",
        "    train_counter, train_losses, test_counter, test_losses, test_accuracy, number_of_parameters = results[model_key]\n",
        "    plt.plot(train_counter, train_losses, label=model_key)\n",
        "\n",
        "plt.legend()\n",
        "plt.grid()\n",
        "plt.ylabel(\"Train loss\")\n",
        "plt.xlabel(\"Steps\")"
      ]
    },
    {
      "cell_type": "markdown",
      "metadata": {
        "id": "sjQvS9h18mBX"
      },
      "source": [
        "Nacrtajte graf gdje je X os vrijeme (odgovara na pitanje: koji korak treniranja?), a Y os je loss za **test** skupu podataka."
      ]
    },
    {
      "cell_type": "markdown",
      "metadata": {
        "id": "V1giPvlo8mBX"
      },
      "source": [
        "Odgovorite na sljedeća pitanja:\n",
        "4. Radi li se o konzistentnom padu iz koraka u korak?\n",
        "5. Jesu li neke arhitekture u startu značajno bolje od drugih?"
      ]
    },
    {
      "cell_type": "code",
      "execution_count": 133,
      "metadata": {
        "colab": {
          "base_uri": "https://localhost:8080/",
          "height": 405
        },
        "id": "P4Uf1TiF8mBX",
        "outputId": "85005003-8397-48fe-c16a-cf49facdc0ca"
      },
      "outputs": [
        {
          "data": {
            "text/plain": [
              "Text(0, 0.5, 'Steps')"
            ]
          },
          "execution_count": 133,
          "metadata": {},
          "output_type": "execute_result"
        },
        {
          "data": {
            "image/png": "[encoded data removed]",
            "text/plain": [
              "<Figure size 1368x432 with 1 Axes>"
            ]
          },
          "metadata": {
            "needs_background": "light"
          },
          "output_type": "display_data"
        }
      ],
      "source": [
        "plt.figure(figsize=(19, 6))\n",
        "\n",
        "for model_key in results:\n",
        "    train_counter, train_losses, test_counter, test_losses, test_accuracy, number_of_parameters = results[model_key]\n",
        "    plt.plot(test_counter, test_losses, label=model_key)\n",
        "\n",
        "plt.legend()\n",
        "plt.grid()\n",
        "plt.xlabel(\"Test accuracy\")\n",
        "plt.ylabel(\"Steps\")"
      ]
    },
    {
      "cell_type": "markdown",
      "metadata": {
        "id": "rtLhEzai8mBY"
      },
      "source": [
        "Nacrtajte graf (scatter plot) gdje je X os broj parametara modela, a Y os je točnost koju model ostvaruje na test skupu."
      ]
    },
    {
      "cell_type": "markdown",
      "metadata": {
        "id": "chMbNJjk8mBY"
      },
      "source": [
        "Odgovorite na sljedeća pitanja:\n",
        "6. Koji je najbolji model?\n",
        "7. Kakvi su duboki modeli u usporedbu s plitkim modelima?\n",
        "8. Kakvi su široki modeli u usporedbi s uskima?"
      ]
    },
    {
      "cell_type": "code",
      "execution_count": 134,
      "metadata": {
        "colab": {
          "base_uri": "https://localhost:8080/",
          "height": 568
        },
        "id": "9bPtKsdn8mBY",
        "outputId": "ee1afa52-965d-4bcd-87b8-a31e07b6c354"
      },
      "outputs": [
        {
          "data": {
            "text/plain": [
              "Text(0.5, 0, 'Number of parameters')"
            ]
          },
          "execution_count": 134,
          "metadata": {},
          "output_type": "execute_result"
        },
        {
          "data": {
            "image/png": "[encoded data removed]",
            "text/plain": [
              "<Figure size 648x648 with 1 Axes>"
            ]
          },
          "metadata": {
            "needs_background": "light"
          },
          "output_type": "display_data"
        }
      ],
      "source": [
        "plt.figure(figsize=(9, 9))\n",
        "\n",
        "for model_key in results:\n",
        "    train_counter, train_losses, test_counter, test_losses, test_accuracy, number_of_parameters = results[model_key]\n",
        "    plt.scatter(number_of_parameters, test_accuracy, label=model_key, s=256)\n",
        "\n",
        "plt.legend()\n",
        "plt.grid()\n",
        "plt.ylabel(\"Test accuracy\")\n",
        "plt.xlabel(\"Number of parameters\")"
      ]
    },
    {
      "cell_type": "markdown",
      "metadata": {
        "id": "anR2jStp8mBY"
      },
      "source": [
        "#### Podzadatak h) - Evaluacija na neviđenom skupu podataka\n",
        "\n",
        "Preuzmite skup podataka za ocjenjivanje sa sljedeće poveznice: http://zver6.zesoi.fer.hr:18080/labos_oi/submission_z1.zip\n",
        "\n",
        "Primjer filea kojeg treba generirati možete preuzeti sa: http://zver6.zesoi.fer.hr:18080/labos_oi/zad1_submission_sample.csv \n",
        "\n",
        "Odredite predikcije Vašeg najboljeg modela nad tim skupom, te ih stavite na Moodle."
      ]
    },
    {
      "cell_type": "markdown",
      "metadata": {
        "id": "rxTgKs3R8mBY"
      },
      "source": [
        "## Zadatak 2 - Pronalazak znamenki na slici i klasifikacija pronađene znamenke "
      ]
    },
    {
      "cell_type": "markdown",
      "metadata": {
        "id": "9iGLwJySAe3R"
      },
      "source": []
    },
    {
      "cell_type": "markdown",
      "metadata": {
        "id": "P4bKWIm78mBZ"
      },
      "source": [
        "Drugi zadatak je proširenje naučenog u prvom zadatku. Problem se proširuje - umjesto klasifikacije rukom pisane znamenke, naš problem je sada pronalazak rukom pisane znamenke na slici **i** klasifikacija.\n",
        "\n",
        "Kao i u prethodnoj vježbi, dani su dijeli koda potrebnog za ostvarenje vježbe, a na Vama je da nadopunite dijelove koji nedostaju."
      ]
    },
    {
      "cell_type": "markdown",
      "metadata": {
        "id": "HwZHyOWk8mBZ"
      },
      "source": [
        "#### Skup podataka\n",
        "\n",
        "Da bi mogli trenirati model za klasifikaciju i detekciju objekta na slici, moramo imati odgovarajući dataset. Koristimo postojeći MNIST dataset, a modificiramo ga tako da postavimo originalni MNIST uzorak na slučajnu poziciju na praznoj slici. Sljedeći kod generira takve uzorke, vraćajući modificiranu sliku, oznaku kategorije i poziciju znamenke na slici (*bounding box*)."
      ]
    },
    {
      "cell_type": "code",
      "execution_count": 135,
      "metadata": {
        "id": "1Xqwk5ze8mBZ"
      },
      "outputs": [],
      "source": [
        "class PositionMNIST(Dataset):\n",
        "    \n",
        "    def __init__(self, image_size=128, transform=None, train_set=False):\n",
        "        self.image_size = image_size\n",
        "        self.transform = transform\n",
        "        \n",
        "        self.set = torchvision.datasets.MNIST('./files/', train=train_set, download=True)\n",
        "        self.position_cache = [-1] * len(self.set)\n",
        "    \n",
        "    def __len__(self):\n",
        "        return len(self.set)\n",
        "\n",
        "    def __getitem__(self, idx):\n",
        "        if self.position_cache[idx] == -1:\n",
        "            x_pos = int(np.random.uniform(0, self.image_size-29))\n",
        "            y_pos = int(np.random.uniform(0, self.image_size-29))\n",
        "            self.position_cache[idx] = (x_pos, y_pos)\n",
        "            \n",
        "        x_pos, y_pos = self.position_cache[idx]\n",
        "        \n",
        "        canvas = np.zeros((self.image_size, self.image_size, 1), dtype=np.uint8)\n",
        "        canvas[y_pos:(y_pos+28), x_pos:(x_pos+28), 0] = self.set[idx][0]\n",
        "        \n",
        "        x_pos = float(x_pos)\n",
        "        y_pos = float(y_pos)\n",
        "        \n",
        "        if self.transform is not None:\n",
        "            canvas = self.transform(canvas)\n",
        "        \n",
        "        return canvas, self.set[idx][1], (x_pos, y_pos, x_pos+28, y_pos+28)"
      ]
    },
    {
      "cell_type": "code",
      "execution_count": 136,
      "metadata": {
        "id": "dQutnfaT8mBa"
      },
      "outputs": [],
      "source": [
        "batch_size_train = 128\n",
        "batch_size_test = 128\n",
        "image_size = 128\n",
        "\n",
        "train_set = PositionMNIST(train_set=True, image_size=image_size, transform=torchvision.transforms.Compose([torchvision.transforms.ToTensor(),\n",
        "                                                                                    torchvision.transforms.Normalize((0.1307,), (0.3081,))]))\n",
        "\n",
        "test_set = PositionMNIST(train_set=False, image_size=image_size, transform=torchvision.transforms.Compose([torchvision.transforms.ToTensor(),\n",
        "                                                                                    torchvision.transforms.Normalize((0.1307,), (0.3081,))]))"
      ]
    },
    {
      "cell_type": "code",
      "execution_count": 137,
      "metadata": {
        "id": "4kW-io_C8mBa"
      },
      "outputs": [],
      "source": [
        "train_loader = DataLoader(train_set, batch_size=batch_size_train, shuffle=True)\n",
        "test_loader = DataLoader(test_set, batch_size=batch_size_test, shuffle=True)"
      ]
    },
    {
      "cell_type": "markdown",
      "metadata": {
        "id": "izLrwVgL8mBb"
      },
      "source": [
        "#### Podzadatak a) - Vizualizacija podataka\n",
        "\n",
        "Uzmite jedan uzorak pomoću data loadera i vizualizirajte ga. Neka u titleu piše klasa i lokacija."
      ]
    },
    {
      "cell_type": "code",
      "execution_count": 138,
      "metadata": {
        "colab": {
          "base_uri": "https://localhost:8080/",
          "height": 284
        },
        "id": "Q8Z3aDgM8mBb",
        "outputId": "d3b0e768-61df-4fb3-c4e2-2e9dbe796c5d"
      },
      "outputs": [
        {
          "data": {
            "image/png": "[encoded data removed]",
            "text/plain": [
              "<Figure size 648x288 with 6 Axes>"
            ]
          },
          "metadata": {},
          "output_type": "display_data"
        }
      ],
      "source": [
        "examples = enumerate(test_loader)\n",
        "batch_idx, (example_data, example_label, example_positions) = next(examples)\n",
        "fig = plt.figure(figsize=(9, 4))\n",
        "for i in range(6):\n",
        "    plt.subplot(2,3,i+1)\n",
        "    plt.tight_layout()\n",
        "    # ----- \n",
        "    plt.imshow(example_data[i][0])\n",
        "    plt.title(f\"{example_label[i]}, {example_positions[0][i]}, {example_positions[1][i]}, {example_positions[2][i]}, {example_positions[3][i]}\")\n",
        "    # -----\n",
        "    plt.xticks([])\n",
        "    plt.yticks([])\n"
      ]
    },
    {
      "cell_type": "markdown",
      "metadata": {
        "id": "9KcHmrq78mBb"
      },
      "source": [
        "#### Podzadatak b) - Pomoćne funkcije za treniranje\n",
        "\n",
        "Nadopunite pomoćne funkcije za treniranje neuronskih mreža po principu naučenom u 1. zadatku. Temeljna razlika između pomoćne funkcije iz prethodnog zadatke i pomoćne funkcije u ovom zadatku je:\n",
        "\n",
        "1. Rukovanje s podacima (ovdje ih ima više)\n",
        "2. Drugi problem rješavamo, stoga trebamo drugačiju loss funkciju.\n",
        "\n",
        "Loss funkcija će se u ovom slučaju sastojati od dva dijela - loss za klasifikaciju s kojim smo se već upoznali, i prosječan kvadrat greške (*mean squared error*) za određivanje pozicije. Loss će se računa kao:\n",
        "\n",
        "$ \\mathcal{L} = \\text{NLLLoss}(\\text{classification output}, \\text{target)} + \\frac{(x_1 - \\hat{x}_1)^2 + (y_1 - \\hat{y}_1)^2 + (x_2 - \\hat{x}_2)^2 + (y_2 - \\hat{y}_2)^2}{128 \\cdot 128}  $\n",
        "\n",
        "Pri čemu su $x$ i $y$ točne pozicije objekta na slici, a $\\hat{x}$ i $\\hat{y}$ su modelom određene pozicije objekta.\n"
      ]
    },
    {
      "cell_type": "code",
      "execution_count": 143,
      "metadata": {
        "id": "kcWsWKk5neWG"
      },
      "outputs": [],
      "source": [
        "def position_loss_fn(output, position):\n",
        "    loss_mse = 0\n",
        "    for i in range(position[1].shape[0]):\n",
        "      loss_mse += ((position[0][i]-output[1][i])**2 + (position[1][i]-output[2][i])**2 + (position[2][i]-output[3][i])**2 + (position[3][i]-output[4][i])**2) / (128.*128.)\n",
        "    return loss_mse / i "
      ]
    },
    {
      "cell_type": "code",
      "execution_count": 144,
      "metadata": {
        "id": "8WUQaQaI8mBb"
      },
      "outputs": [],
      "source": [
        "def train_step(train_loader, epoch, device, verbose=True):\n",
        "    train_losses = []\n",
        "    train_counter = []\n",
        "    \n",
        "    network.train()\n",
        "    \n",
        "    for batch_idx, (data, target, position) in enumerate(train_loader):\n",
        "        data = data.to(device)\n",
        "        target = target.to(device)\n",
        "        \n",
        "        # ----- \n",
        "        optimizer.zero_grad()\n",
        "        output = network(data)\n",
        "\n",
        "        class_loss = F.nll_loss(output, target)\n",
        "        position_loss = position_loss_fn(output, position)\n",
        "        loss = class_loss + position_loss\n",
        "        loss.backward()\n",
        "        optimizer.step()\n",
        "        # -------\n",
        "        \n",
        "        if batch_idx % log_interval == 0:\n",
        "            if verbose:\n",
        "                print('Train Epoch: {:5d} [{:5d}/{:5d} ({:2.0f}%)]\\tLoss: {:.6f}'.format(\n",
        "                    epoch, \n",
        "                    batch_idx * len(data), \n",
        "                    len(train_loader.dataset),\n",
        "                    100. * batch_idx / len(train_loader), \n",
        "                    loss.item()))\n",
        "                \n",
        "            train_losses.append(loss.item())\n",
        "            train_counter.append((batch_idx*64) + ((epoch-1)*len(train_loader.dataset)))\n",
        "            \n",
        "    return train_losses, train_counter"
      ]
    },
    {
      "cell_type": "markdown",
      "metadata": {
        "id": "3MF8Pn8l8mBc"
      },
      "source": [
        "Po istom principu iz 1. zadatka nadopunite funkciju za evaluaciju modela. U ovom slučaju mjerimo 3 stvari: sam loss, točnost klasifikacije i posebno loss za detekciju."
      ]
    },
    {
      "cell_type": "code",
      "execution_count": 157,
      "metadata": {
        "id": "BYjqEjj78mBc"
      },
      "outputs": [],
      "source": [
        "def test(test_loader, device, verbose=True):\n",
        "    network.eval()\n",
        "    \n",
        "    test_loss_clsf = 0\n",
        "    test_loss_bbox = 0\n",
        "    correct = 0\n",
        "    with torch.no_grad():\n",
        "        for data, target, position in test_loader:\n",
        "            data = data.to(device)\n",
        "            target = target.to(device)\n",
        "\n",
        "            # ---- \n",
        "            output, classification_output, position_output = network(data)\n",
        "            test_loss += F.nll_loss(output, target, reduction='sum').item() # sum up batch loss\n",
        "            position_loss += F.mse_loss(position_output, position, reduction='sum').item()\n",
        "            pred = classification_output.argmax(dim=1, keepdim=True) # get the index of the max log-probability\n",
        "            correct += pred.eq(target.view_as(pred)).sum().item()\n",
        "            # ----------\n",
        "            \n",
        "    test_loss_clsf /= len(test_loader.dataset)\n",
        "    test_loss_bbox /= len(test_loader.dataset)\n",
        "    test_accuracy = 100. * correct / len(test_loader.dataset)\n",
        "    \n",
        "    \n",
        "    if verbose:\n",
        "        print('\\n[Test] Classification: Avg. loss: {:.4f}, Accuracy: {:5d}/{:5d} ({:2.2f}%) | Object detection: Avg. loss: {:.4f}\\n'.format(\n",
        "            test_loss_clsf, \n",
        "            correct, \n",
        "            len(test_loader.dataset),\n",
        "            100. * correct / len(test_loader.dataset), \n",
        "            test_loss_bbox))\n",
        "    \n",
        "    return test_loss_clsf, test_accuracy, correct, test_loss_bbox"
      ]
    },
    {
      "cell_type": "markdown",
      "metadata": {
        "id": "Chd5JfTj8mBc"
      },
      "source": [
        "Pomoćna funkcija za provođene eksperimenata iz prethodnog zadatka je iskoristiva do na praćenje dodatnih metrika. Proširite tu funkciju za ovaj zadatak."
      ]
    },
    {
      "cell_type": "code",
      "execution_count": 158,
      "metadata": {
        "id": "ffmaJJ6-8mBc"
      },
      "outputs": [],
      "source": [
        "def train_network(network, train_loader, test_loader, device='cpu'):\n",
        "    train_losses = []\n",
        "    train_counter = []\n",
        "    test_losses_clsf = []\n",
        "    test_accuracies = []\n",
        "    test_losses_bbox = []\n",
        "    test_counter = [i*len(train_loader.dataset) for i in range(n_epochs + 1)]\n",
        "\n",
        "    # -----\n",
        "    (test_loss_clsf, test_accuracy, correct, test_loss_bbox) = test(test_loader, device)\n",
        "    test_losses_clsf.append(test_loss_clsf)\n",
        "    test_accuracies.append(test_accuracy)\n",
        "    test_losses_bbox.append(test_loss_bbox)\n",
        "    # ----------\n",
        "\n",
        "    for epoch in range(1, n_epochs + 1):\n",
        "        # ---------\n",
        "        (new_train_losses, new_train_counter) = train_step(train_loader, epoch, device)\n",
        "        (test_loss_clsf, test_accuracy, correct, test_loss_bbox) = test(test_loader, device)\n",
        "        train_losses.extend(new_train_losses)\n",
        "        train_counter.extend(new_train_counter)\n",
        "        test_losses_clsf.append(test_loss_clsf)\n",
        "        test_accuracies.append(test_accuracy)\n",
        "        test_losses_bbox.append(test_loss_bbox)\n",
        "        # ---------\n",
        "        \n",
        "    # --------- \n",
        "    test_losses_total = []\n",
        "    test_losses_new = []\n",
        "    i = 0\n",
        "    for loss in test_losses_clsf:\n",
        "      test_losses_new.append(loss + test_losses_bbox[i])\n",
        "      i = i + 1\n",
        "    test_losses_total.append(test_losses_new)\n",
        "    # -----------\n",
        "    \n",
        "    return train_losses, train_counter, test_losses_clsf, test_accuracies, test_losses_bbox, test_counter"
      ]
    },
    {
      "cell_type": "markdown",
      "metadata": {
        "id": "752yh1Zy8mBc"
      },
      "source": [
        "## Provođenje eksperimenata i analiza rezultata"
      ]
    },
    {
      "cell_type": "markdown",
      "metadata": {
        "id": "SZeBa8sM8mBd"
      },
      "source": [
        "#### Podzadatak c) - Izrada modela koji točno klasificira i locira objekt na slici"
      ]
    },
    {
      "cell_type": "markdown",
      "metadata": {
        "id": "MBIdYjC_8mBd"
      },
      "source": [
        "Kao i u prethodnom zadatku, prvo je potrebno podesiti parametre. Parametri su isti, no ponovimo:\n",
        "* n_epochs - broj epoha eksperimenta\n",
        "* learning_rate - stopa učenja\n",
        "* log_interval - broj koraka između dva ispisa tijekom treniranja (ispis se dešava samo ako se funkcija poziva s argumentom verbose=True)\n",
        "* device - oznaka na kojem se uređaju izvršava eksperiment; \"cuda\" za GPU, \"cpu\" za CPU"
      ]
    },
    {
      "cell_type": "code",
      "execution_count": 159,
      "metadata": {
        "id": "PHx75b4o8mBe"
      },
      "outputs": [],
      "source": [
        "n_epochs = 3\n",
        "learning_rate = 0.0005\n",
        "momentum = 0.9\n",
        "log_interval = 100\n",
        "device = 'cpu'"
      ]
    },
    {
      "cell_type": "markdown",
      "metadata": {
        "id": "qUCpikHW8mBe"
      },
      "source": [
        "Temeljna razlika u arhitekturi modela ovog zadatka i arhitekture modela iz prethodnog zadatka je broj izlaza. Prošla neuronska mreža je imala 10 izlaznih neurona - svaki za jednu klasu. Ova neuronska mreža ima 14 izlaza - 10 za svaku klasu za klasifikacijski problem i 4 za svaku koordinatu rezultirajućeg bounding boxa objekta.\n",
        "\n",
        "Na temelju iskustva iz 1. zadatka, nadopunite sljedeći model da bi riješili problem:"
      ]
    },
    {
      "cell_type": "code",
      "execution_count": 164,
      "metadata": {
        "id": "U1UHYk5I8mBe"
      },
      "outputs": [],
      "source": [
        "class Net(nn.Module):\n",
        "    def __init__(self, image_size):\n",
        "        super(Net, self).__init__()\n",
        "        self.image_size = image_size\n",
        "        \n",
        "        # --------\n",
        "        # Ovdje je dan primjer jednog ulaznog conv sloja i oblika izlaznih slojeva za orijentaciju\n",
        "        \n",
        "        self.conv1 = nn.Conv2d(1, 64, kernel_size=3)\n",
        "        self.pool1 = nn.MaxPool2d(kernel_size=2)\n",
        "        self.conv2 = nn.Conv2d(64, 128, kernel_size=3)\n",
        "        self.pool2 = nn.MaxPool2d(kernel_size=2)\n",
        "        self.class_fc1 = nn.Linear(in_features=3136, out_features=240)\n",
        "        self.drop = nn.Dropout(0.1)\n",
        "        self.class_fc2 = nn.Linear(in_features=240, out_features=120)\n",
        "\n",
        "        self.class_out = nn.Linear(in_features=120, out_features=10)\n",
        "\n",
        "        self.obj_x1 = nn.Linear(4, 1)\n",
        "        self.obj_y1 = nn.Linear(4, 1)\n",
        "        self.obj_x2 = nn.Linear(4, 1)\n",
        "        self.obj_y2 = nn.Linear(4, 1)\n",
        "\n",
        "        self.obj_x1_out = nn.Linear(1, 1)\n",
        "        self.obj_y1_out = nn.Linear(1, 1)\n",
        "        self.obj_x2_out = nn.Linear(1, 1)\n",
        "        self.obj_y2_out = nn.Linear(1, 1)\n",
        "        # --------\n",
        "\n",
        "    def forward(self, x):\n",
        "        # ---- ovdje nadopunite ostatak mreže\n",
        "        x = F.relu(self.conv1(x))\n",
        "        x = self.pool1(x)\n",
        "        x = F.relu(self.conv2(x))\n",
        "        x = self.pool2(x)\n",
        "      \n",
        "        x = nn.Flatten(1, -1)(x)\n",
        "\n",
        "        c = F.relu(self.class_fc1(x))\n",
        "        c = self.drop(c)\n",
        "        c = F.relu(self.class_fc2(c))\n",
        "        c = F.relu(self.class_out(c))\n",
        "\n",
        "        x = F.relu(self.box_fc1(x))\n",
        "        x = F.relu(self.box_fc2(x))\n",
        "        x = F.relu(self.box_out(x))\n",
        "        \n",
        "        x1 = F.relu(self.obj_x1(x))\n",
        "        y1 = F.relu(self.obj_y1(x))\n",
        "        x2 = F.relu(self.obj_x2(x))\n",
        "        y2 = F.relu(self.obj_y2(x))\n",
        "        # -------- izlaz za klasifikaciju\n",
        "        clsf = F.log_softmax(x, dim=1)\n",
        "\n",
        "        # -------- izlaz za detekciju\n",
        "        x1 = F.relu(self.obj_x1_out(x1))\n",
        "        y1 = F.relu(self.obj_y1_out(y1))\n",
        "        x2 = F.relu(self.obj_x2_out(x2))\n",
        "        y2 = F.relu(self.obj_y2_out(y2))\n",
        "        \n",
        "        return clsf, x1.squeeze(), y1.squeeze(), x2.squeeze(), y2.squeeze()"
      ]
    },
    {
      "cell_type": "code",
      "execution_count": 161,
      "metadata": {
        "colab": {
          "base_uri": "https://localhost:8080/"
        },
        "id": "WBPkKzf08mBg",
        "outputId": "a128d8d5-f08d-4e28-bdcc-c6346946b323"
      },
      "outputs": [
        {
          "name": "stdout",
          "output_type": "stream",
          "text": [
            "Broj parametara u modelu: 26\n"
          ]
        }
      ],
      "source": [
        "number_of_params = get_number_of_model_parameters(network)\n",
        "print(\"Broj parametara u modelu:\", number_of_params)"
      ]
    },
    {
      "cell_type": "code",
      "execution_count": 165,
      "metadata": {
        "id": "iTj1SQ0l8mBg"
      },
      "outputs": [],
      "source": [
        "network = Net(image_size).to(device)\n",
        "optimizer = optim.Adam(network.parameters(), lr=learning_rate)"
      ]
    },
    {
      "cell_type": "code",
      "execution_count": 166,
      "metadata": {
        "colab": {
          "base_uri": "https://localhost:8080/",
          "height": 311
        },
        "id": "zHadg7188mBg",
        "outputId": "33bf4c6d-2f72-4181-b635-41ee0bf08d06"
      },
      "outputs": [
        {
          "ename": "RuntimeError",
          "evalue": "ignored",
          "output_type": "error",
          "traceback": [
            "\u001b[0;31m---------------------------------------------------------------------------\u001b[0m",
            "\u001b[0;31mRuntimeError\u001b[0m                              Traceback (most recent call last)",
            "\u001b[0;32m<ipython-input-166-777e9b7ac061>\u001b[0m in \u001b[0;36m<module>\u001b[0;34m\u001b[0m\n\u001b[0;32m----> 1\u001b[0;31m \u001b[0mtrain_losses\u001b[0m\u001b[0;34m,\u001b[0m \u001b[0mtrain_counter\u001b[0m\u001b[0;34m,\u001b[0m \u001b[0mtest_losses_clsf\u001b[0m\u001b[0;34m,\u001b[0m \u001b[0mtest_accuracies\u001b[0m\u001b[0;34m,\u001b[0m \u001b[0mtest_losses_bbox\u001b[0m\u001b[0;34m,\u001b[0m \u001b[0mtest_counter\u001b[0m \u001b[0;34m=\u001b[0m \u001b[0mtrain_network\u001b[0m\u001b[0;34m(\u001b[0m\u001b[0mnetwork\u001b[0m\u001b[0;34m,\u001b[0m \u001b[0mtrain_loader\u001b[0m\u001b[0;34m,\u001b[0m \u001b[0mtest_loader\u001b[0m\u001b[0;34m,\u001b[0m \u001b[0mdevice\u001b[0m\u001b[0;34m)\u001b[0m\u001b[0;34m\u001b[0m\u001b[0;34m\u001b[0m\u001b[0m\n\u001b[0m",
            "\u001b[0;32m<ipython-input-158-b52bccb34d26>\u001b[0m in \u001b[0;36mtrain_network\u001b[0;34m(network, train_loader, test_loader, device)\u001b[0m\n\u001b[1;32m      8\u001b[0m \u001b[0;34m\u001b[0m\u001b[0m\n\u001b[1;32m      9\u001b[0m     \u001b[0;31m# -----\u001b[0m\u001b[0;34m\u001b[0m\u001b[0;34m\u001b[0m\u001b[0;34m\u001b[0m\u001b[0m\n\u001b[0;32m---> 10\u001b[0;31m     \u001b[0;34m(\u001b[0m\u001b[0mtest_loss_clsf\u001b[0m\u001b[0;34m,\u001b[0m \u001b[0mtest_accuracy\u001b[0m\u001b[0;34m,\u001b[0m \u001b[0mcorrect\u001b[0m\u001b[0;34m,\u001b[0m \u001b[0mtest_loss_bbox\u001b[0m\u001b[0;34m)\u001b[0m \u001b[0;34m=\u001b[0m \u001b[0mtest\u001b[0m\u001b[0;34m(\u001b[0m\u001b[0mtest_loader\u001b[0m\u001b[0;34m,\u001b[0m \u001b[0mdevice\u001b[0m\u001b[0;34m)\u001b[0m\u001b[0;34m\u001b[0m\u001b[0;34m\u001b[0m\u001b[0m\n\u001b[0m\u001b[1;32m     11\u001b[0m     \u001b[0mtest_losses_clsf\u001b[0m\u001b[0;34m.\u001b[0m\u001b[0mappend\u001b[0m\u001b[0;34m(\u001b[0m\u001b[0mtest_loss_clsf\u001b[0m\u001b[0;34m)\u001b[0m\u001b[0;34m\u001b[0m\u001b[0;34m\u001b[0m\u001b[0m\n\u001b[1;32m     12\u001b[0m     \u001b[0mtest_accuracies\u001b[0m\u001b[0;34m.\u001b[0m\u001b[0mappend\u001b[0m\u001b[0;34m(\u001b[0m\u001b[0mtest_accuracy\u001b[0m\u001b[0;34m)\u001b[0m\u001b[0;34m\u001b[0m\u001b[0;34m\u001b[0m\u001b[0m\n",
            "\u001b[0;32m<ipython-input-157-78577e21c483>\u001b[0m in \u001b[0;36mtest\u001b[0;34m(test_loader, device, verbose)\u001b[0m\n\u001b[1;32m     11\u001b[0m \u001b[0;34m\u001b[0m\u001b[0m\n\u001b[1;32m     12\u001b[0m             \u001b[0;31m# ----\u001b[0m\u001b[0;34m\u001b[0m\u001b[0;34m\u001b[0m\u001b[0;34m\u001b[0m\u001b[0m\n\u001b[0;32m---> 13\u001b[0;31m             \u001b[0moutput\u001b[0m\u001b[0;34m,\u001b[0m \u001b[0mclassification_output\u001b[0m\u001b[0;34m,\u001b[0m \u001b[0mposition_output\u001b[0m \u001b[0;34m=\u001b[0m \u001b[0mnetwork\u001b[0m\u001b[0;34m(\u001b[0m\u001b[0mdata\u001b[0m\u001b[0;34m)\u001b[0m\u001b[0;34m\u001b[0m\u001b[0;34m\u001b[0m\u001b[0m\n\u001b[0m\u001b[1;32m     14\u001b[0m             \u001b[0mtest_loss\u001b[0m \u001b[0;34m+=\u001b[0m \u001b[0mF\u001b[0m\u001b[0;34m.\u001b[0m\u001b[0mnll_loss\u001b[0m\u001b[0;34m(\u001b[0m\u001b[0moutput\u001b[0m\u001b[0;34m,\u001b[0m \u001b[0mtarget\u001b[0m\u001b[0;34m,\u001b[0m \u001b[0mreduction\u001b[0m\u001b[0;34m=\u001b[0m\u001b[0;34m'sum'\u001b[0m\u001b[0;34m)\u001b[0m\u001b[0;34m.\u001b[0m\u001b[0mitem\u001b[0m\u001b[0;34m(\u001b[0m\u001b[0;34m)\u001b[0m \u001b[0;31m# sum up batch loss\u001b[0m\u001b[0;34m\u001b[0m\u001b[0;34m\u001b[0m\u001b[0m\n\u001b[1;32m     15\u001b[0m             \u001b[0mposition_loss\u001b[0m \u001b[0;34m+=\u001b[0m \u001b[0mF\u001b[0m\u001b[0;34m.\u001b[0m\u001b[0mmse_loss\u001b[0m\u001b[0;34m(\u001b[0m\u001b[0mposition_output\u001b[0m\u001b[0;34m,\u001b[0m \u001b[0mposition\u001b[0m\u001b[0;34m,\u001b[0m \u001b[0mreduction\u001b[0m\u001b[0;34m=\u001b[0m\u001b[0;34m'sum'\u001b[0m\u001b[0;34m)\u001b[0m\u001b[0;34m.\u001b[0m\u001b[0mitem\u001b[0m\u001b[0;34m(\u001b[0m\u001b[0;34m)\u001b[0m\u001b[0;34m\u001b[0m\u001b[0;34m\u001b[0m\u001b[0m\n",
            "\u001b[0;32m/usr/local/lib/python3.8/dist-packages/torch/nn/modules/module.py\u001b[0m in \u001b[0;36m_call_impl\u001b[0;34m(self, *input, **kwargs)\u001b[0m\n\u001b[1;32m   1192\u001b[0m         if not (self._backward_hooks or self._forward_hooks or self._forward_pre_hooks or _global_backward_hooks\n\u001b[1;32m   1193\u001b[0m                 or _global_forward_hooks or _global_forward_pre_hooks):\n\u001b[0;32m-> 1194\u001b[0;31m             \u001b[0;32mreturn\u001b[0m \u001b[0mforward_call\u001b[0m\u001b[0;34m(\u001b[0m\u001b[0;34m*\u001b[0m\u001b[0minput\u001b[0m\u001b[0;34m,\u001b[0m \u001b[0;34m**\u001b[0m\u001b[0mkwargs\u001b[0m\u001b[0;34m)\u001b[0m\u001b[0;34m\u001b[0m\u001b[0;34m\u001b[0m\u001b[0m\n\u001b[0m\u001b[1;32m   1195\u001b[0m         \u001b[0;31m# Do not call functions when jit is used\u001b[0m\u001b[0;34m\u001b[0m\u001b[0;34m\u001b[0m\u001b[0;34m\u001b[0m\u001b[0m\n\u001b[1;32m   1196\u001b[0m         \u001b[0mfull_backward_hooks\u001b[0m\u001b[0;34m,\u001b[0m \u001b[0mnon_full_backward_hooks\u001b[0m \u001b[0;34m=\u001b[0m \u001b[0;34m[\u001b[0m\u001b[0;34m]\u001b[0m\u001b[0;34m,\u001b[0m \u001b[0;34m[\u001b[0m\u001b[0;34m]\u001b[0m\u001b[0;34m\u001b[0m\u001b[0;34m\u001b[0m\u001b[0m\n",
            "\u001b[0;32m<ipython-input-164-c6ea6662ac87>\u001b[0m in \u001b[0;36mforward\u001b[0;34m(self, x)\u001b[0m\n\u001b[1;32m     37\u001b[0m         \u001b[0mx\u001b[0m \u001b[0;34m=\u001b[0m \u001b[0mnn\u001b[0m\u001b[0;34m.\u001b[0m\u001b[0mFlatten\u001b[0m\u001b[0;34m(\u001b[0m\u001b[0;36m1\u001b[0m\u001b[0;34m,\u001b[0m \u001b[0;34m-\u001b[0m\u001b[0;36m1\u001b[0m\u001b[0;34m)\u001b[0m\u001b[0;34m(\u001b[0m\u001b[0mx\u001b[0m\u001b[0;34m)\u001b[0m\u001b[0;34m\u001b[0m\u001b[0;34m\u001b[0m\u001b[0m\n\u001b[1;32m     38\u001b[0m \u001b[0;34m\u001b[0m\u001b[0m\n\u001b[0;32m---> 39\u001b[0;31m         \u001b[0mc\u001b[0m \u001b[0;34m=\u001b[0m \u001b[0mF\u001b[0m\u001b[0;34m.\u001b[0m\u001b[0mrelu\u001b[0m\u001b[0;34m(\u001b[0m\u001b[0mself\u001b[0m\u001b[0;34m.\u001b[0m\u001b[0mclass_fc1\u001b[0m\u001b[0;34m(\u001b[0m\u001b[0mx\u001b[0m\u001b[0;34m)\u001b[0m\u001b[0;34m)\u001b[0m\u001b[0;34m\u001b[0m\u001b[0;34m\u001b[0m\u001b[0m\n\u001b[0m\u001b[1;32m     40\u001b[0m         \u001b[0mc\u001b[0m \u001b[0;34m=\u001b[0m \u001b[0mself\u001b[0m\u001b[0;34m.\u001b[0m\u001b[0mdrop\u001b[0m\u001b[0;34m(\u001b[0m\u001b[0mc\u001b[0m\u001b[0;34m)\u001b[0m\u001b[0;34m\u001b[0m\u001b[0;34m\u001b[0m\u001b[0m\n\u001b[1;32m     41\u001b[0m         \u001b[0mc\u001b[0m \u001b[0;34m=\u001b[0m \u001b[0mF\u001b[0m\u001b[0;34m.\u001b[0m\u001b[0mrelu\u001b[0m\u001b[0;34m(\u001b[0m\u001b[0mself\u001b[0m\u001b[0;34m.\u001b[0m\u001b[0mclass_fc2\u001b[0m\u001b[0;34m(\u001b[0m\u001b[0mc\u001b[0m\u001b[0;34m)\u001b[0m\u001b[0;34m)\u001b[0m\u001b[0;34m\u001b[0m\u001b[0;34m\u001b[0m\u001b[0m\n",
            "\u001b[0;32m/usr/local/lib/python3.8/dist-packages/torch/nn/modules/module.py\u001b[0m in \u001b[0;36m_call_impl\u001b[0;34m(self, *input, **kwargs)\u001b[0m\n\u001b[1;32m   1192\u001b[0m         if not (self._backward_hooks or self._forward_hooks or self._forward_pre_hooks or _global_backward_hooks\n\u001b[1;32m   1193\u001b[0m                 or _global_forward_hooks or _global_forward_pre_hooks):\n\u001b[0;32m-> 1194\u001b[0;31m             \u001b[0;32mreturn\u001b[0m \u001b[0mforward_call\u001b[0m\u001b[0;34m(\u001b[0m\u001b[0;34m*\u001b[0m\u001b[0minput\u001b[0m\u001b[0;34m,\u001b[0m \u001b[0;34m**\u001b[0m\u001b[0mkwargs\u001b[0m\u001b[0;34m)\u001b[0m\u001b[0;34m\u001b[0m\u001b[0;34m\u001b[0m\u001b[0m\n\u001b[0m\u001b[1;32m   1195\u001b[0m         \u001b[0;31m# Do not call functions when jit is used\u001b[0m\u001b[0;34m\u001b[0m\u001b[0;34m\u001b[0m\u001b[0;34m\u001b[0m\u001b[0m\n\u001b[1;32m   1196\u001b[0m         \u001b[0mfull_backward_hooks\u001b[0m\u001b[0;34m,\u001b[0m \u001b[0mnon_full_backward_hooks\u001b[0m \u001b[0;34m=\u001b[0m \u001b[0;34m[\u001b[0m\u001b[0;34m]\u001b[0m\u001b[0;34m,\u001b[0m \u001b[0;34m[\u001b[0m\u001b[0;34m]\u001b[0m\u001b[0;34m\u001b[0m\u001b[0;34m\u001b[0m\u001b[0m\n",
            "\u001b[0;32m/usr/local/lib/python3.8/dist-packages/torch/nn/modules/linear.py\u001b[0m in \u001b[0;36mforward\u001b[0;34m(self, input)\u001b[0m\n\u001b[1;32m    112\u001b[0m \u001b[0;34m\u001b[0m\u001b[0m\n\u001b[1;32m    113\u001b[0m     \u001b[0;32mdef\u001b[0m \u001b[0mforward\u001b[0m\u001b[0;34m(\u001b[0m\u001b[0mself\u001b[0m\u001b[0;34m,\u001b[0m \u001b[0minput\u001b[0m\u001b[0;34m:\u001b[0m \u001b[0mTensor\u001b[0m\u001b[0;34m)\u001b[0m \u001b[0;34m->\u001b[0m \u001b[0mTensor\u001b[0m\u001b[0;34m:\u001b[0m\u001b[0;34m\u001b[0m\u001b[0;34m\u001b[0m\u001b[0m\n\u001b[0;32m--> 114\u001b[0;31m         \u001b[0;32mreturn\u001b[0m \u001b[0mF\u001b[0m\u001b[0;34m.\u001b[0m\u001b[0mlinear\u001b[0m\u001b[0;34m(\u001b[0m\u001b[0minput\u001b[0m\u001b[0;34m,\u001b[0m \u001b[0mself\u001b[0m\u001b[0;34m.\u001b[0m\u001b[0mweight\u001b[0m\u001b[0;34m,\u001b[0m \u001b[0mself\u001b[0m\u001b[0;34m.\u001b[0m\u001b[0mbias\u001b[0m\u001b[0;34m)\u001b[0m\u001b[0;34m\u001b[0m\u001b[0;34m\u001b[0m\u001b[0m\n\u001b[0m\u001b[1;32m    115\u001b[0m \u001b[0;34m\u001b[0m\u001b[0m\n\u001b[1;32m    116\u001b[0m     \u001b[0;32mdef\u001b[0m \u001b[0mextra_repr\u001b[0m\u001b[0;34m(\u001b[0m\u001b[0mself\u001b[0m\u001b[0;34m)\u001b[0m \u001b[0;34m->\u001b[0m \u001b[0mstr\u001b[0m\u001b[0;34m:\u001b[0m\u001b[0;34m\u001b[0m\u001b[0;34m\u001b[0m\u001b[0m\n",
            "\u001b[0;31mRuntimeError\u001b[0m: mat1 and mat2 shapes cannot be multiplied (128x115200 and 3136x240)"
          ]
        }
      ],
      "source": [
        "train_losses, train_counter, test_losses_clsf, test_accuracies, test_losses_bbox, test_counter = train_network(network, train_loader, test_loader, device)"
      ]
    },
    {
      "cell_type": "markdown",
      "metadata": {
        "id": "ty08zU4j8mBg"
      },
      "source": [
        "**Vizualizacija metrika uspješnosti**"
      ]
    },
    {
      "cell_type": "markdown",
      "metadata": {
        "id": "EfAB-KQ58mBg"
      },
      "source": [
        "Vizualizirajte si sve metrike na sljedećem grafu: train_losses, test_losses_total, test_losses_clsf i test_losses_bbox. Pripazite što vam je na x osi!"
      ]
    },
    {
      "cell_type": "code",
      "execution_count": null,
      "metadata": {
        "id": "amyVEs9X8mBg"
      },
      "outputs": [],
      "source": [
        "test_losses_total = np.array(test_losses_clsf) + np.array(test_losses_bbox)\n",
        "\n",
        "fig = plt.figure(figsize=(32, 7))\n",
        "# ---- \n",
        "\n",
        "# ----------\n",
        "\n",
        "plt.legend(loc='upper right')\n",
        "plt.xlabel('Number of samples')\n",
        "plt.ylabel('Loss')\n",
        "plt.grid()"
      ]
    },
    {
      "cell_type": "markdown",
      "metadata": {
        "id": "DZz1rci68mBg"
      },
      "source": [
        "#### Vizualni pregled - što model estimira?"
      ]
    },
    {
      "cell_type": "markdown",
      "metadata": {
        "id": "5A5BzuzF8mBh"
      },
      "source": [
        "Iskorisite sljedeći kod da bi vidjeli kako izgledaju predikcije Vašeg modela."
      ]
    },
    {
      "cell_type": "code",
      "execution_count": null,
      "metadata": {
        "id": "Z56nnWF58mBh"
      },
      "outputs": [],
      "source": [
        "with torch.no_grad():\n",
        "    clsf_out, x1_out, y1_out, x2_out, y2_out = network(example_data.to(device))\n",
        "\n",
        "plt.figure(figsize=(32, 32))\n",
        "for idx in range(0, example_data.shape[0]):\n",
        "    image = np.array(example_data[idx, 0, ...]).copy()\n",
        "\n",
        "    x1, y1, x2, y2 = list(map(lambda x: int(x.item()), [x1_out[idx, ...], y1_out[idx, ...], x2_out[idx, ...], y2_out[idx, ...]]))\n",
        "    image = cv2.rectangle(image, (x1, y1), (x2, y2), (2.5), 2)\n",
        "\n",
        "    plt.subplot(12, 12, idx+1)\n",
        "    plt.imshow(image)\n",
        "    plt.title(np.argmax(clsf_out[idx, ...].cpu()))\n",
        "    plt.xticks([])\n",
        "    plt.yticks([])"
      ]
    },
    {
      "cell_type": "markdown",
      "metadata": {
        "id": "EevkWCQb8mBh"
      },
      "source": [
        "#### Podzadatak d) - Evaluacija na neviđenom skupu podataka\n",
        "\n",
        "Preuzmite skup podataka za ocjenjivanje sa sljedeće poveznice: http://zver6.zesoi.fer.hr:18080/labos_oi/submission_z2.zip\n",
        "\n",
        "Primjer filea kojeg treba generirati možete preuzeti sa: http://zver6.zesoi.fer.hr:18080/labos_oi/zad2_submission_sample.csv \n",
        "\n",
        "Odredite predikcije Vašeg najboljeg modela nad tim skupom, te ih stavite na Moodle."
      ]
    }
  ],
  "metadata": {
    "colab": {
      "provenance": []
    },
    "kernelspec": {
      "display_name": "base",
      "language": "python",
      "name": "python3"
    },
    "language_info": {
      "codemirror_mode": {
        "name": "ipython",
        "version": 3
      },
      "file_extension": ".py",
      "mimetype": "text/x-python",
      "name": "python",
      "nbconvert_exporter": "python",
      "pygments_lexer": "ipython3",
      "version": "3.9.12"
    },
    "vscode": {
      "interpreter": {
        "hash": "4a45f69f94fa8da2d70bb8943ce840f363abed962631035725c80787e83f2ca8"
      }
    },
    "widgets": {
      "application/vnd.jupyter.widget-state+json": {
        "008f2879c1c64c8383d5e081d1fbb747": {
          "model_module": "@jupyter-widgets/controls",
          "model_module_version": "1.5.0",
          "model_name": "DescriptionStyleModel",
          "state": {
            "_model_module": "@jupyter-widgets/controls",
            "_model_module_version": "1.5.0",
            "_model_name": "DescriptionStyleModel",
            "_view_count": null,
            "_view_module": "@jupyter-widgets/base",
            "_view_module_version": "1.2.0",
            "_view_name": "StyleView",
            "description_width": ""
          }
        },
        "020f8389852e4829896fb9b600d0f88d": {
          "model_module": "@jupyter-widgets/base",
          "model_module_version": "1.2.0",
          "model_name": "LayoutModel",
          "state": {
            "_model_module": "@jupyter-widgets/base",
            "_model_module_version": "1.2.0",
            "_model_name": "LayoutModel",
            "_view_count": null,
            "_view_module": "@jupyter-widgets/base",
            "_view_module_version": "1.2.0",
            "_view_name": "LayoutView",
            "align_content": null,
            "align_items": null,
            "align_self": null,
            "border": null,
            "bottom": null,
            "display": null,
            "flex": null,
            "flex_flow": null,
            "grid_area": null,
            "grid_auto_columns": null,
            "grid_auto_flow": null,
            "grid_auto_rows": null,
            "grid_column": null,
            "grid_gap": null,
            "grid_row": null,
            "grid_template_areas": null,
            "grid_template_columns": null,
            "grid_template_rows": null,
            "height": null,
            "justify_content": null,
            "justify_items": null,
            "left": null,
            "margin": null,
            "max_height": null,
            "max_width": null,
            "min_height": null,
            "min_width": null,
            "object_fit": null,
            "object_position": null,
            "order": null,
            "overflow": null,
            "overflow_x": null,
            "overflow_y": null,
            "padding": null,
            "right": null,
            "top": null,
            "visibility": null,
            "width": null
          }
        },
        "02142d034d014753849b788b1e58eaad": {
          "model_module": "@jupyter-widgets/base",
          "model_module_version": "1.2.0",
          "model_name": "LayoutModel",
          "state": {
            "_model_module": "@jupyter-widgets/base",
            "_model_module_version": "1.2.0",
            "_model_name": "LayoutModel",
            "_view_count": null,
            "_view_module": "@jupyter-widgets/base",
            "_view_module_version": "1.2.0",
            "_view_name": "LayoutView",
            "align_content": null,
            "align_items": null,
            "align_self": null,
            "border": null,
            "bottom": null,
            "display": null,
            "flex": null,
            "flex_flow": null,
            "grid_area": null,
            "grid_auto_columns": null,
            "grid_auto_flow": null,
            "grid_auto_rows": null,
            "grid_column": null,
            "grid_gap": null,
            "grid_row": null,
            "grid_template_areas": null,
            "grid_template_columns": null,
            "grid_template_rows": null,
            "height": null,
            "justify_content": null,
            "justify_items": null,
            "left": null,
            "margin": null,
            "max_height": null,
            "max_width": null,
            "min_height": null,
            "min_width": null,
            "object_fit": null,
            "object_position": null,
            "order": null,
            "overflow": null,
            "overflow_x": null,
            "overflow_y": null,
            "padding": null,
            "right": null,
            "top": null,
            "visibility": null,
            "width": null
          }
        },
        "0a80927782ac44be9c85614bc638fe8e": {
          "model_module": "@jupyter-widgets/controls",
          "model_module_version": "1.5.0",
          "model_name": "DescriptionStyleModel",
          "state": {
            "_model_module": "@jupyter-widgets/controls",
            "_model_module_version": "1.5.0",
            "_model_name": "DescriptionStyleModel",
            "_view_count": null,
            "_view_module": "@jupyter-widgets/base",
            "_view_module_version": "1.2.0",
            "_view_name": "StyleView",
            "description_width": ""
          }
        },
        "14e13da413b24417b747fb9153efe5f1": {
          "model_module": "@jupyter-widgets/base",
          "model_module_version": "1.2.0",
          "model_name": "LayoutModel",
          "state": {
            "_model_module": "@jupyter-widgets/base",
            "_model_module_version": "1.2.0",
            "_model_name": "LayoutModel",
            "_view_count": null,
            "_view_module": "@jupyter-widgets/base",
            "_view_module_version": "1.2.0",
            "_view_name": "LayoutView",
            "align_content": null,
            "align_items": null,
            "align_self": null,
            "border": null,
            "bottom": null,
            "display": null,
            "flex": null,
            "flex_flow": null,
            "grid_area": null,
            "grid_auto_columns": null,
            "grid_auto_flow": null,
            "grid_auto_rows": null,
            "grid_column": null,
            "grid_gap": null,
            "grid_row": null,
            "grid_template_areas": null,
            "grid_template_columns": null,
            "grid_template_rows": null,
            "height": null,
            "justify_content": null,
            "justify_items": null,
            "left": null,
            "margin": null,
            "max_height": null,
            "max_width": null,
            "min_height": null,
            "min_width": null,
            "object_fit": null,
            "object_position": null,
            "order": null,
            "overflow": null,
            "overflow_x": null,
            "overflow_y": null,
            "padding": null,
            "right": null,
            "top": null,
            "visibility": null,
            "width": null
          }
        },
        "2409a87970bf431d88864db0d52fe505": {
          "model_module": "@jupyter-widgets/controls",
          "model_module_version": "1.5.0",
          "model_name": "FloatProgressModel",
          "state": {
            "_dom_classes": [],
            "_model_module": "@jupyter-widgets/controls",
            "_model_module_version": "1.5.0",
            "_model_name": "FloatProgressModel",
            "_view_count": null,
            "_view_module": "@jupyter-widgets/controls",
            "_view_module_version": "1.5.0",
            "_view_name": "ProgressView",
            "bar_style": "success",
            "description": "",
            "description_tooltip": null,
            "layout": "IPY_MODEL_fa5e39619f194c6587837ae3bff68980",
            "max": 1648877,
            "min": 0,
            "orientation": "horizontal",
            "style": "IPY_MODEL_f27375fc47c94f00a4408afcc7d1d890",
            "value": 1648877
          }
        },
        "27615fd0107e4c3bb26950f847e33103": {
          "model_module": "@jupyter-widgets/controls",
          "model_module_version": "1.5.0",
          "model_name": "HTMLModel",
          "state": {
            "_dom_classes": [],
            "_model_module": "@jupyter-widgets/controls",
            "_model_module_version": "1.5.0",
            "_model_name": "HTMLModel",
            "_view_count": null,
            "_view_module": "@jupyter-widgets/controls",
            "_view_module_version": "1.5.0",
            "_view_name": "HTMLView",
            "description": "",
            "description_tooltip": null,
            "layout": "IPY_MODEL_9a75c2cc448248babd0bfffe772cc924",
            "placeholder": "​",
            "style": "IPY_MODEL_58ca19f4fc574e5885dff38c4d281fb5",
            "value": "100%"
          }
        },
        "307f7352173c47d3a16da00ae1e96e05": {
          "model_module": "@jupyter-widgets/base",
          "model_module_version": "1.2.0",
          "model_name": "LayoutModel",
          "state": {
            "_model_module": "@jupyter-widgets/base",
            "_model_module_version": "1.2.0",
            "_model_name": "LayoutModel",
            "_view_count": null,
            "_view_module": "@jupyter-widgets/base",
            "_view_module_version": "1.2.0",
            "_view_name": "LayoutView",
            "align_content": null,
            "align_items": null,
            "align_self": null,
            "border": null,
            "bottom": null,
            "display": null,
            "flex": null,
            "flex_flow": null,
            "grid_area": null,
            "grid_auto_columns": null,
            "grid_auto_flow": null,
            "grid_auto_rows": null,
            "grid_column": null,
            "grid_gap": null,
            "grid_row": null,
            "grid_template_areas": null,
            "grid_template_columns": null,
            "grid_template_rows": null,
            "height": null,
            "justify_content": null,
            "justify_items": null,
            "left": null,
            "margin": null,
            "max_height": null,
            "max_width": null,
            "min_height": null,
            "min_width": null,
            "object_fit": null,
            "object_position": null,
            "order": null,
            "overflow": null,
            "overflow_x": null,
            "overflow_y": null,
            "padding": null,
            "right": null,
            "top": null,
            "visibility": null,
            "width": null
          }
        },
        "32b301ec5f2b431a99a5eec6bcdf797c": {
          "model_module": "@jupyter-widgets/controls",
          "model_module_version": "1.5.0",
          "model_name": "DescriptionStyleModel",
          "state": {
            "_model_module": "@jupyter-widgets/controls",
            "_model_module_version": "1.5.0",
            "_model_name": "DescriptionStyleModel",
            "_view_count": null,
            "_view_module": "@jupyter-widgets/base",
            "_view_module_version": "1.2.0",
            "_view_name": "StyleView",
            "description_width": ""
          }
        },
        "35b4369ad30544e8b904d517bcbc4706": {
          "model_module": "@jupyter-widgets/base",
          "model_module_version": "1.2.0",
          "model_name": "LayoutModel",
          "state": {
            "_model_module": "@jupyter-widgets/base",
            "_model_module_version": "1.2.0",
            "_model_name": "LayoutModel",
            "_view_count": null,
            "_view_module": "@jupyter-widgets/base",
            "_view_module_version": "1.2.0",
            "_view_name": "LayoutView",
            "align_content": null,
            "align_items": null,
            "align_self": null,
            "border": null,
            "bottom": null,
            "display": null,
            "flex": null,
            "flex_flow": null,
            "grid_area": null,
            "grid_auto_columns": null,
            "grid_auto_flow": null,
            "grid_auto_rows": null,
            "grid_column": null,
            "grid_gap": null,
            "grid_row": null,
            "grid_template_areas": null,
            "grid_template_columns": null,
            "grid_template_rows": null,
            "height": null,
            "justify_content": null,
            "justify_items": null,
            "left": null,
            "margin": null,
            "max_height": null,
            "max_width": null,
            "min_height": null,
            "min_width": null,
            "object_fit": null,
            "object_position": null,
            "order": null,
            "overflow": null,
            "overflow_x": null,
            "overflow_y": null,
            "padding": null,
            "right": null,
            "top": null,
            "visibility": null,
            "width": null
          }
        },
        "361b9318d438428aa9798a55802efd35": {
          "model_module": "@jupyter-widgets/controls",
          "model_module_version": "1.5.0",
          "model_name": "FloatProgressModel",
          "state": {
            "_dom_classes": [],
            "_model_module": "@jupyter-widgets/controls",
            "_model_module_version": "1.5.0",
            "_model_name": "FloatProgressModel",
            "_view_count": null,
            "_view_module": "@jupyter-widgets/controls",
            "_view_module_version": "1.5.0",
            "_view_name": "ProgressView",
            "bar_style": "success",
            "description": "",
            "description_tooltip": null,
            "layout": "IPY_MODEL_48997e276674475cb50015aba3612336",
            "max": 4542,
            "min": 0,
            "orientation": "horizontal",
            "style": "IPY_MODEL_61562abf1ec34d6683ad3b6fe950565e",
            "value": 4542
          }
        },
        "3f08cdeecf8e4238a9889c6c86facdbe": {
          "model_module": "@jupyter-widgets/base",
          "model_module_version": "1.2.0",
          "model_name": "LayoutModel",
          "state": {
            "_model_module": "@jupyter-widgets/base",
            "_model_module_version": "1.2.0",
            "_model_name": "LayoutModel",
            "_view_count": null,
            "_view_module": "@jupyter-widgets/base",
            "_view_module_version": "1.2.0",
            "_view_name": "LayoutView",
            "align_content": null,
            "align_items": null,
            "align_self": null,
            "border": null,
            "bottom": null,
            "display": null,
            "flex": null,
            "flex_flow": null,
            "grid_area": null,
            "grid_auto_columns": null,
            "grid_auto_flow": null,
            "grid_auto_rows": null,
            "grid_column": null,
            "grid_gap": null,
            "grid_row": null,
            "grid_template_areas": null,
            "grid_template_columns": null,
            "grid_template_rows": null,
            "height": null,
            "justify_content": null,
            "justify_items": null,
            "left": null,
            "margin": null,
            "max_height": null,
            "max_width": null,
            "min_height": null,
            "min_width": null,
            "object_fit": null,
            "object_position": null,
            "order": null,
            "overflow": null,
            "overflow_x": null,
            "overflow_y": null,
            "padding": null,
            "right": null,
            "top": null,
            "visibility": null,
            "width": null
          }
        },
        "416d809e999049aa8f9589a886019feb": {
          "model_module": "@jupyter-widgets/base",
          "model_module_version": "1.2.0",
          "model_name": "LayoutModel",
          "state": {
            "_model_module": "@jupyter-widgets/base",
            "_model_module_version": "1.2.0",
            "_model_name": "LayoutModel",
            "_view_count": null,
            "_view_module": "@jupyter-widgets/base",
            "_view_module_version": "1.2.0",
            "_view_name": "LayoutView",
            "align_content": null,
            "align_items": null,
            "align_self": null,
            "border": null,
            "bottom": null,
            "display": null,
            "flex": null,
            "flex_flow": null,
            "grid_area": null,
            "grid_auto_columns": null,
            "grid_auto_flow": null,
            "grid_auto_rows": null,
            "grid_column": null,
            "grid_gap": null,
            "grid_row": null,
            "grid_template_areas": null,
            "grid_template_columns": null,
            "grid_template_rows": null,
            "height": null,
            "justify_content": null,
            "justify_items": null,
            "left": null,
            "margin": null,
            "max_height": null,
            "max_width": null,
            "min_height": null,
            "min_width": null,
            "object_fit": null,
            "object_position": null,
            "order": null,
            "overflow": null,
            "overflow_x": null,
            "overflow_y": null,
            "padding": null,
            "right": null,
            "top": null,
            "visibility": null,
            "width": null
          }
        },
        "48997e276674475cb50015aba3612336": {
          "model_module": "@jupyter-widgets/base",
          "model_module_version": "1.2.0",
          "model_name": "LayoutModel",
          "state": {
            "_model_module": "@jupyter-widgets/base",
            "_model_module_version": "1.2.0",
            "_model_name": "LayoutModel",
            "_view_count": null,
            "_view_module": "@jupyter-widgets/base",
            "_view_module_version": "1.2.0",
            "_view_name": "LayoutView",
            "align_content": null,
            "align_items": null,
            "align_self": null,
            "border": null,
            "bottom": null,
            "display": null,
            "flex": null,
            "flex_flow": null,
            "grid_area": null,
            "grid_auto_columns": null,
            "grid_auto_flow": null,
            "grid_auto_rows": null,
            "grid_column": null,
            "grid_gap": null,
            "grid_row": null,
            "grid_template_areas": null,
            "grid_template_columns": null,
            "grid_template_rows": null,
            "height": null,
            "justify_content": null,
            "justify_items": null,
            "left": null,
            "margin": null,
            "max_height": null,
            "max_width": null,
            "min_height": null,
            "min_width": null,
            "object_fit": null,
            "object_position": null,
            "order": null,
            "overflow": null,
            "overflow_x": null,
            "overflow_y": null,
            "padding": null,
            "right": null,
            "top": null,
            "visibility": null,
            "width": null
          }
        },
        "532d2ff60ed5419fb6681c900cdfd8ba": {
          "model_module": "@jupyter-widgets/controls",
          "model_module_version": "1.5.0",
          "model_name": "HTMLModel",
          "state": {
            "_dom_classes": [],
            "_model_module": "@jupyter-widgets/controls",
            "_model_module_version": "1.5.0",
            "_model_name": "HTMLModel",
            "_view_count": null,
            "_view_module": "@jupyter-widgets/controls",
            "_view_module_version": "1.5.0",
            "_view_name": "HTMLView",
            "description": "",
            "description_tooltip": null,
            "layout": "IPY_MODEL_abecd75f190e418a934d8aadc853d769",
            "placeholder": "​",
            "style": "IPY_MODEL_0a80927782ac44be9c85614bc638fe8e",
            "value": " 4542/4542 [00:00&lt;00:00, 213444.13it/s]"
          }
        },
        "583c068a89014ca3a3c59e4e5ab06916": {
          "model_module": "@jupyter-widgets/controls",
          "model_module_version": "1.5.0",
          "model_name": "HTMLModel",
          "state": {
            "_dom_classes": [],
            "_model_module": "@jupyter-widgets/controls",
            "_model_module_version": "1.5.0",
            "_model_name": "HTMLModel",
            "_view_count": null,
            "_view_module": "@jupyter-widgets/controls",
            "_view_module_version": "1.5.0",
            "_view_name": "HTMLView",
            "description": "",
            "description_tooltip": null,
            "layout": "IPY_MODEL_9698b098ed454ea6b5a7f92ae60e095c",
            "placeholder": "​",
            "style": "IPY_MODEL_fc021976238241c7bf99e2f3f97adcb2",
            "value": " 28881/28881 [00:00&lt;00:00, 1055952.42it/s]"
          }
        },
        "58ca19f4fc574e5885dff38c4d281fb5": {
          "model_module": "@jupyter-widgets/controls",
          "model_module_version": "1.5.0",
          "model_name": "DescriptionStyleModel",
          "state": {
            "_model_module": "@jupyter-widgets/controls",
            "_model_module_version": "1.5.0",
            "_model_name": "DescriptionStyleModel",
            "_view_count": null,
            "_view_module": "@jupyter-widgets/base",
            "_view_module_version": "1.2.0",
            "_view_name": "StyleView",
            "description_width": ""
          }
        },
        "59e36c78f2b04f3686fa124a2e2f4a56": {
          "model_module": "@jupyter-widgets/controls",
          "model_module_version": "1.5.0",
          "model_name": "HBoxModel",
          "state": {
            "_dom_classes": [],
            "_model_module": "@jupyter-widgets/controls",
            "_model_module_version": "1.5.0",
            "_model_name": "HBoxModel",
            "_view_count": null,
            "_view_module": "@jupyter-widgets/controls",
            "_view_module_version": "1.5.0",
            "_view_name": "HBoxView",
            "box_style": "",
            "children": [
              "IPY_MODEL_c5d3571397074cb584b4388414a91d15",
              "IPY_MODEL_2409a87970bf431d88864db0d52fe505",
              "IPY_MODEL_c977ec57f40648bf83ff44ff20c7aeb4"
            ],
            "layout": "IPY_MODEL_5af1567d39cf49d1be9d4e9b301fb937"
          }
        },
        "59e72f6cd9874a73bb2d75688e296031": {
          "model_module": "@jupyter-widgets/controls",
          "model_module_version": "1.5.0",
          "model_name": "HBoxModel",
          "state": {
            "_dom_classes": [],
            "_model_module": "@jupyter-widgets/controls",
            "_model_module_version": "1.5.0",
            "_model_name": "HBoxModel",
            "_view_count": null,
            "_view_module": "@jupyter-widgets/controls",
            "_view_module_version": "1.5.0",
            "_view_name": "HBoxView",
            "box_style": "",
            "children": [
              "IPY_MODEL_27615fd0107e4c3bb26950f847e33103",
              "IPY_MODEL_ce3e077f0ed74c02bdd737d08af04a77",
              "IPY_MODEL_af00435f7af54f05bc13ed7b8958eb65"
            ],
            "layout": "IPY_MODEL_14e13da413b24417b747fb9153efe5f1"
          }
        },
        "5af1567d39cf49d1be9d4e9b301fb937": {
          "model_module": "@jupyter-widgets/base",
          "model_module_version": "1.2.0",
          "model_name": "LayoutModel",
          "state": {
            "_model_module": "@jupyter-widgets/base",
            "_model_module_version": "1.2.0",
            "_model_name": "LayoutModel",
            "_view_count": null,
            "_view_module": "@jupyter-widgets/base",
            "_view_module_version": "1.2.0",
            "_view_name": "LayoutView",
            "align_content": null,
            "align_items": null,
            "align_self": null,
            "border": null,
            "bottom": null,
            "display": null,
            "flex": null,
            "flex_flow": null,
            "grid_area": null,
            "grid_auto_columns": null,
            "grid_auto_flow": null,
            "grid_auto_rows": null,
            "grid_column": null,
            "grid_gap": null,
            "grid_row": null,
            "grid_template_areas": null,
            "grid_template_columns": null,
            "grid_template_rows": null,
            "height": null,
            "justify_content": null,
            "justify_items": null,
            "left": null,
            "margin": null,
            "max_height": null,
            "max_width": null,
            "min_height": null,
            "min_width": null,
            "object_fit": null,
            "object_position": null,
            "order": null,
            "overflow": null,
            "overflow_x": null,
            "overflow_y": null,
            "padding": null,
            "right": null,
            "top": null,
            "visibility": null,
            "width": null
          }
        },
        "5fb4901aa7654ac0a21ce0d0efbcc6a1": {
          "model_module": "@jupyter-widgets/controls",
          "model_module_version": "1.5.0",
          "model_name": "FloatProgressModel",
          "state": {
            "_dom_classes": [],
            "_model_module": "@jupyter-widgets/controls",
            "_model_module_version": "1.5.0",
            "_model_name": "FloatProgressModel",
            "_view_count": null,
            "_view_module": "@jupyter-widgets/controls",
            "_view_module_version": "1.5.0",
            "_view_name": "ProgressView",
            "bar_style": "success",
            "description": "",
            "description_tooltip": null,
            "layout": "IPY_MODEL_b4d25450535343aca08d922a6a6554f4",
            "max": 28881,
            "min": 0,
            "orientation": "horizontal",
            "style": "IPY_MODEL_9124e98a4482489fb97fff520045be39",
            "value": 28881
          }
        },
        "61562abf1ec34d6683ad3b6fe950565e": {
          "model_module": "@jupyter-widgets/controls",
          "model_module_version": "1.5.0",
          "model_name": "ProgressStyleModel",
          "state": {
            "_model_module": "@jupyter-widgets/controls",
            "_model_module_version": "1.5.0",
            "_model_name": "ProgressStyleModel",
            "_view_count": null,
            "_view_module": "@jupyter-widgets/base",
            "_view_module_version": "1.2.0",
            "_view_name": "StyleView",
            "bar_color": null,
            "description_width": ""
          }
        },
        "61b21ecce71646659edae4cf287dd6d9": {
          "model_module": "@jupyter-widgets/controls",
          "model_module_version": "1.5.0",
          "model_name": "HTMLModel",
          "state": {
            "_dom_classes": [],
            "_model_module": "@jupyter-widgets/controls",
            "_model_module_version": "1.5.0",
            "_model_name": "HTMLModel",
            "_view_count": null,
            "_view_module": "@jupyter-widgets/controls",
            "_view_module_version": "1.5.0",
            "_view_name": "HTMLView",
            "description": "",
            "description_tooltip": null,
            "layout": "IPY_MODEL_7b414c3bbe014fb382bbe7da317cd2b8",
            "placeholder": "​",
            "style": "IPY_MODEL_869f9812dc4144fda05f72ae2cfb57fd",
            "value": "100%"
          }
        },
        "7b414c3bbe014fb382bbe7da317cd2b8": {
          "model_module": "@jupyter-widgets/base",
          "model_module_version": "1.2.0",
          "model_name": "LayoutModel",
          "state": {
            "_model_module": "@jupyter-widgets/base",
            "_model_module_version": "1.2.0",
            "_model_name": "LayoutModel",
            "_view_count": null,
            "_view_module": "@jupyter-widgets/base",
            "_view_module_version": "1.2.0",
            "_view_name": "LayoutView",
            "align_content": null,
            "align_items": null,
            "align_self": null,
            "border": null,
            "bottom": null,
            "display": null,
            "flex": null,
            "flex_flow": null,
            "grid_area": null,
            "grid_auto_columns": null,
            "grid_auto_flow": null,
            "grid_auto_rows": null,
            "grid_column": null,
            "grid_gap": null,
            "grid_row": null,
            "grid_template_areas": null,
            "grid_template_columns": null,
            "grid_template_rows": null,
            "height": null,
            "justify_content": null,
            "justify_items": null,
            "left": null,
            "margin": null,
            "max_height": null,
            "max_width": null,
            "min_height": null,
            "min_width": null,
            "object_fit": null,
            "object_position": null,
            "order": null,
            "overflow": null,
            "overflow_x": null,
            "overflow_y": null,
            "padding": null,
            "right": null,
            "top": null,
            "visibility": null,
            "width": null
          }
        },
        "869f9812dc4144fda05f72ae2cfb57fd": {
          "model_module": "@jupyter-widgets/controls",
          "model_module_version": "1.5.0",
          "model_name": "DescriptionStyleModel",
          "state": {
            "_model_module": "@jupyter-widgets/controls",
            "_model_module_version": "1.5.0",
            "_model_name": "DescriptionStyleModel",
            "_view_count": null,
            "_view_module": "@jupyter-widgets/base",
            "_view_module_version": "1.2.0",
            "_view_name": "StyleView",
            "description_width": ""
          }
        },
        "9124e98a4482489fb97fff520045be39": {
          "model_module": "@jupyter-widgets/controls",
          "model_module_version": "1.5.0",
          "model_name": "ProgressStyleModel",
          "state": {
            "_model_module": "@jupyter-widgets/controls",
            "_model_module_version": "1.5.0",
            "_model_name": "ProgressStyleModel",
            "_view_count": null,
            "_view_module": "@jupyter-widgets/base",
            "_view_module_version": "1.2.0",
            "_view_name": "StyleView",
            "bar_color": null,
            "description_width": ""
          }
        },
        "93f8b43324844023aa055ca8ceb6b287": {
          "model_module": "@jupyter-widgets/controls",
          "model_module_version": "1.5.0",
          "model_name": "ProgressStyleModel",
          "state": {
            "_model_module": "@jupyter-widgets/controls",
            "_model_module_version": "1.5.0",
            "_model_name": "ProgressStyleModel",
            "_view_count": null,
            "_view_module": "@jupyter-widgets/base",
            "_view_module_version": "1.2.0",
            "_view_name": "StyleView",
            "bar_color": null,
            "description_width": ""
          }
        },
        "9698b098ed454ea6b5a7f92ae60e095c": {
          "model_module": "@jupyter-widgets/base",
          "model_module_version": "1.2.0",
          "model_name": "LayoutModel",
          "state": {
            "_model_module": "@jupyter-widgets/base",
            "_model_module_version": "1.2.0",
            "_model_name": "LayoutModel",
            "_view_count": null,
            "_view_module": "@jupyter-widgets/base",
            "_view_module_version": "1.2.0",
            "_view_name": "LayoutView",
            "align_content": null,
            "align_items": null,
            "align_self": null,
            "border": null,
            "bottom": null,
            "display": null,
            "flex": null,
            "flex_flow": null,
            "grid_area": null,
            "grid_auto_columns": null,
            "grid_auto_flow": null,
            "grid_auto_rows": null,
            "grid_column": null,
            "grid_gap": null,
            "grid_row": null,
            "grid_template_areas": null,
            "grid_template_columns": null,
            "grid_template_rows": null,
            "height": null,
            "justify_content": null,
            "justify_items": null,
            "left": null,
            "margin": null,
            "max_height": null,
            "max_width": null,
            "min_height": null,
            "min_width": null,
            "object_fit": null,
            "object_position": null,
            "order": null,
            "overflow": null,
            "overflow_x": null,
            "overflow_y": null,
            "padding": null,
            "right": null,
            "top": null,
            "visibility": null,
            "width": null
          }
        },
        "9a75c2cc448248babd0bfffe772cc924": {
          "model_module": "@jupyter-widgets/base",
          "model_module_version": "1.2.0",
          "model_name": "LayoutModel",
          "state": {
            "_model_module": "@jupyter-widgets/base",
            "_model_module_version": "1.2.0",
            "_model_name": "LayoutModel",
            "_view_count": null,
            "_view_module": "@jupyter-widgets/base",
            "_view_module_version": "1.2.0",
            "_view_name": "LayoutView",
            "align_content": null,
            "align_items": null,
            "align_self": null,
            "border": null,
            "bottom": null,
            "display": null,
            "flex": null,
            "flex_flow": null,
            "grid_area": null,
            "grid_auto_columns": null,
            "grid_auto_flow": null,
            "grid_auto_rows": null,
            "grid_column": null,
            "grid_gap": null,
            "grid_row": null,
            "grid_template_areas": null,
            "grid_template_columns": null,
            "grid_template_rows": null,
            "height": null,
            "justify_content": null,
            "justify_items": null,
            "left": null,
            "margin": null,
            "max_height": null,
            "max_width": null,
            "min_height": null,
            "min_width": null,
            "object_fit": null,
            "object_position": null,
            "order": null,
            "overflow": null,
            "overflow_x": null,
            "overflow_y": null,
            "padding": null,
            "right": null,
            "top": null,
            "visibility": null,
            "width": null
          }
        },
        "a21d8abdb6a84773bc0fcfba7a02dfeb": {
          "model_module": "@jupyter-widgets/controls",
          "model_module_version": "1.5.0",
          "model_name": "HBoxModel",
          "state": {
            "_dom_classes": [],
            "_model_module": "@jupyter-widgets/controls",
            "_model_module_version": "1.5.0",
            "_model_name": "HBoxModel",
            "_view_count": null,
            "_view_module": "@jupyter-widgets/controls",
            "_view_module_version": "1.5.0",
            "_view_name": "HBoxView",
            "box_style": "",
            "children": [
              "IPY_MODEL_61b21ecce71646659edae4cf287dd6d9",
              "IPY_MODEL_361b9318d438428aa9798a55802efd35",
              "IPY_MODEL_532d2ff60ed5419fb6681c900cdfd8ba"
            ],
            "layout": "IPY_MODEL_35b4369ad30544e8b904d517bcbc4706"
          }
        },
        "abecd75f190e418a934d8aadc853d769": {
          "model_module": "@jupyter-widgets/base",
          "model_module_version": "1.2.0",
          "model_name": "LayoutModel",
          "state": {
            "_model_module": "@jupyter-widgets/base",
            "_model_module_version": "1.2.0",
            "_model_name": "LayoutModel",
            "_view_count": null,
            "_view_module": "@jupyter-widgets/base",
            "_view_module_version": "1.2.0",
            "_view_name": "LayoutView",
            "align_content": null,
            "align_items": null,
            "align_self": null,
            "border": null,
            "bottom": null,
            "display": null,
            "flex": null,
            "flex_flow": null,
            "grid_area": null,
            "grid_auto_columns": null,
            "grid_auto_flow": null,
            "grid_auto_rows": null,
            "grid_column": null,
            "grid_gap": null,
            "grid_row": null,
            "grid_template_areas": null,
            "grid_template_columns": null,
            "grid_template_rows": null,
            "height": null,
            "justify_content": null,
            "justify_items": null,
            "left": null,
            "margin": null,
            "max_height": null,
            "max_width": null,
            "min_height": null,
            "min_width": null,
            "object_fit": null,
            "object_position": null,
            "order": null,
            "overflow": null,
            "overflow_x": null,
            "overflow_y": null,
            "padding": null,
            "right": null,
            "top": null,
            "visibility": null,
            "width": null
          }
        },
        "af00435f7af54f05bc13ed7b8958eb65": {
          "model_module": "@jupyter-widgets/controls",
          "model_module_version": "1.5.0",
          "model_name": "HTMLModel",
          "state": {
            "_dom_classes": [],
            "_model_module": "@jupyter-widgets/controls",
            "_model_module_version": "1.5.0",
            "_model_name": "HTMLModel",
            "_view_count": null,
            "_view_module": "@jupyter-widgets/controls",
            "_view_module_version": "1.5.0",
            "_view_name": "HTMLView",
            "description": "",
            "description_tooltip": null,
            "layout": "IPY_MODEL_3f08cdeecf8e4238a9889c6c86facdbe",
            "placeholder": "​",
            "style": "IPY_MODEL_008f2879c1c64c8383d5e081d1fbb747",
            "value": " 9912422/9912422 [00:00&lt;00:00, 169952055.51it/s]"
          }
        },
        "b34d89a4263f4e0d8a246a5929303af0": {
          "model_module": "@jupyter-widgets/controls",
          "model_module_version": "1.5.0",
          "model_name": "DescriptionStyleModel",
          "state": {
            "_model_module": "@jupyter-widgets/controls",
            "_model_module_version": "1.5.0",
            "_model_name": "DescriptionStyleModel",
            "_view_count": null,
            "_view_module": "@jupyter-widgets/base",
            "_view_module_version": "1.2.0",
            "_view_name": "StyleView",
            "description_width": ""
          }
        },
        "b4d25450535343aca08d922a6a6554f4": {
          "model_module": "@jupyter-widgets/base",
          "model_module_version": "1.2.0",
          "model_name": "LayoutModel",
          "state": {
            "_model_module": "@jupyter-widgets/base",
            "_model_module_version": "1.2.0",
            "_model_name": "LayoutModel",
            "_view_count": null,
            "_view_module": "@jupyter-widgets/base",
            "_view_module_version": "1.2.0",
            "_view_name": "LayoutView",
            "align_content": null,
            "align_items": null,
            "align_self": null,
            "border": null,
            "bottom": null,
            "display": null,
            "flex": null,
            "flex_flow": null,
            "grid_area": null,
            "grid_auto_columns": null,
            "grid_auto_flow": null,
            "grid_auto_rows": null,
            "grid_column": null,
            "grid_gap": null,
            "grid_row": null,
            "grid_template_areas": null,
            "grid_template_columns": null,
            "grid_template_rows": null,
            "height": null,
            "justify_content": null,
            "justify_items": null,
            "left": null,
            "margin": null,
            "max_height": null,
            "max_width": null,
            "min_height": null,
            "min_width": null,
            "object_fit": null,
            "object_position": null,
            "order": null,
            "overflow": null,
            "overflow_x": null,
            "overflow_y": null,
            "padding": null,
            "right": null,
            "top": null,
            "visibility": null,
            "width": null
          }
        },
        "c3ca4f2b965947be889824078115197c": {
          "model_module": "@jupyter-widgets/base",
          "model_module_version": "1.2.0",
          "model_name": "LayoutModel",
          "state": {
            "_model_module": "@jupyter-widgets/base",
            "_model_module_version": "1.2.0",
            "_model_name": "LayoutModel",
            "_view_count": null,
            "_view_module": "@jupyter-widgets/base",
            "_view_module_version": "1.2.0",
            "_view_name": "LayoutView",
            "align_content": null,
            "align_items": null,
            "align_self": null,
            "border": null,
            "bottom": null,
            "display": null,
            "flex": null,
            "flex_flow": null,
            "grid_area": null,
            "grid_auto_columns": null,
            "grid_auto_flow": null,
            "grid_auto_rows": null,
            "grid_column": null,
            "grid_gap": null,
            "grid_row": null,
            "grid_template_areas": null,
            "grid_template_columns": null,
            "grid_template_rows": null,
            "height": null,
            "justify_content": null,
            "justify_items": null,
            "left": null,
            "margin": null,
            "max_height": null,
            "max_width": null,
            "min_height": null,
            "min_width": null,
            "object_fit": null,
            "object_position": null,
            "order": null,
            "overflow": null,
            "overflow_x": null,
            "overflow_y": null,
            "padding": null,
            "right": null,
            "top": null,
            "visibility": null,
            "width": null
          }
        },
        "c5d3571397074cb584b4388414a91d15": {
          "model_module": "@jupyter-widgets/controls",
          "model_module_version": "1.5.0",
          "model_name": "HTMLModel",
          "state": {
            "_dom_classes": [],
            "_model_module": "@jupyter-widgets/controls",
            "_model_module_version": "1.5.0",
            "_model_name": "HTMLModel",
            "_view_count": null,
            "_view_module": "@jupyter-widgets/controls",
            "_view_module_version": "1.5.0",
            "_view_name": "HTMLView",
            "description": "",
            "description_tooltip": null,
            "layout": "IPY_MODEL_416d809e999049aa8f9589a886019feb",
            "placeholder": "​",
            "style": "IPY_MODEL_ff4bba8f36ff4842a17dc830ab576f08",
            "value": "100%"
          }
        },
        "c63898a34d184dfbbdea1df4250f6b48": {
          "model_module": "@jupyter-widgets/controls",
          "model_module_version": "1.5.0",
          "model_name": "HBoxModel",
          "state": {
            "_dom_classes": [],
            "_model_module": "@jupyter-widgets/controls",
            "_model_module_version": "1.5.0",
            "_model_name": "HBoxModel",
            "_view_count": null,
            "_view_module": "@jupyter-widgets/controls",
            "_view_module_version": "1.5.0",
            "_view_name": "HBoxView",
            "box_style": "",
            "children": [
              "IPY_MODEL_fac903bbf11b4eaa89bd8cb0a22f490c",
              "IPY_MODEL_5fb4901aa7654ac0a21ce0d0efbcc6a1",
              "IPY_MODEL_583c068a89014ca3a3c59e4e5ab06916"
            ],
            "layout": "IPY_MODEL_020f8389852e4829896fb9b600d0f88d"
          }
        },
        "c977ec57f40648bf83ff44ff20c7aeb4": {
          "model_module": "@jupyter-widgets/controls",
          "model_module_version": "1.5.0",
          "model_name": "HTMLModel",
          "state": {
            "_dom_classes": [],
            "_model_module": "@jupyter-widgets/controls",
            "_model_module_version": "1.5.0",
            "_model_name": "HTMLModel",
            "_view_count": null,
            "_view_module": "@jupyter-widgets/controls",
            "_view_module_version": "1.5.0",
            "_view_name": "HTMLView",
            "description": "",
            "description_tooltip": null,
            "layout": "IPY_MODEL_02142d034d014753849b788b1e58eaad",
            "placeholder": "​",
            "style": "IPY_MODEL_32b301ec5f2b431a99a5eec6bcdf797c",
            "value": " 1648877/1648877 [00:00&lt;00:00, 55405141.61it/s]"
          }
        },
        "ce3e077f0ed74c02bdd737d08af04a77": {
          "model_module": "@jupyter-widgets/controls",
          "model_module_version": "1.5.0",
          "model_name": "FloatProgressModel",
          "state": {
            "_dom_classes": [],
            "_model_module": "@jupyter-widgets/controls",
            "_model_module_version": "1.5.0",
            "_model_name": "FloatProgressModel",
            "_view_count": null,
            "_view_module": "@jupyter-widgets/controls",
            "_view_module_version": "1.5.0",
            "_view_name": "ProgressView",
            "bar_style": "success",
            "description": "",
            "description_tooltip": null,
            "layout": "IPY_MODEL_307f7352173c47d3a16da00ae1e96e05",
            "max": 9912422,
            "min": 0,
            "orientation": "horizontal",
            "style": "IPY_MODEL_93f8b43324844023aa055ca8ceb6b287",
            "value": 9912422
          }
        },
        "f27375fc47c94f00a4408afcc7d1d890": {
          "model_module": "@jupyter-widgets/controls",
          "model_module_version": "1.5.0",
          "model_name": "ProgressStyleModel",
          "state": {
            "_model_module": "@jupyter-widgets/controls",
            "_model_module_version": "1.5.0",
            "_model_name": "ProgressStyleModel",
            "_view_count": null,
            "_view_module": "@jupyter-widgets/base",
            "_view_module_version": "1.2.0",
            "_view_name": "StyleView",
            "bar_color": null,
            "description_width": ""
          }
        },
        "fa5e39619f194c6587837ae3bff68980": {
          "model_module": "@jupyter-widgets/base",
          "model_module_version": "1.2.0",
          "model_name": "LayoutModel",
          "state": {
            "_model_module": "@jupyter-widgets/base",
            "_model_module_version": "1.2.0",
            "_model_name": "LayoutModel",
            "_view_count": null,
            "_view_module": "@jupyter-widgets/base",
            "_view_module_version": "1.2.0",
            "_view_name": "LayoutView",
            "align_content": null,
            "align_items": null,
            "align_self": null,
            "border": null,
            "bottom": null,
            "display": null,
            "flex": null,
            "flex_flow": null,
            "grid_area": null,
            "grid_auto_columns": null,
            "grid_auto_flow": null,
            "grid_auto_rows": null,
            "grid_column": null,
            "grid_gap": null,
            "grid_row": null,
            "grid_template_areas": null,
            "grid_template_columns": null,
            "grid_template_rows": null,
            "height": null,
            "justify_content": null,
            "justify_items": null,
            "left": null,
            "margin": null,
            "max_height": null,
            "max_width": null,
            "min_height": null,
            "min_width": null,
            "object_fit": null,
            "object_position": null,
            "order": null,
            "overflow": null,
            "overflow_x": null,
            "overflow_y": null,
            "padding": null,
            "right": null,
            "top": null,
            "visibility": null,
            "width": null
          }
        },
        "fac903bbf11b4eaa89bd8cb0a22f490c": {
          "model_module": "@jupyter-widgets/controls",
          "model_module_version": "1.5.0",
          "model_name": "HTMLModel",
          "state": {
            "_dom_classes": [],
            "_model_module": "@jupyter-widgets/controls",
            "_model_module_version": "1.5.0",
            "_model_name": "HTMLModel",
            "_view_count": null,
            "_view_module": "@jupyter-widgets/controls",
            "_view_module_version": "1.5.0",
            "_view_name": "HTMLView",
            "description": "",
            "description_tooltip": null,
            "layout": "IPY_MODEL_c3ca4f2b965947be889824078115197c",
            "placeholder": "​",
            "style": "IPY_MODEL_b34d89a4263f4e0d8a246a5929303af0",
            "value": "100%"
          }
        },
        "fc021976238241c7bf99e2f3f97adcb2": {
          "model_module": "@jupyter-widgets/controls",
          "model_module_version": "1.5.0",
          "model_name": "DescriptionStyleModel",
          "state": {
            "_model_module": "@jupyter-widgets/controls",
            "_model_module_version": "1.5.0",
            "_model_name": "DescriptionStyleModel",
            "_view_count": null,
            "_view_module": "@jupyter-widgets/base",
            "_view_module_version": "1.2.0",
            "_view_name": "StyleView",
            "description_width": ""
          }
        },
        "ff4bba8f36ff4842a17dc830ab576f08": {
          "model_module": "@jupyter-widgets/controls",
          "model_module_version": "1.5.0",
          "model_name": "DescriptionStyleModel",
          "state": {
            "_model_module": "@jupyter-widgets/controls",
            "_model_module_version": "1.5.0",
            "_model_name": "DescriptionStyleModel",
            "_view_count": null,
            "_view_module": "@jupyter-widgets/base",
            "_view_module_version": "1.2.0",
            "_view_name": "StyleView",
            "description_width": ""
          }
        }
      }
    }
  },
  "nbformat": 4,
  "nbformat_minor": 0
}
